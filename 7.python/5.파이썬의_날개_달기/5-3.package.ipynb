{
 "cells": [
  {
   "attachments": {},
   "cell_type": "markdown",
   "metadata": {},
   "source": [
    "5-3. 패키지\n",
    "\n",
    "    파이썬 패키지는 디렉토리와 파이썬 모듈로 이뤄진다.\n",
    "'''\n",
    "    game/\n",
    "    __init__.py\n",
    "    sound/\n",
    "        __init__.py\n",
    "        echo.py\n",
    "        wav.py\n",
    "    graphic/\n",
    "        __init__.py\n",
    "        screen.py\n",
    "        render.py\n",
    "    play/\n",
    "        __init__.py\n",
    "        run.py\n",
    "        test.py\n",
    "'''\n",
    "\n",
    "패키지 구조로 파이썬 프로ㅡ램을 만드는 것이 공동 작업이나 유지 보수 등에 여러면에 유리하다."
   ]
  },
  {
   "cell_type": "code",
   "execution_count": 1,
   "metadata": {},
   "outputs": [
    {
     "data": {
      "text/plain": [
       "'\\n    game/\\n    __init__.py\\n    sound/\\n        __init__.py\\n        echo.py\\n        wav.py\\n    graphic/\\n        __init__.py\\n        screen.py\\n        render.py\\n    play/\\n        __init__.py\\n        run.py\\n        test.py\\n'"
      ]
     },
     "execution_count": 1,
     "metadata": {},
     "output_type": "execute_result"
    }
   ],
   "source": [
    "'''\n",
    "    game/\n",
    "    __init__.py\n",
    "    sound/\n",
    "        __init__.py\n",
    "        echo.py\n",
    "        wav.py\n",
    "    graphic/\n",
    "        __init__.py\n",
    "        screen.py\n",
    "        render.py\n",
    "    play/\n",
    "        __init__.py\n",
    "        run.py\n",
    "        test.py\n",
    "'''\n"
   ]
  },
  {
   "attachments": {},
   "cell_type": "markdown",
   "metadata": {},
   "source": [
    "1. 패키지 만들기\n",
    "2. 패키지 안의 함수 실행하기\n",
    "3. __init__.py의 용도\n",
    "    1. 패키지 변수 및 함수 정의\n",
    "    2. 패키지 내 모듈을 미리 import\n",
    "    3. 패키지 초기화\n",
    "    4. __all__\n",
    "4. relative 패키지"
   ]
  },
  {
   "cell_type": "code",
   "execution_count": null,
   "metadata": {},
   "outputs": [],
   "source": [
    "# 1. 패키지 만들기\n",
    "\n"
   ]
  },
  {
   "cell_type": "code",
   "execution_count": null,
   "metadata": {},
   "outputs": [],
   "source": []
  },
  {
   "attachments": {},
   "cell_type": "markdown",
   "metadata": {},
   "source": [
    "3. init.py의 용도\n",
    "\n",
    "- init.py 파일은 해당 디렉토리가 패키지의 일부임을 알려주는 역할을 함\n",
    "- game, sound, graphic 등 패키지에 포함된 디렉토리에 init.py 파일이 없다면 패키지 인식되지 않는다.\n",
    "    - 3.3 버전부터는 init 파일 없어도 패키지로 인식하긴 하나, 하위 버전 호환을 위해 파일 생성하는 것이 안전\n",
    "- init 파일은 패키지와 관련된 설정이나 초기화 코드를 포함할 수 있다.\n",
    "- 다양한 방법으로 활용할 수 있는데, 몇가지 예를 들어 살펴보자"
   ]
  },
  {
   "cell_type": "code",
   "execution_count": 9,
   "metadata": {},
   "outputs": [
    {
     "ename": "AttributeError",
     "evalue": "module 'game' has no attribute 'VERSION'",
     "output_type": "error",
     "traceback": [
      "\u001b[0;31m---------------------------------------------------------------------------\u001b[0m",
      "\u001b[0;31mAttributeError\u001b[0m                            Traceback (most recent call last)",
      "Cell \u001b[0;32mIn[9], line 7\u001b[0m\n\u001b[1;32m      1\u001b[0m \u001b[39m#3. init.py의 용도\u001b[39;00m\n\u001b[1;32m      2\u001b[0m \n\u001b[1;32m      3\u001b[0m \u001b[39m# 3.1 패키지 변수 및 함수 정의\u001b[39;00m\n\u001b[1;32m      5\u001b[0m \u001b[39mimport\u001b[39;00m \u001b[39mgame\u001b[39;00m\n\u001b[0;32m----> 7\u001b[0m \u001b[39mprint\u001b[39m(game\u001b[39m.\u001b[39;49mVERSION)\n\u001b[1;32m      9\u001b[0m game\u001b[39m.\u001b[39mprint_version_info()\n\u001b[1;32m     11\u001b[0m \u001b[39m# 3.2 패키지 내 모듈을 미리 import\u001b[39;00m\n\u001b[1;32m     12\u001b[0m \n\u001b[1;32m     13\u001b[0m \u001b[39m# game/__init__.py에\u001b[39;00m\n\u001b[1;32m     14\u001b[0m \u001b[39m# from .graphic.render import render_test\u001b[39;00m\n\u001b[1;32m     15\u001b[0m \n\u001b[1;32m     16\u001b[0m \u001b[39m# graphic 앞에 .은 현재 디렉토리를 의미한다.\u001b[39;00m\n",
      "\u001b[0;31mAttributeError\u001b[0m: module 'game' has no attribute 'VERSION'"
     ]
    }
   ],
   "source": [
    "#3. init.py의 용도\n",
    "\n",
    "# 3.1 패키지 변수 및 함수 정의\n",
    "\n",
    "import game\n",
    "\n",
    "print(game.VERSION)\n",
    "\n",
    "game.print_version_info()\n",
    "\n",
    "# 3.2 패키지 내 모듈을 미리 import\n",
    "\n",
    "# game/__init__.py에\n",
    "# from .graphic.render import render_test\n",
    "\n",
    "# graphic 앞에 .은 현재 디렉토리를 의미한다.\n",
    "\n",
    "import game\n",
    "game.render_test() \n",
    "\n",
    "# game 패키지를 통해 render_test 함수를 사용할 수 있다"
   ]
  },
  {
   "cell_type": "code",
   "execution_count": 7,
   "metadata": {},
   "outputs": [],
   "source": [
    "# 3.3 패키지 초기화\n",
    "\n",
    "# __init__.py \n",
    "# # 여기에 패키지 초기화 코드를 작성한다.\n",
    "# print(\"Initializing game ...\"\n",
    "\n",
    "import game\n",
    "from game.graphic.render import render_test\n",
    "\n",
    "# 위처럼 입력을 하면, 처음 import 할 때 초기화 코드가 실행된다.\n",
    "# game 패키지의 하위 모듈의 함수를 import 할 경웨도 실해오딘다.\n",
    "# 단, 초기화 코드는 다시 import를 수행하더라도 실행되지 않는다.\n",
    "# 예를 들면, game 패키지를 import를 한 후에, 하위 모듈을 다시 import 하더라도 초기화 코드는 처음 한번만 실행된다.\n"
   ]
  },
  {
   "cell_type": "code",
   "execution_count": 8,
   "metadata": {},
   "outputs": [
    {
     "name": "stdout",
     "output_type": "stream",
     "text": [
      "echo\n",
      "echo\n"
     ]
    }
   ],
   "source": [
    "# 3.4 __all__\n",
    "\n",
    "from game.sound import *\n",
    "\n",
    "echo.echo_test()\n",
    "\n",
    "    # 위의 코드는 실행되지 않는다.\n",
    "    # game sound 내 모든 파일을 불러왔는데 이상하지 않는가?>\n",
    "    # echo라는 이름이 정의되지 않났다는 오류가 발생했다.\n",
    "    # *을 사용하여 import할 때는 다음과 같이 해당 디렉토리의 init.py 파일에 __all__ 변수를 설정하고 import 할 수 있는 모듈 정의\n",
    "\n",
    "# sound/__init__.py\n",
    "# __all__ = ['echo']\n",
    "    # 여기에서 all이 의미하는 것은 sound 디렉토리에서 *를 사용하여 import할 경우, 이곳에 정의된 echo 모듈만 import된다는 의미이다.\n",
    "\n",
    "    # 착각하기 쉬운데, from game.sound.echo import * 은 __all__과 상관없이 import된다.\n",
    "    # 이렇게 __all__과 상관없이 무조건 import되는 경우 from a.b.c import *에서\n",
    "    # from 의 마지막 항목인 ㅊrk ahebfdls Eodlek.\n",
    "\n",
    "    # __init__.py 파일을 변경한 후 예제를 수행하면 원하는 겨로가가 출력되는 것 확인\n",
    "from game.sound import *\n",
    "\n",
    "echo.echo_test()"
   ]
  },
  {
   "cell_type": "code",
   "execution_count": null,
   "metadata": {},
   "outputs": [],
   "source": []
  }
 ],
 "metadata": {
  "kernelspec": {
   "display_name": "mlcl",
   "language": "python",
   "name": "python3"
  },
  "language_info": {
   "codemirror_mode": {
    "name": "ipython",
    "version": 3
   },
   "file_extension": ".py",
   "mimetype": "text/x-python",
   "name": "python",
   "nbconvert_exporter": "python",
   "pygments_lexer": "ipython3",
   "version": "3.8.16"
  },
  "orig_nbformat": 4
 },
 "nbformat": 4,
 "nbformat_minor": 2
}
