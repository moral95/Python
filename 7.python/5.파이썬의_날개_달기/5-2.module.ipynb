{
 "cells": [
  {
   "attachments": {},
   "cell_type": "markdown",
   "metadata": {},
   "source": [
    "모듈 만들기\n",
    "모듈 불러오기\n",
    "if __name__ == \"__main__\":의 의미\n",
    "클래스나 변수 등을 포함한 모듈\n",
    "다른 파일에서 모듈 불러오기\n",
    "다른 디렉터리에 있는 모듈을 불러오는 방법\n",
    "sys.path.append 사용하기\n",
    "PYTHONPATH 환경 변수 사용하기\n"
   ]
  },
  {
   "cell_type": "code",
   "execution_count": null,
   "metadata": {},
   "outputs": [],
   "source": [
    "# 1. 모듈 만들기\n",
    "\n",
    "# 모듈 만들었읍니다.\n",
    "\n",
    "# 2. 모듈 불러오기\n",
    "\n",
    "import mod1\n",
    "\n",
    "print(mod1.add(3,4))\n",
    "\n",
    "print(mod1.sub(4,2))\n",
    "\n",
    "    # 밖에서 mod1.py 모듈을 불러온다.\n",
    "    # add 함수를 사용하기 위해서 mod1.add처럼 모듈 이름 뒤에 도트 연산자를 붙인다.\n",
    "\n",
    "    # 때로는 mod1, add, mod1.sub\n",
    "    # add, sub처럼 모듈 이름 없이 함수 이름만 쓰고 싶은 경우\n",
    "\n",
    "# from 모듈이름 import 모듈함수\n",
    "\n",
    "from mod1 import add\n",
    "add(3,4)\n",
    "\n",
    "from mod1 import add, sub\n",
    "\n",
    "    # from 모듈이름 import 모듈함수1, 모듈함수2\n",
    "\n",
    "from mod1 import *\n",
    "    # *이라는 표현은 모든 것이라는 뜻이다.\n",
    "    # 위의 내용은 mod1 모듈의 모든 함수를 불러와 사용하겠따\n",
    "\n"
   ]
  },
  {
   "attachments": {},
   "cell_type": "markdown",
   "metadata": {},
   "source": [
    "3. if__name__ == \"__main__\":의 의미"
   ]
  },
  {
   "attachments": {},
   "cell_type": "markdown",
   "metadata": {},
   "source": [
    "4. 클래스나 변수 등을 포함한 모듈"
   ]
  },
  {
   "attachments": {},
   "cell_type": "markdown",
   "metadata": {},
   "source": [
    "5. 다른 파일에서 모듈 불러오기"
   ]
  },
  {
   "attachments": {},
   "cell_type": "markdown",
   "metadata": {},
   "source": [
    "6. 다른 디렉터리에 있는 모듈을 불러오는 방법\n",
    "    1. sys.path.append 사용하기\n",
    "    2. PYTHONPATH 환경 변수 사용하기"
   ]
  }
 ],
 "metadata": {
  "language_info": {
   "name": "python"
  },
  "orig_nbformat": 4
 },
 "nbformat": 4,
 "nbformat_minor": 2
}
