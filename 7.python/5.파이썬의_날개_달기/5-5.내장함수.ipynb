{
 "cells": [
  {
   "attachments": {},
   "cell_type": "markdown",
   "metadata": {},
   "source": [
    "파이썬 내장함수를 알아보자!"
   ]
  },
  {
   "cell_type": "code",
   "execution_count": 1,
   "metadata": {},
   "outputs": [
    {
     "data": {
      "text/plain": [
       "'\\nabs\\nall\\nany\\nchr\\ndir\\ndivmod\\nenumerate\\neval\\nfilter\\nhex\\nid\\ninput\\nint\\nisinstance\\nlen\\nlist\\nmap\\nmax\\nmin\\noct\\nopen\\nord\\npow\\nrange\\n인수가 하나일 경우\\n인수가 2개일 경우\\n인수가 3개일 경우\\nround\\nsorted\\nstr\\nsum\\ntuple\\ntype\\nzip\\n'"
      ]
     },
     "execution_count": 1,
     "metadata": {},
     "output_type": "execute_result"
    }
   ],
   "source": [
    "'''\n",
    "abs\n",
    "all\n",
    "any\n",
    "chr\n",
    "dir\n",
    "divmod\n",
    "enumerate\n",
    "eval\n",
    "filter\n",
    "hex\n",
    "id\n",
    "input\n",
    "int\n",
    "isinstance\n",
    "len\n",
    "list\n",
    "map\n",
    "max\n",
    "min\n",
    "oct\n",
    "open\n",
    "ord\n",
    "pow\n",
    "range\n",
    "인수가 하나일 경우\n",
    "인수가 2개일 경우\n",
    "인수가 3개일 경우\n",
    "round\n",
    "sorted\n",
    "str\n",
    "sum\n",
    "tuple\n",
    "type\n",
    "zip\n",
    "'''"
   ]
  },
  {
   "cell_type": "code",
   "execution_count": 2,
   "metadata": {},
   "outputs": [
    {
     "data": {
      "text/plain": [
       "1.2"
      ]
     },
     "execution_count": 2,
     "metadata": {},
     "output_type": "execute_result"
    }
   ],
   "source": [
    "# abs(x) 어떤 숫자를 입력받았을 때 그 숫자의 절댓값을 리턴하는 함수\n",
    "\n",
    "abs(3)\n",
    "\n",
    "abs(-1.2)"
   ]
  },
  {
   "cell_type": "code",
   "execution_count": 3,
   "metadata": {},
   "outputs": [
    {
     "name": "stdout",
     "output_type": "stream",
     "text": [
      "True\n",
      "False\n",
      "True\n"
     ]
    }
   ],
   "source": [
    "# all(x) : 반복 가능한 데이터 x를 입력값으로 받으며 이 x의 요소가 모두 참이면 True, 거짓이면 False 리턴한다.\n",
    "    # 반복 가능한 데이터란 for문에서 사용할 수 잇는 자료형을 의미한다.\n",
    "    # 리스트, 튜플, 문자열, 딕셔너리, 집합\n",
    "\n",
    "print(all([1,2,3]))\n",
    "print(all([1,2,3, 0]))\n",
    "print(all([]))\n"
   ]
  },
  {
   "cell_type": "code",
   "execution_count": 7,
   "metadata": {},
   "outputs": [
    {
     "name": "stdout",
     "output_type": "stream",
     "text": [
      "True\n",
      "True\n",
      "False\n",
      "False\n"
     ]
    }
   ],
   "source": [
    "# any(x) : 반복가능한 데이터 x를 입력으로 받아 x의 요소 중 하나라도 참이 있으면 true, 모두 거짓이면 False\n",
    "\n",
    "print(any([1,2,3]))\n",
    "print(any([1,2,3, 0]))\n",
    "print(any([0, \"\"]))\n",
    "print(any([]))\n",
    "\n",
    "    # 1, 2같은 경 any이기 때문에 True로 반환되었고,\n",
    "    # 3번 같은 경우 0과 빈 내용이기때문에 False\n",
    "    # 4번 같은 경우 입력 인수가 빈 값인 경우 false로 리턴"
   ]
  },
  {
   "cell_type": "code",
   "execution_count": 29,
   "metadata": {},
   "outputs": [
    {
     "name": "stdout",
     "output_type": "stream",
     "text": [
      "a\n",
      "가\n",
      "97\n",
      "44032\n"
     ]
    }
   ],
   "source": [
    "# chr(i)는 유니코드 숫자 값을 입력받아 그 코드에 해당하는 문자를 리턴하는 함수\n",
    "    \n",
    "print(chr(97))\n",
    "print(chr(44032))\n",
    "\n",
    "    # 유니코드란?\n",
    "    # 전 세계의 모든 문자를 컴퓨터에 일관되게 표현하고 다룰 수 있도록 설꼐된 산업 표준 코드\n",
    "\n",
    "# ord(c) : 문자의 유니코드 숫자 값을 리턴하는 함수\n",
    "    # chr(i) 와 반대\n",
    "print(ord('a'))\n",
    "print(ord('가'))\n"
   ]
  },
  {
   "cell_type": "code",
   "execution_count": 10,
   "metadata": {},
   "outputs": [
    {
     "name": "stdout",
     "output_type": "stream",
     "text": [
      "['__add__', '__class__', '__class_getitem__', '__contains__', '__delattr__', '__delitem__', '__dir__', '__doc__', '__eq__', '__format__', '__ge__', '__getattribute__', '__getitem__', '__gt__', '__hash__', '__iadd__', '__imul__', '__init__', '__init_subclass__', '__iter__', '__le__', '__len__', '__lt__', '__mul__', '__ne__', '__new__', '__reduce__', '__reduce_ex__', '__repr__', '__reversed__', '__rmul__', '__setattr__', '__setitem__', '__sizeof__', '__str__', '__subclasshook__', 'append', 'clear', 'copy', 'count', 'extend', 'index', 'insert', 'pop', 'remove', 'reverse', 'sort']\n",
      "['__class__', '__class_getitem__', '__contains__', '__delattr__', '__delitem__', '__dir__', '__doc__', '__eq__', '__format__', '__ge__', '__getattribute__', '__getitem__', '__gt__', '__hash__', '__init__', '__init_subclass__', '__ior__', '__iter__', '__le__', '__len__', '__lt__', '__ne__', '__new__', '__or__', '__reduce__', '__reduce_ex__', '__repr__', '__reversed__', '__ror__', '__setattr__', '__setitem__', '__sizeof__', '__str__', '__subclasshook__', 'clear', 'copy', 'fromkeys', 'get', 'items', 'keys', 'pop', 'popitem', 'setdefault', 'update', 'values']\n"
     ]
    }
   ],
   "source": [
    "# dir(x) : 객체가 지닌 변수나 함수를 보여주는 함수이다.\n",
    "# 리스트와 딕셔너리가 지닌 함수(메서드)를 보여주는 예\n",
    "\n",
    "print(dir([1,2,3]))\n",
    "print(dir({'1': 'a'}))"
   ]
  },
  {
   "cell_type": "code",
   "execution_count": 11,
   "metadata": {},
   "outputs": [
    {
     "name": "stdout",
     "output_type": "stream",
     "text": [
      "(2, 1)\n"
     ]
    }
   ],
   "source": [
    "# divmod(a,b) : 2개의 숫자 a,b를 입력으로 받는다. 그리고 a를 b로 나눈 몫과 나머지를 튜플로 리턴\n",
    "\n",
    "print(divmod(7,3))\n",
    "\n",
    "    # 튜플로 몫과 나머지를 리턴한 것을 볼 수 있다."
   ]
  },
  {
   "cell_type": "code",
   "execution_count": 12,
   "metadata": {},
   "outputs": [
    {
     "name": "stdout",
     "output_type": "stream",
     "text": [
      "0 body\n",
      "1 foo\n",
      "2 bar\n"
     ]
    }
   ],
   "source": [
    "# enumerate(x) : 열거하다\n",
    "# 순서가 있는 데이터(리스트, 튜플, 문자열)를 입력으로 받아 인덱스 값을 포함하는 enumerate 객체를 리턴한다.\n",
    "# 보통 for문과 함께 사용한다.\n",
    "\n",
    "for i, name in enumerate(['body', 'foo', 'bar']):\n",
    "    print(i, name)\n",
    "\n",
    "    # 인덱스 갑소가 함께 리스트 내용이 순서대로 출력되었다. 즉, enumerate를 for 문과 함께 사용하면 자료형의 현재 순서\n",
    "    # index와 그 값을 쉽게 알 수 있다.\n",
    "    # for 문처럼 반복되는 구간에서 객체가 현재 어느 위치에 있는지 알려주는 인덱스 값이 피룡할때\n",
    "    # enumerate를 사용하면 매우 유용"
   ]
  },
  {
   "cell_type": "code",
   "execution_count": 14,
   "metadata": {},
   "outputs": [
    {
     "name": "stdout",
     "output_type": "stream",
     "text": [
      "3\n",
      "hia\n",
      "(2, 1)\n"
     ]
    }
   ],
   "source": [
    "# eval(expression): 문자열로 구성된 표현식을 입력으로 받아 해당 문자열을 실행한 결괏값을 리턴하는 함수이다.\n",
    "\n",
    "print(eval('1+2'))\n",
    "\n",
    "print(eval('\"hi\"+\"a\"'))\n",
    "\n",
    "print(eval('divmod(7,3)'))"
   ]
  },
  {
   "cell_type": "code",
   "execution_count": 18,
   "metadata": {},
   "outputs": [
    {
     "name": "stdout",
     "output_type": "stream",
     "text": [
      "[1, 2, 6]\n",
      "[1, 2, 6]\n",
      "[1, 2, 6]\n"
     ]
    }
   ],
   "source": [
    "# filter(함수, 반복 가능한 데이터) : 무엇인가를 걸러 낸다라는 뜻으로, filter 함수도 이와 비슷한 기능을 한다.\n",
    "\n",
    "    # 반복 가능한 데이터의 요소 순서대로 함수를 호출했을 때, 리턴값이 참인 것만 묶어서 리턴한다.\n",
    "\n",
    "def positive(l):\n",
    "    result = []\n",
    "    for i in l:\n",
    "        if i > 0:\n",
    "            result.append(i)\n",
    "    return result\n",
    "    \n",
    "print(positive([1,-3,2,0,-5,6]))    \n",
    "\n",
    "def positive(x):\n",
    "    return x > 0\n",
    "\n",
    "print(list(filter(positive,[1,-3,2,0,-5,6])))\n",
    "\n",
    "# filter를 사용해서 간단하게 표현할 수 있다.\n",
    "\n",
    "# lambda를 사용하면 더욱 간단해진다.\n",
    "print(list(filter(lambda x: x> 0 , [1,-3,2,0,-5,6])))"
   ]
  },
  {
   "cell_type": "code",
   "execution_count": 19,
   "metadata": {},
   "outputs": [
    {
     "name": "stdout",
     "output_type": "stream",
     "text": [
      "0xea\n",
      "0x3\n"
     ]
    }
   ],
   "source": [
    "# hex(x): 정수를 입력받아 16진수 문자열로 변환하여 리턴하는 함수\n",
    "\n",
    "print(hex(234))\n",
    "print(hex(3))"
   ]
  },
  {
   "cell_type": "code",
   "execution_count": 20,
   "metadata": {},
   "outputs": [
    {
     "name": "stdout",
     "output_type": "stream",
     "text": [
      "139695404738928\n",
      "139695404738928\n",
      "139695404738928\n"
     ]
    }
   ],
   "source": [
    "# id(object) : 객체를 입력받아 객체의 고유 주솟값을 리턴하는 함수\n",
    "\n",
    "a = 3\n",
    "print(id(3))\n",
    "print(id(a))\n",
    "b = a\n",
    "print(id(b))\n",
    "\n",
    "    # 위의 a,b,3 모두 같은 객체를 가리키고 있다."
   ]
  },
  {
   "cell_type": "code",
   "execution_count": 21,
   "metadata": {},
   "outputs": [],
   "source": [
    "# input([prompt]) : 사용자 입력을 받는 함수\n",
    "# 입력 인수로 문자열을 전달하면 그 문자열은 프롬프트가 된다.\n",
    "    # []은 괄호 안의 내용을 생략할 수 있다는 관례 표기법 기억!\n",
    "\n",
    "a = input()\n",
    "\n",
    "print(a)\n",
    "\n",
    "b = input(\"Enter : \")\n",
    "\n",
    "print(b)"
   ]
  },
  {
   "cell_type": "code",
   "execution_count": 22,
   "metadata": {},
   "outputs": [
    {
     "name": "stdout",
     "output_type": "stream",
     "text": [
      "3\n",
      "3\n",
      "3\n",
      "26\n"
     ]
    }
   ],
   "source": [
    "# int(x) : 문자열 형태의 숫자나 소숫접이 잇는 숫자를 정수로 리천하는 함수\n",
    "# 정수가 입력되면 그대로 리턴\n",
    "\n",
    "print(int('3'))\n",
    "print(int(3.4))\n",
    "    # 위의 문자열과 소숫점을 정수로 리턴하였습니다.\n",
    "\n",
    "# int(x, radix) : radix 진수로 표현된 문자열 x를 10진수로 변환하여 리턴한다.\n",
    "# 2진수로 표현된 '11의 10진수 값은 다음으로 구한다.\n",
    "print(int('11',2))\n",
    "\n",
    "# 16진수로 표현된 '1A'의 10진수 값은 다음으로 구한다.\n",
    "print(int('1A', 16))\n"
   ]
  },
  {
   "cell_type": "code",
   "execution_count": null,
   "metadata": {},
   "outputs": [],
   "source": [
    "# isinstance(object,class): 첫번째 인수를 객체, 두번째 인수를 클래스로 받는다.\n",
    "# 입력으로 받은 객체가 그 클래스의 인스턴스인지를 판단하여 참이면 True, 거짓이면 False를 리턴\n",
    "\n",
    "class Person: pass\n",
    "\n",
    "a = Person()\n",
    "isinstance(a, Person)\n",
    "b = 3\n",
    "isinstance(b, Person)\n",
    "\n",
    "    # a는 Person 클래스에 의해 생성된 인스턴스이지만, b는 Person 클래스에 의해 생성된 인스턴스가 아니다.\n",
    "    "
   ]
  },
  {
   "cell_type": "code",
   "execution_count": 24,
   "metadata": {},
   "outputs": [
    {
     "name": "stdout",
     "output_type": "stream",
     "text": [
      "6\n",
      "3\n",
      "2\n"
     ]
    }
   ],
   "source": [
    "# len(s) : 입력값 s의 길이를 리턴하는 함수\n",
    "\n",
    "print(len(\"python\"))\n",
    "print(len([1,2,3]))\n",
    "print(len((1, 'a')))"
   ]
  },
  {
   "cell_type": "code",
   "execution_count": 26,
   "metadata": {},
   "outputs": [
    {
     "name": "stdout",
     "output_type": "stream",
     "text": [
      "['p', 'y', 't', 'h', 'o', 'n']\n",
      "[1, 2, 3]\n",
      "[1, 2, 3]\n"
     ]
    }
   ],
   "source": [
    "# list(iterable) : 반복 가능한 데이터를 입력받아 리스트로 만들어 리턴하는 함수\n",
    "\n",
    "print(list(\"python\"))\n",
    "print(list((1,2,3)))\n",
    "\n",
    "a = [1,2,3]\n",
    "b = list(a)\n",
    "print(b)"
   ]
  },
  {
   "cell_type": "code",
   "execution_count": 27,
   "metadata": {},
   "outputs": [
    {
     "name": "stdout",
     "output_type": "stream",
     "text": [
      "[2, 4, 6, 8]\n",
      "[2, 4, 6, 8]\n",
      "[2, 4, 6, 8]\n"
     ]
    }
   ],
   "source": [
    "# map(f, iterable) : 함수(f)와 반복 가능한 데이터를 입력으로 받는다.\n",
    "# map은 입력받은 데이터의 각 요소에 함수 f를 적용한 결과를 리턴하는 함수\n",
    "\n",
    "def two_times(numberList):\n",
    "    result = []\n",
    "    for number in numberList:\n",
    "        result.append(number*2)\n",
    "    return result\n",
    "\n",
    "result = two_times([1,2,3,4])\n",
    "print(result)\n",
    "\n",
    "# 위를 map 함수를 사용하여서 바꿔보자\n",
    "\n",
    "def two_times(x):\n",
    "    return x * 2\n",
    "\n",
    "print(list(map(two_times, [1,2,3,4])))\n",
    "\n",
    "# 반복가능한 데이터 ( 리스트 )를 넣어서 함수 f를 적용한 결과를 리턴하였다.\n",
    "\n",
    "# 이 또한 lambda를 사용하여 다음처럼 간략하게 만들 수 있다.\n",
    "\n",
    "print(list(map(lambda a : a*2, [1,2,3,4])))"
   ]
  },
  {
   "cell_type": "code",
   "execution_count": 28,
   "metadata": {},
   "outputs": [
    {
     "name": "stdout",
     "output_type": "stream",
     "text": [
      "3\n",
      "y\n",
      "1\n",
      "h\n"
     ]
    }
   ],
   "source": [
    "# max(iterable) : 인수로 반복 가능한 데이터를 입력받아 그 최댓값을 리턴하는 함수\n",
    "\n",
    "print(max([1,2,3]))\n",
    "print(max(\"python\"))\n",
    "\n",
    "# min(iterable) : max와 반대되는 값이다.\n",
    "\n",
    "print(min([1,2,3]))\n",
    "print(min(\"python\"))"
   ]
  },
  {
   "cell_type": "code",
   "execution_count": 30,
   "metadata": {},
   "outputs": [
    {
     "name": "stdout",
     "output_type": "stream",
     "text": [
      "0o42\n",
      "0o30071\n"
     ]
    }
   ],
   "source": [
    "# oct(x) : 정수를 8진수 문자열로 바꾸어 리턴하는 함수이다.\n",
    "\n",
    "print(oct(34))\n",
    "print(oct(12345))\n"
   ]
  },
  {
   "cell_type": "code",
   "execution_count": 32,
   "metadata": {},
   "outputs": [],
   "source": [
    "# open(filename, [model]) 은 '파일이름'과 '읽기 방법'을 입력받아 파일 객체를 리턴하는 함수\n",
    "# 읽기방법을 생략하면 기본값인 읽기 모드로 파일 객체를 만들어 리턴한다.\n",
    "    # w = 쓰기 모드로 파일 열기\n",
    "    # r = 읽기 모드로 파일 열기\n",
    "    # a = 추가 모드로 파일 열기\n",
    "    # b = 바이너리 모드로 파일 열기\n",
    "\n",
    "    # b 는 w,r,a와 함께 사용한다. 예를 들어 rb는 바이너리 읽기 모드를 의미한다.\n",
    "\n",
    "# f = open(\"binary_file\", \"rb\")/"
   ]
  },
  {
   "cell_type": "code",
   "execution_count": 33,
   "metadata": {},
   "outputs": [
    {
     "name": "stdout",
     "output_type": "stream",
     "text": [
      "16\n",
      "27\n"
     ]
    }
   ],
   "source": [
    "# pow(x,y) 는 x를 y를 제곱한 결괏값을 리턴하는 함수\n",
    "\n",
    "print(pow(2,4))\n",
    "print(pow(3,3))"
   ]
  },
  {
   "cell_type": "code",
   "execution_count": 34,
   "metadata": {},
   "outputs": [
    {
     "name": "stdout",
     "output_type": "stream",
     "text": [
      "[0, 1, 2, 3, 4]\n",
      "[1, 2, 3, 4, 5]\n",
      "[1, 3, 5, 7, 9]\n",
      "[0, -2, -4, -6, -8]\n"
     ]
    }
   ],
   "source": [
    "# range([start,] stop [,step] )은 for문과 함께 자주 사용하는 함수\n",
    "# 이 함수는 입력받은 숫자에 해당하는 범위 값을 반복가능한 객체로 만들어 리턴한다.\n",
    "\n",
    "# 1. 인수가 하나일 경우\n",
    "    # 시작 숫자를 지정해주지 않으면 range 함수는 0부터 시작한다.\n",
    "\n",
    "print(list(range(5)))\n",
    "\n",
    "# 2. 인수가 2개인 경우\n",
    "    # 입력으로 주어지는 2ㅐㄱ의 인수는 시작 숫자와 끝 숫자를 나타낸다.\n",
    "    # 끝 숫자는 해당 범위에 포함되지 안흔ㄴ다.\n",
    "print(list(range(1,6)))\n",
    "\n",
    "# 3. 인수가 3개인 경우\n",
    "    # 세번째 인수는 숫자 사이의 거리를 말한다.\n",
    "\n",
    "print(list(range(1,10,2)))\n",
    "print(list(range(0,-10,-2)))"
   ]
  },
  {
   "cell_type": "code",
   "execution_count": 36,
   "metadata": {},
   "outputs": [
    {
     "name": "stdout",
     "output_type": "stream",
     "text": [
      "5\n",
      "4\n",
      "5.68\n"
     ]
    }
   ],
   "source": [
    "# round(number, [,ndigits]) : 숫자를 입력받아 반올림해 리턴하는 함수\n",
    "\n",
    "print(round(4.6))\n",
    "print(round(4.2))\n",
    "\n",
    "print(round(5.678,2))\n",
    "\n",
    "    # ndigits은 반올림하여 표시하고 싶은 소수점의 자릿수를 의미한다."
   ]
  },
  {
   "cell_type": "code",
   "execution_count": 39,
   "metadata": {},
   "outputs": [
    {
     "name": "stdout",
     "output_type": "stream",
     "text": [
      "[1, 2, 3]\n",
      "['a', 'b', 'c']\n",
      "['e', 'o', 'r', 'z']\n",
      "[1, 2, 3]\n"
     ]
    }
   ],
   "source": [
    "# sorted(iterable) : 입력 데이터 정렬한 후 그 결과를 리스트로 리턴\n",
    "\n",
    "print(sorted([3,1,2]))\n",
    "print(sorted(['a', 'b', 'c']))\n",
    "print(sorted('zero'))\n",
    "print(sorted((3,2,1)))"
   ]
  },
  {
   "cell_type": "code",
   "execution_count": 40,
   "metadata": {},
   "outputs": [
    {
     "name": "stdout",
     "output_type": "stream",
     "text": [
      "3\n",
      "hi\n"
     ]
    }
   ],
   "source": [
    "# str(object) : 문자열 형태로 객체를 변환하여 리턴\n",
    "\n",
    "print(str(3))\n",
    "print(str('hi'))"
   ]
  },
  {
   "cell_type": "code",
   "execution_count": 41,
   "metadata": {},
   "outputs": [
    {
     "name": "stdout",
     "output_type": "stream",
     "text": [
      "6\n",
      "15\n"
     ]
    }
   ],
   "source": [
    "# sum(iterable) : 입력 데이터의 합을 리턴한느 함수\n",
    "\n",
    "print(sum([1,2,3]))\n",
    "print(sum([4,5,6]))"
   ]
  },
  {
   "cell_type": "code",
   "execution_count": 42,
   "metadata": {},
   "outputs": [
    {
     "name": "stdout",
     "output_type": "stream",
     "text": [
      "('a', 'b', 'c')\n",
      "(1, 2, 3)\n",
      "(1, 2, 3)\n"
     ]
    }
   ],
   "source": [
    "# tuple(iterable) : 반복 가능한 데이터를 튜플로 바꾸어 리턴\n",
    "# 입력이 튜플인 결우 그대로 리턴\n",
    "\n",
    "print(tuple(\"abc\"))\n",
    "print(tuple([1,2,3]))\n",
    "print(tuple((1,2,3)))"
   ]
  },
  {
   "cell_type": "code",
   "execution_count": 43,
   "metadata": {},
   "outputs": [
    {
     "name": "stdout",
     "output_type": "stream",
     "text": [
      "<class 'str'>\n",
      "<class 'list'>\n",
      "<class '_io.TextIOWrapper'>\n"
     ]
    }
   ],
   "source": [
    "# type(object) : 입력값의 자료형이 무엇인지 알려주는 함수\n",
    "\n",
    "print(type(\"abc\"))\n",
    "print(type([]))\n",
    "print(type(open(\"test\", 'w')))"
   ]
  },
  {
   "cell_type": "code",
   "execution_count": 47,
   "metadata": {},
   "outputs": [
    {
     "name": "stdout",
     "output_type": "stream",
     "text": [
      "[(1, 4), (2, 5)]\n",
      "[(1, 4), (2, 5), (3, 6)]\n",
      "[(1, 4, 7), (2, 5, 8), (3, 6, 9)]\n",
      "[(1, 4, 7, 10), (2, 5, 8, 11), (3, 6, 9, 12)]\n",
      "[('a', 'd'), ('b', 'e'), ('c', 'f')]\n",
      "[('a', 'd', '7'), ('b', 'e', '8'), ('c', 'f', '9')]\n"
     ]
    }
   ],
   "source": [
    "# zip(*iterable) : 동일한 개수로 이루어진 데이터들을 묶어서 리턴하는 함수\n",
    "\n",
    "print(list(zip([1,2], [4,5])))\n",
    "print(list(zip([1,2,3], [4,5,6])))\n",
    "print(list(zip([1,2,3], [4,5,6], [7,8,9])))\n",
    "print(list(zip([1,2,3], [4,5,6], [7,8,9], [10,11,12])))\n",
    "print(list(zip(\"abc\", \"def\")))\n",
    "print(list(zip(\"abc\", \"def\", \"789\")))\n",
    "\n"
   ]
  },
  {
   "cell_type": "code",
   "execution_count": null,
   "metadata": {},
   "outputs": [],
   "source": []
  }
 ],
 "metadata": {
  "kernelspec": {
   "display_name": "NewG",
   "language": "python",
   "name": "python3"
  },
  "language_info": {
   "codemirror_mode": {
    "name": "ipython",
    "version": 3
   },
   "file_extension": ".py",
   "mimetype": "text/x-python",
   "name": "python",
   "nbconvert_exporter": "python",
   "pygments_lexer": "ipython3",
   "version": "3.9.16"
  },
  "orig_nbformat": 4
 },
 "nbformat": 4,
 "nbformat_minor": 2
}
