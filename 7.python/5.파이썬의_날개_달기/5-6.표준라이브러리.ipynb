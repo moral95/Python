{
 "cells": [
  {
   "attachments": {},
   "cell_type": "markdown",
   "metadata": {},
   "source": [
    "1. datetime.date\n",
    "2. time\n",
    "    1. time.time\n",
    "    2. time.localtime\n",
    "    3. time.asctime\n",
    "    4. time.ctime\n",
    "    5. time.strftime\n",
    "    6. time.sleep\n",
    "3. math.gcd\n",
    "4. math.lcm\n",
    "5. random\n",
    "6. itertools.zip_longest\n",
    "7. itertools.permutation\n",
    "8. itertools.combination\n",
    "9. functools.reduce\n",
    "10. operator.itemgetter\n",
    "11. shutil\n",
    "12. glob\n",
    "    1. 디렉터리에 있는 파일들을 리스트로 만들기 - glob(pathname)\n",
    "13. pickle\n",
    "14. os\n",
    "    1. 내 시스템의 환경 변숫값을 알고 싶을 때 - os.environ\n",
    "    2. 디렉터리 위치 변경하기 - os.chdir\n",
    "    3. 디렉터리 위치 돌려받기 - os.getcwd\n",
    "    4. 시스템 명령어 호출하기 - os.system\n",
    "    5. 실행한 시스템 명령어의 결괏값 돌려받기 - os.popen\n",
    "15. zipfile\n",
    "16. threading\n",
    "17. tempfile\n",
    "18. traceback\n",
    "19. json\n",
    "20. urllib\n",
    "21. webbrowser"
   ]
  },
  {
   "attachments": {},
   "cell_type": "markdown",
   "metadata": {},
   "source": [
    "1. datetime.date\n",
    "\n",
    "해당 함수는 연, 월, 일 로 날짜를 표현할 때 사용하는 함수이다."
   ]
  },
  {
   "cell_type": "code",
   "execution_count": 1,
   "metadata": {},
   "outputs": [
    {
     "name": "stdout",
     "output_type": "stream",
     "text": [
      "487\n",
      "1\n",
      "2\n"
     ]
    }
   ],
   "source": [
    "import datetime\n",
    "\n",
    "day1 = datetime.date(2021, 12, 14)\n",
    "day2 = datetime.date(2023, 4, 15)\n",
    "\n",
    "diff = day2 - day1\n",
    "print(diff.days)\n",
    "    # datetime 모듈의 timedelta 객체가 리턴된다\n",
    "    # 이 객체를 diff변수에 대입하고, diff 변수를 이용하여 두 날짜의 차이를 쉽게 확인해봤다.\n",
    "\n",
    "day = datetime.date(2021, 12, 14)\n",
    "print(day.weekday())\n",
    "\n",
    "    # 0은 월요일... 등등 6은 일요일이 된다.\n",
    "    # 월요일은 1, 화요일 2,  일요일은 7을 리턴하려면 다음처럼 isoweekday 함수를 사용하면 된다.\n",
    "\n",
    "print(day.isoweekday())\n"
   ]
  },
  {
   "attachments": {},
   "cell_type": "markdown",
   "metadata": {},
   "source": [
    "2. time\n",
    "    1. time.time\n",
    "    2. time.localtime\n",
    "    3. time.asctime\n",
    "    4. time.ctime\n",
    "    5. time.strftime\n",
    "    6. time.sleep"
   ]
  },
  {
   "cell_type": "code",
   "execution_count": 3,
   "metadata": {},
   "outputs": [
    {
     "name": "stdout",
     "output_type": "stream",
     "text": [
      "1687960005.761459\n",
      "time.struct_time(tm_year=2023, tm_mon=6, tm_mday=28, tm_hour=22, tm_min=46, tm_sec=45, tm_wday=2, tm_yday=179, tm_isdst=0)\n",
      "Wed Jun 28 22:46:45 2023\n",
      "Wed Jun 28 22:46:45 2023\n",
      "출력할 형식 포맷코드\n",
      "0\n",
      "1\n",
      "2\n",
      "3\n",
      "4\n",
      "5\n",
      "6\n",
      "7\n",
      "8\n",
      "9\n",
      "time.struct_time(tm_year=2023, tm_mon=6, tm_mday=28, tm_hour=22, tm_min=46, tm_sec=55, tm_wday=2, tm_yday=179, tm_isdst=0)\n",
      "Wed Jun 28 22:46:55 2023\n",
      "Wed Jun 28 22:46:55 2023\n"
     ]
    }
   ],
   "source": [
    "# 1. time.time()은 UTC를 사용하여 현재 시간을 실수 형태로 리턴하는 함수이다.\n",
    "\n",
    "import time\n",
    "print('time',time.time())\n",
    "\n",
    "# 2. time.localtime\n",
    "\n",
    "    # time.time()이 리턴한 실숫값을 사용해서 연, 월, 일, 시, 분, 초 의 형태로 바꾸어 주는 함수\n",
    "print('local',time.localtime(time.time()))\n",
    "\n",
    "# 3. time.asctime\n",
    "\n",
    "    # time.localtime가 리턴된 튜플 형태의 값을 인수로 받아서 날짜와 시간을 알아보기 쉬운 현태로 리턴\n",
    "print(time.asctime(time.localtime(time.time())))\n",
    "\n",
    "# 4. time.ctime\n",
    "\n",
    "    # 위의 내용을 간단하게 time.ctime으로 표시할 수 있다. \n",
    "    # ctime이 asctime과 다른 점은 항상 현재 시간만을 리턴한다는 점\n",
    "print(time.ctime())\n",
    "\n",
    "# 5. time.strftime\n",
    "    \n",
    "    # 시간에 관계된 것을 세밀하게 표현하는 여러 가지 포맷 코드를 제공하낟.\n",
    "\n",
    "print(time.strftime('출력할 형식 포맷코드', time.localtime(time.time())))\n",
    "    # 여러가지 포맷코드가 존재....\n",
    "\n",
    "# 6. time.sleep\n",
    "\n",
    "    # 주로 루프안에서 많이 사용한다.\n",
    "    # 일정한 시간 간격을 두고 루프를 실행할 수 있다.\n",
    "\n",
    "import time\n",
    "for i in range(10):\n",
    "    print(i)\n",
    "    time.sleep(1)\n",
    "\n",
    "    # sleep 함수의 인수는 실수 형태로 쓸수 있다.\n",
    "    # 1이면 1초, 0.5초면 0.5초가 되는 것이다.\n",
    "\n",
    "\n",
    "# *. 인수 없이 time 함수 사용하기\n",
    "    # time.localtime, time.asctime, time.strftime 함수는 다음처럼 입력 인수 없이 사용 할 수 있다.\n",
    "\n",
    "print(time.localtime())\n",
    "print(time.asctime())\n",
    "print(time.strftime('%c'))"
   ]
  },
  {
   "attachments": {},
   "cell_type": "markdown",
   "metadata": {},
   "source": [
    "3. math.gcd"
   ]
  },
  {
   "cell_type": "code",
   "execution_count": null,
   "metadata": {},
   "outputs": [],
   "source": [
    "# math.gcd 함수를 이용하면 최대 공약수(gcd, greatest common divisor)를 쉽게 구할 수 있다.\n",
    "\n",
    "    # - math.gcd 함수는 파이썬 3.5 버전부터 사용할 수 있다.\n",
    "# 어린이집에서 사탕 60개, 초콜릿 100개, 젤리 80개를 준비했다.\n",
    "# 아이들이 서로 싸우지 않도록 똑같이 나누어 봉지에 담는다고 하면 최대 몇 봉지까지?\n",
    "\n",
    "import math\n",
    "print(math.gcd(60, 100, 80))\n",
    "\n",
    "    # 3.9버전부터는 math.gcd에 여러개의 인수를 입력할 수 있지만, 3.9미만 버전에서는 2개까ㅓ지만 허용된다.\n",
    "\n",
    "# 위로 20이 나왔기때문에 20개씩 똑같이 나눠 담았다."
   ]
  },
  {
   "attachments": {},
   "cell_type": "markdown",
   "metadata": {},
   "source": [
    "4. math.lcm"
   ]
  },
  {
   "cell_type": "code",
   "execution_count": null,
   "metadata": {},
   "outputs": [],
   "source": [
    "# math.lcm 은 최소공배수를 구할때!\n",
    "    # lcm은 3.9 버전부터 사용할 수 있다.\n",
    "\n",
    "import math\n",
    "\n",
    "print(math.lcm(15,25))\n",
    "\n",
    "    # 최소 공배수 75를 구했다. 따라서 두 버스가 동시에 도착할 다음 시각은 75분 후 이다."
   ]
  },
  {
   "attachments": {},
   "cell_type": "markdown",
   "metadata": {},
   "source": [
    "5. random"
   ]
  },
  {
   "cell_type": "code",
   "execution_count": 4,
   "metadata": {},
   "outputs": [
    {
     "name": "stdout",
     "output_type": "stream",
     "text": [
      "0.8684457966734145\n",
      "1\n",
      "43\n",
      "5\n",
      "3\n",
      "4\n",
      "2\n",
      "1\n"
     ]
    },
    {
     "data": {
      "text/plain": [
       "[4, 1, 5, 3, 2]"
      ]
     },
     "execution_count": 4,
     "metadata": {},
     "output_type": "execute_result"
    }
   ],
   "source": [
    "# random은 난수를 발생시키는 모듈\n",
    "\n",
    "# random과 randint 함수에 대해 알아보자.\n",
    "\n",
    "import random\n",
    "print(random.random())\n",
    "    # 0.0 ~ 1.0 사이의 실수 중에서 난수 값을 리턴하는 예를 보여준다.\n",
    "\n",
    "print(random.randint(1,10))\n",
    "    # 1~10 사이의 정수 중에서 난수 값을 리턴\n",
    "\n",
    "print(random.randint(1,55))\n",
    "    # 1~55 사이의 정수 중에서 난수 값을 리턴\n",
    "\n",
    "# random  모듈을 이용한 재미있는 함수\n",
    "\n",
    "import random\n",
    "def random_pop(data):\n",
    "    number = random.randint(0, len(data)-1)\n",
    "    return data.pop(number)\n",
    "\n",
    "if __name__ == \"__main__\":\n",
    "    data = [1, 2, 3, 4, 5]\n",
    "    while data:\n",
    "        print(random_pop(data))\n",
    "\n",
    "        # random pop 함수는 리스트의 요소 중에서 무작위로 하나를 선택하여 꺼낸 다음\n",
    "        # 그 값으로 리턴, 물론 꺼낸 요소는 pop 메서드로 사라지낟.\n",
    "\n",
    "def random_pop(data):\n",
    "    number = random.choice(data)\n",
    "    data.remove(number)\n",
    "    return number\n",
    "    # 같은 내용으로 정리할 수 있따.\n",
    "    # random.choice 는 리스트에서 무작위로 하나를 선택하여 리턴\n",
    "    # 무작위로 섞고 싶을때는 random.sample 함수를 사용하면 된다.\n",
    "\n",
    "import random\n",
    "data = [1,2,3,4,5]\n",
    "random.sample(data, len(data))\n",
    "    # 두번째 인수는 len(data) 무작위로 추출할 원소의 개수를 의미\n",
    "    # 두번째 인수가 3이면 3개만 추출할것이다."
   ]
  },
  {
   "attachments": {},
   "cell_type": "markdown",
   "metadata": {},
   "source": [
    "6. itertools.zip_longest"
   ]
  },
  {
   "cell_type": "code",
   "execution_count": 5,
   "metadata": {},
   "outputs": [
    {
     "name": "stdout",
     "output_type": "stream",
     "text": [
      "[('김민지', '사탕'), ('강혜린', '초콜릿'), ('혜인', '젤리')]\n",
      "[('김민지', '사탕'), ('강혜린', '초콜릿'), ('혜인', '젤리'), ('다니엘', 'heart'), ('팜하니', 'heart')]\n"
     ]
    }
   ],
   "source": [
    "# itertools.zip_longest(*iterables, fillvalue=None) : \n",
    "#   같은 개수의 자료형을 묶는 파이썬 내장함수인 zip함수와 똑같이 동작\n",
    "#   전달한 반복가능한 객체(*iterables)의 길이가 서로 다르면\n",
    "#   긴 객체의 길이에 맞춰 fillvalue에 설정한 값을 짧은 객체에 채움\n",
    "\n",
    "students = ['김민지', '강혜린', '혜인', '다니엘', '팜하니']\n",
    "snacks = ['사탕', '초콜릿', '젤리']\n",
    "\n",
    "result = zip(students, snacks)\n",
    "print(list(result))\n",
    "\n",
    "    # 두개의 요소 값이 다르므로 더 적은 snacks의 개수만큼만 zip()으로 묶게된다.\n",
    "    # 나머지르 새우깡으로 채우려면 어떻게 해야할까?\n",
    "    # 요소 개수가 많은 것을 기준으로 자료형으로 묶는 것은 itertools.zip_longest() 사용하자.\n",
    "\n",
    "import itertools\n",
    "\n",
    "result = itertools.zip_longest(students, snacks, fillvalue='heart')\n",
    "print(list(result))\n"
   ]
  },
  {
   "attachments": {},
   "cell_type": "markdown",
   "metadata": {},
   "source": [
    "7. itertools.permutation"
   ]
  },
  {
   "cell_type": "code",
   "execution_count": 6,
   "metadata": {},
   "outputs": [
    {
     "name": "stdout",
     "output_type": "stream",
     "text": [
      "[('1', '2'), ('1', '3'), ('2', '1'), ('2', '3'), ('3', '1'), ('3', '2')]\n",
      "12\n",
      "13\n",
      "21\n",
      "23\n",
      "31\n",
      "32\n",
      "[('1', '2'), ('1', '3'), ('2', '3')]\n"
     ]
    }
   ],
   "source": [
    "# itertools.permutations(iterable, r) : 반복 가능 객체 중에서 r개를 선택한 순열을 이터레이터로 리턴\n",
    "# 이터레이터란 반복 가능한 객체 의미\n",
    "\n",
    "# [1,2,3] 의 경우\n",
    "\n",
    "# 3개의 조합이 나오지만\n",
    "# 순열이면 6개가 나옵니다\n",
    "\n",
    "import itertools\n",
    "print(list(itertools.permutations(['1','2','3'], 2)))\n",
    "\n",
    "for a, b in itertools.permutations(['1','2','3'],2):\n",
    "    print(a + b)\n",
    "\n",
    "# 조합을 사용하는 함수\n",
    "\n",
    "print(list(itertools.combinations(['1','2','3'],2)))"
   ]
  },
  {
   "attachments": {},
   "cell_type": "markdown",
   "metadata": {},
   "source": [
    "8. itertools.combination"
   ]
  },
  {
   "cell_type": "code",
   "execution_count": 8,
   "metadata": {},
   "outputs": [
    {
     "name": "stdout",
     "output_type": "stream",
     "text": [
      "15890700\n"
     ]
    }
   ],
   "source": [
    "# itertools.combinations(iterable, r) : 반복 가능한 객체 중에서 r개를 선택한 조합을 이터레이터로 리턴\n",
    "# 1~45 중 서로 다른 숫자 6개를 뽑는 로또 번호의 모든 경우의 수를 구하고 그 개수를 출력\n",
    "\n",
    "# import itertools\n",
    "# it = itertools.combinations(range(1, 46), 6)\n",
    "\n",
    "# for num in it:\n",
    "#     print(num)\n",
    "\n",
    "len(list(itertools.combinations(range(1,46), 6)))\n",
    "\n",
    "# 중복 조합을 사용하는 함수\n",
    "    # 중복을 허용하는 경우가 있다면 경우의 수는?\n",
    "\n",
    "print(len(list(itertools.combinations_with_replacement(range(1,46), 6))))"
   ]
  },
  {
   "attachments": {},
   "cell_type": "markdown",
   "metadata": {},
   "source": [
    "9. functools.reduce"
   ]
  },
  {
   "cell_type": "code",
   "execution_count": 12,
   "metadata": {},
   "outputs": [
    {
     "name": "stdout",
     "output_type": "stream",
     "text": [
      "15\n",
      "15\n",
      "8\n"
     ]
    }
   ],
   "source": [
    "# functools.reduce(function, iterable) : 함수를 반복 가능한 객체의 요소에 차례대로 누적 적용\n",
    "#                                        이 객체를 하나의 값으로 줄이는 함수\n",
    "\n",
    "def add(data):\n",
    "    result = 0\n",
    "    for i in data:\n",
    "        result += i\n",
    "    return result\n",
    "\n",
    "data = [1, 2, 3, 4, 5]\n",
    "result = add(data)\n",
    "print(result)\n",
    "\n",
    "import functools\n",
    "\n",
    "result = functools.reduce(lambda x, y: x + y, data)\n",
    "print(result)\n",
    "\n",
    "((((1+2) + 3) + 4) + 5 )\n",
    "\n",
    "# functools.reduce()로 최대값 구하기\n",
    "\n",
    "num_list = [3, 2, 8, 1, 6, 7]\n",
    "max_num = functools.reduce(lambda x, y: x if x > y else y, num_list)\n",
    "print(max_num)"
   ]
  },
  {
   "attachments": {},
   "cell_type": "markdown",
   "metadata": {},
   "source": [
    "10. operator.itemgetter"
   ]
  },
  {
   "cell_type": "code",
   "execution_count": 13,
   "metadata": {},
   "outputs": [
    {
     "name": "stdout",
     "output_type": "stream",
     "text": [
      "[('sally', 17, 'B'), ('jane', 22, 'A'), ('dave', 32, 'B')]\n",
      "[{'name': 'sally', 'age': 17, 'grade': 'B'}, {'name': 'jane', 'age': 22, 'grade': 'A'}, {'name': 'dave', 'age': 32, 'grade': 'B'}]\n"
     ]
    }
   ],
   "source": [
    "# operater.itermgetter : 주로 sorted와 같은 함수의 key 매개변수에 적용하여 다양한 기준으로 정렬할 수 있또록\n",
    "# 도와주는 모듈\n",
    "\n",
    "students = [\n",
    "    (\"jane\", 22, 'A'),\n",
    "    (\"dave\", 32, 'B'),\n",
    "    (\"sally\", 17, 'B')\n",
    "    ]\n",
    "\n",
    "from operator import itemgetter\n",
    "\n",
    "result = sorted(students, key=itemgetter(1))\n",
    "print(result)\n",
    "\n",
    "    # sorted 함수의 key 매개변수에 itemgetter()를 적용하면 수비게 해결할 수 있다.\n",
    "\n",
    "# itemgetter(1)은 students의 아이템인 튜플의 두번째 요소를 기준으로 정렬하겠다는 의미\n",
    "# itemgetter(2)은 성적순으로 정리하겠다.\n",
    "\n",
    "# 딕셔너러일 때를 생각해보자\n",
    "\n",
    "students = [\n",
    "    {\"name\": \"jane\", \"age\": 22, \"grade\": 'A'},\n",
    "    {\"name\": \"dave\", \"age\": 32, \"grade\": 'B'},\n",
    "    {\"name\": \"sally\", \"age\": 17, \"grade\": 'B'},\n",
    "]\n",
    "\n",
    "from operator import itemgetter\n",
    "\n",
    "result = sorted(students, key=itemgetter('age'))\n",
    "print(result)\n",
    "\n",
    "    # age 순으로 정렬되었다.\n",
    "\n",
    "# class 로 구분짓는다면?\n",
    "# operator. attrgetter()\n",
    "\n",
    "from operator import attrgetter\n",
    "\n"
   ]
  },
  {
   "attachments": {},
   "cell_type": "markdown",
   "metadata": {},
   "source": [
    "11. shutil"
   ]
  },
  {
   "cell_type": "code",
   "execution_count": null,
   "metadata": {},
   "outputs": [],
   "source": [
    "# shutil = 파일을 복사하거나 이동할 때 사용하는 모듈\n",
    "\n",
    "    # 작업 중인 파일ㅇ르 자동으로 백업하는 기능ㅇ르 구현하고자\n",
    "# a.txt 를 a.txt.bak이라는 이름으로 복사하는 프로그램 만들었다.\n",
    "# 백업용 디렉토리는 c:\\temp\n",
    "\n",
    "import shutil\n",
    "\n",
    "shutil.copy(\"c:/doit/a.txt\", \"c:/temp/a.txt.bak\")\n",
    "\n",
    "# shutil.move 로 삭제 기능 만들기\n",
    "\n",
    "import shutil\n",
    "\n",
    "shutil.move(\"c:/doit/a.txt\", \"c:/temp/a.txt.bak\")\n"
   ]
  },
  {
   "attachments": {},
   "cell_type": "markdown",
   "metadata": {},
   "source": [
    "12. glob\n",
    "    1. 디렉터리에 있는 파일들을 리스트로 만들기 - glob(pathname)"
   ]
  },
  {
   "cell_type": "code",
   "execution_count": null,
   "metadata": {},
   "outputs": [],
   "source": [
    "# 가끔 파일을 읽고 쓰는 기능이 있는 프로그램을 만들다 보면\n",
    "# 특정 디렉토리에 있는 파일 이름을 모두 알아야할 때가 있다. \n",
    "# glob 이다\n",
    "\n",
    "    # 디렉토리에 있는 파일들을 리스트로 만들기 - glob(pathname)\n",
    "\n",
    "# 디렉토리 안의 파일들을 읽어서 리턴한다.\n",
    "# *, ? 등 메타 문자를 써서 원하는 파일만 읽어 들일 수도 있따.\n",
    "\n",
    "import glob\n",
    "\n",
    "glob.glob(\"c:/doit/mark*\")\n",
    "    # ?는 1자리 문자열, *은 임의의 길이의 문자열을 의미한다."
   ]
  },
  {
   "attachments": {},
   "cell_type": "markdown",
   "metadata": {},
   "source": [
    "13. pickle"
   ]
  },
  {
   "cell_type": "code",
   "execution_count": 15,
   "metadata": {},
   "outputs": [
    {
     "name": "stdout",
     "output_type": "stream",
     "text": [
      "{1: 'python', 2: 'you need'}\n"
     ]
    }
   ],
   "source": [
    "# pickle : 객체의 형태를 그대로 유지하면서 파일에 저장하고 불러올 수 있게 하는 모듈\n",
    "# pickle 모듈의 dump 함수를 사용하여 딕셔너리 객체인 data를 그대로 파일에 저장하는 방법\n",
    "\n",
    "import pickle\n",
    "\n",
    "f = open(\"test.txt\", 'wb')\n",
    "data = {1: 'python', 2: 'you need'}\n",
    "pickle.dump(data, f)\n",
    "f.close()\n",
    "\n",
    "# pickle.dump 로 저장된 파일을 pickle.load를 사용해서 원래 있던 딕셔너리 객체 상태 그대로 불러오는 예\n",
    "\n",
    "import pickle\n",
    "f = open(\"test.txt\", 'rb')\n",
    "data = pickle.load(f)\n",
    "print(data)\n",
    "    # 딕셔너리 객체 외에도 어떤 자료형이든 저장하고 불러 올 수 있다.\n"
   ]
  },
  {
   "attachments": {},
   "cell_type": "markdown",
   "metadata": {},
   "source": [
    "14. os\n",
    "    1. 내 시스템의 환경 변숫값을 알고 싶을 때 - os.environ\n",
    "    2. 디렉터리 위치 변경하기 - os.chdir\n",
    "    3. 디렉터리 위치 돌려받기 - os.getcwd\n",
    "    4. 시스템 명령어 호출하기 - os.system\n",
    "    5. 실행한 시스템 명령어의 결괏값 돌려받기 - os.popen"
   ]
  },
  {
   "attachments": {},
   "cell_type": "markdown",
   "metadata": {},
   "source": []
  },
  {
   "attachments": {},
   "cell_type": "markdown",
   "metadata": {},
   "source": [
    "15. zipfile"
   ]
  },
  {
   "cell_type": "code",
   "execution_count": null,
   "metadata": {},
   "outputs": [],
   "source": [
    "# zipfile : 여러 개의 파일을 zip 형식으로 합치거나 이를 해제할 때 사용하는 모듈\n",
    "\n",
    "# a.txt, b.txt, c.txt\n",
    "\n",
    "import zipfile\n",
    "\n",
    "# 파일 합치기\n",
    "with zipfile.ZipFile('mytext.zip', 'w') as myzip:\n",
    "    myzip.write('a.txt')\n",
    "    myzip.write('b.txt')\n",
    "    myzip.write('c.txt')\n",
    "\n",
    "# 해제하기\n",
    "with zipfile.ZipFile('mytext.zip') as myzip:\n",
    "    myzip.extractall()\n",
    "\n",
    "    # ZipFile 객체의 write() 함수로 개별 파일을 추가할 수 있고,\n",
    "    # extreactall() 함수를 사용하면 모든 파일을 해제할 수 있다.\n",
    "\n",
    "    # 합친 파일에서 특정 파일만 해제하고 싶다면 다음과 같이 extract() 함수를 사용하면 된다\n",
    "\n",
    "# 특정 파일만 해제하기\n",
    "with zipfile.ZipFile('mytext.zip') as myzip:\n",
    "    myzip.extract('a.txt')\n",
    "\n",
    "    # 만약 파일을 압축하여 묶고 싶은 경웨는 compression, compresslevel 옵션 사용\n",
    "\n",
    "# 압축하여 묶기\n",
    "with zipfile.ZipFile('mytest.zip', 'w', compression=zipfile.ZIP_LZMA, compresslevel=9) as myzip:\n",
    "    (... 생략 ...)\n",
    "\n",
    "# compression 에는 4가지 종류 존재\n",
    "\n",
    "# ZIP_STORED : 압축하지 않고 파일을 ZIP으로만 묶는다. 속도가 빠르다.\n",
    "# ZIP_DEFLATED : 일반적으로 ZIP 압축으로 속도가 빠르고, 압축률은 낮다(호환성이 좋다)\n",
    "# ZIP_BZIP2 : bzip2 압축으로 압축률이 높고 속도가 느리다.\n",
    "# ZIP_LZMA : lzma 압축으로 압축률이 노ㅠ고 속도가 느리다.(7zip과 동일한 알고리즘으로 알려져 있다.)"
   ]
  },
  {
   "attachments": {},
   "cell_type": "markdown",
   "metadata": {},
   "source": [
    "16. threading"
   ]
  },
  {
   "cell_type": "code",
   "execution_count": null,
   "metadata": {},
   "outputs": [],
   "source": [
    "# 컴퓨터에서 동작하고 있는 프로그램을 프로세스라고 한다.\n",
    "# 보통 1개의 프로세스는 1가지 일만 하지만,\n",
    "# 스레드를 사용하면 한 프로세스 안에서 2가지 또는 그 이상의 일을 동시에 수행할 수 있다.\n",
    "\n",
    "import time\n",
    "\n",
    "def long_task(): # 5초의 시간이 걸리는 함수\n",
    "    for i in range(5):\n",
    "        time.sleep(1)   # 1초간 대기한다.\n",
    "        print(\"working: %s\\n\" % i)\n",
    "\n",
    "print(\"Start\")\n",
    "\n",
    "for i in range(5): # long_task를 5회 수행한다.\n",
    "    long_task()\n",
    "\n",
    "print(\"End\")\n",
    "\n",
    "    # 총 25초의 시간이 걸린다.\n",
    "\n",
    "#----------------------------------------------------------------------------\n",
    "import time\n",
    "import threading # 스레드를 생성하기 위해서는 threading 모듈이 필요\n",
    "\n",
    "def long_task(): # 5초의 시간이 걸리는 함수\n",
    "    for i in range(5):\n",
    "        time.sleep(1)   # 1초간 대기한다.\n",
    "        print(\"working: %s\\n\" % i)\n",
    "\n",
    "print(\"Start\")\n",
    "\n",
    "threads = []\n",
    "for i in range(5): # 5회 수행한다.\n",
    "    t = threading.Thread(target = long_task) # 스레드를 생성\n",
    "    threads.append(t)\n",
    "\n",
    "for t in threads:\n",
    "    t.start() # 스레드를 실행\n",
    "\n",
    "print(\"End\")\n",
    "\n",
    "    # 25초 걸리던 작업이 5초에 수행된다.\n",
    "    # threading.Thread를 사용하여 만든 스레드 객체가 동시 작업 가능하게 한다.\n",
    "\n",
    "    # 막상 실행하다 보면 \"Start\", \"End\"가 먼저 출력되고\n",
    "    # 출격은 되나, 정상 종료되지 않는다.\n"
   ]
  },
  {
   "cell_type": "code",
   "execution_count": 17,
   "metadata": {},
   "outputs": [
    {
     "name": "stdout",
     "output_type": "stream",
     "text": [
      "Start\n",
      "working: 0\n",
      "\n",
      "working: 0\n",
      "\n",
      "working: 0\n",
      "\n",
      "working: 0\n",
      "\n",
      "working: 0\n",
      "\n",
      "working: 1\n",
      "\n",
      "working: 1\n",
      "\n",
      "working: 1\n",
      "\n",
      "working: 1\n",
      "\n",
      "working: 1\n",
      "\n",
      "working: 2\n",
      "\n",
      "working: 2\n",
      "\n",
      "working: 2\n",
      "\n",
      "working: 2\n",
      "\n",
      "working: 2\n",
      "\n",
      "working: 3\n",
      "\n",
      "working: 3\n",
      "\n",
      "working: 3\n",
      "\n",
      "working: 3\n",
      "\n",
      "working: 3\n",
      "\n",
      "working: 4\n",
      "\n",
      "working: 4\n",
      "\n",
      "working: 4\n",
      "\n",
      "working: 4\n",
      "\n",
      "working: 4\n",
      "\n",
      "End\n"
     ]
    }
   ],
   "source": [
    "import time\n",
    "import threading # 스레드를 생성하기 위해서는 threading 모듈이 필요\n",
    "\n",
    "def long_task(): # 5초의 시간이 걸리는 함수\n",
    "    for i in range(5):\n",
    "        time.sleep(1)   # 1초간 대기한다.\n",
    "        print(\"working: %s\\n\" % i)\n",
    "\n",
    "print(\"Start\")\n",
    "\n",
    "threads = []\n",
    "for i in range(5): # 5회 수행한다.\n",
    "    t = threading.Thread(target = long_task) # 스레드를 생성\n",
    "    threads.append(t)\n",
    "\n",
    "for t in threads:\n",
    "    t.start() # 스레드를 실행\n",
    "\n",
    "for t in threads:\n",
    "    t.join() # join으로 스레드가 종료될 때까지 기다린다. \n",
    "\n",
    "print(\"End\")\n",
    "\n",
    "    # 스레드의 join 함수는 해당 스레드가 종료될 때까지 기다리게한다."
   ]
  },
  {
   "attachments": {},
   "cell_type": "markdown",
   "metadata": {},
   "source": [
    "17. tempfile"
   ]
  },
  {
   "cell_type": "code",
   "execution_count": 19,
   "metadata": {},
   "outputs": [
    {
     "name": "stdout",
     "output_type": "stream",
     "text": [
      "(74, '/tmp/tmp54s1jfdt')\n"
     ]
    },
    {
     "data": {
      "text/plain": [
       "<function BufferedRandom.close>"
      ]
     },
     "execution_count": 19,
     "metadata": {},
     "output_type": "execute_result"
    }
   ],
   "source": [
    "# 파일을 임시로 만들어서 사용할 때 유용한 모듈이 바로 tempfile\n",
    "# tempfile.mkstemp() : 중복되지 않는 임시 파일의 이름을 무작위로 만들어서 리턴\n",
    "\n",
    "import tempfile\n",
    "filename = tempfile.mkstemp()\n",
    "print(filename)\n",
    "\n",
    "# tempfile.TemporaryFile() : 임시 저장공간으로 사용할 파일 객체 리턴\n",
    "# 이 파일은 기본적으로 바이너리 쓰기 모드(wb)를 갖는다.\n",
    "# f.close()가 호출되면 이 파일은 자동으로 삭제된다.\n",
    "# ??? 바이너리 쓰기 모드란??\n",
    "\n",
    "import tempfile\n",
    "f = tempfile.TemporaryFile()\n",
    "f.close"
   ]
  },
  {
   "attachments": {},
   "cell_type": "markdown",
   "metadata": {},
   "source": [
    "18. traceback"
   ]
  },
  {
   "cell_type": "code",
   "execution_count": null,
   "metadata": {},
   "outputs": [],
   "source": [
    "# traceback : 프로그램 실행 중 발생한 오류를 추적하고자 할때 사용하던 모듈\n",
    "\n",
    "# traceback_test.py\n",
    "def a():\n",
    "    return 1/0\n",
    "\n",
    "def b():\n",
    "    a()\n",
    "\n",
    "def main():\n",
    "    try:\n",
    "        b()\n",
    "    except:\n",
    "        print(\"오류가 발생했습니다.\")\n",
    "\n",
    "main()\n",
    "\n",
    "# 코드에서 오류가 발생한 위치와 원인을 정확히 판단할 수 있도록 코드를 업그레이드 하려면?\n",
    "\n",
    "# traceback_test.py\n",
    "import traceback\n",
    "\n",
    "def a():\n",
    "    return 1/0\n",
    "\n",
    "def b():\n",
    "    a()\n",
    "\n",
    "def main():\n",
    "    try:\n",
    "        b()\n",
    "    except:\n",
    "        print(\"오류가 발생했습니다.\")\n",
    "        print(traceback.format_exc())\n",
    "\n",
    "main()\n",
    "\n",
    "    # format_exc() : 오류 추적 결과를 문자열로 리턴하는 함수\n",
    "\n",
    "    # 위를 통해 ZeroDivisionError 가 발생했다는 것을 로그를 통해 정확하게 확인"
   ]
  },
  {
   "attachments": {},
   "cell_type": "markdown",
   "metadata": {},
   "source": [
    "19. json"
   ]
  },
  {
   "cell_type": "code",
   "execution_count": 26,
   "metadata": {},
   "outputs": [],
   "source": [
    "!cd '/NasData/home/lsh/7.python'"
   ]
  },
  {
   "cell_type": "code",
   "execution_count": 28,
   "metadata": {},
   "outputs": [
    {
     "name": "stdout",
     "output_type": "stream",
     "text": [
      "/NasData/home/lsh\n"
     ]
    }
   ],
   "source": [
    "cd"
   ]
  },
  {
   "cell_type": "code",
   "execution_count": 27,
   "metadata": {},
   "outputs": [
    {
     "ename": "FileNotFoundError",
     "evalue": "[Errno 2] No such file or directory: 'myinfo,json'",
     "output_type": "error",
     "traceback": [
      "\u001b[0;31m---------------------------------------------------------------------------\u001b[0m",
      "\u001b[0;31mFileNotFoundError\u001b[0m                         Traceback (most recent call last)",
      "Cell \u001b[0;32mIn[27], line 7\u001b[0m\n\u001b[1;32m      1\u001b[0m \u001b[39m# json데이터를 쉽게 처리하고자 사용하는 모듈\u001b[39;00m\n\u001b[1;32m      2\u001b[0m \n\u001b[1;32m      3\u001b[0m \u001b[39m# 파이썬에서 처리할 수 있도록 딕셔너리 자료형으로 만들려면?\u001b[39;00m\n\u001b[1;32m      5\u001b[0m \u001b[39mimport\u001b[39;00m \u001b[39mjson\u001b[39;00m\n\u001b[0;32m----> 7\u001b[0m \u001b[39mwith\u001b[39;00m \u001b[39mopen\u001b[39;49m(\u001b[39m'\u001b[39;49m\u001b[39mmyinfo,json\u001b[39;49m\u001b[39m'\u001b[39;49m) \u001b[39mas\u001b[39;00m f:\n\u001b[1;32m      8\u001b[0m     data \u001b[39m=\u001b[39m json\u001b[39m.\u001b[39mload(f)\n\u001b[1;32m     10\u001b[0m \u001b[39mtype\u001b[39m(data)\n",
      "File \u001b[0;32m~/anaconda3/envs/NewG/lib/python3.9/site-packages/IPython/core/interactiveshell.py:284\u001b[0m, in \u001b[0;36m_modified_open\u001b[0;34m(file, *args, **kwargs)\u001b[0m\n\u001b[1;32m    277\u001b[0m \u001b[39mif\u001b[39;00m file \u001b[39min\u001b[39;00m {\u001b[39m0\u001b[39m, \u001b[39m1\u001b[39m, \u001b[39m2\u001b[39m}:\n\u001b[1;32m    278\u001b[0m     \u001b[39mraise\u001b[39;00m \u001b[39mValueError\u001b[39;00m(\n\u001b[1;32m    279\u001b[0m         \u001b[39mf\u001b[39m\u001b[39m\"\u001b[39m\u001b[39mIPython won\u001b[39m\u001b[39m'\u001b[39m\u001b[39mt let you open fd=\u001b[39m\u001b[39m{\u001b[39;00mfile\u001b[39m}\u001b[39;00m\u001b[39m by default \u001b[39m\u001b[39m\"\u001b[39m\n\u001b[1;32m    280\u001b[0m         \u001b[39m\"\u001b[39m\u001b[39mas it is likely to crash IPython. If you know what you are doing, \u001b[39m\u001b[39m\"\u001b[39m\n\u001b[1;32m    281\u001b[0m         \u001b[39m\"\u001b[39m\u001b[39myou can use builtins\u001b[39m\u001b[39m'\u001b[39m\u001b[39m open.\u001b[39m\u001b[39m\"\u001b[39m\n\u001b[1;32m    282\u001b[0m     )\n\u001b[0;32m--> 284\u001b[0m \u001b[39mreturn\u001b[39;00m io_open(file, \u001b[39m*\u001b[39;49margs, \u001b[39m*\u001b[39;49m\u001b[39m*\u001b[39;49mkwargs)\n",
      "\u001b[0;31mFileNotFoundError\u001b[0m: [Errno 2] No such file or directory: 'myinfo,json'"
     ]
    }
   ],
   "source": [
    "# json데이터를 쉽게 처리하고자 사용하는 모듈\n",
    "\n",
    "# 파이썬에서 처리할 수 있도록 딕셔너리 자료형으로 만들려면?\n",
    "\n",
    "import json\n",
    "\n",
    "with open('myinfo,json') as f:\n",
    "    data = json.load(f)\n",
    "\n",
    "type(data)"
   ]
  },
  {
   "cell_type": "code",
   "execution_count": null,
   "metadata": {},
   "outputs": [],
   "source": [
    "# json 파일을 읽을 때는 json.load(파일객체) 사용한다.\n",
    "# 이렇게 load() 함수는 읽은 데이터를 딕셔너리 자료형으로 리천\n",
    "# 반대로 딕셔너리 자료형을 JSON 파일로 생성할때는 다음처럼\n",
    "# json.dump(딕셔너리, 파일객체) 사용하낟.\n",
    "\n",
    "import json\n",
    "data = {'name': '홍길동', 'birth': '0525', 'age': 30}\n",
    "with open('myinfo.json', 'w') as f:\n",
    "    json.dump(data, f)\n",
    "\n",
    "import json\n",
    "d = {'name': '홍길동', 'birth': '0525', 'age': 30}\n",
    "json_data = json.dumps(d)\n",
    "json_data\n",
    "\n",
    "    # 딕셔너리 자료형을 json 문자열로 만들려면 json.dumps()함수를 사용하면 된다.\n",
    "    # 그러나, 딕셔너리를 json 데이터로 변경하면\n",
    "    # 한글 문자열이 코드 형태로 펴시된다.\n",
    "    # dump(), dumps()함수는 기본적으로 데이터를 아스키 형태로 저장하기 때문\n",
    "\n",
    "json.loads(json_data)\n",
    "    # 하지만 불러오는 데에는 문제가 없다.\n",
    "\n",
    "# 한글 문자열이 아스키 형태의 문자열로 변경되는 것을 방지하는 방법도 존재\n",
    "d = {'name': '홍길동', 'birth': '0525', 'age': 30}\n",
    "json_data = json.dumps(d, ensure_ascii=False)\n",
    "json_data\n",
    "\n",
    "# json 문자열을 보기 좋게 정렬하려면 다음처럼 indent 옵션을 추가하면 된다.\n",
    "d = {'name': '홍길동', 'birth': '0525', 'age': 30}\n",
    "json_data = json.dumps(d, indent=2, ensure_ascii=False)\n",
    "json_data"
   ]
  },
  {
   "attachments": {},
   "cell_type": "markdown",
   "metadata": {},
   "source": [
    "20. urllib"
   ]
  },
  {
   "cell_type": "code",
   "execution_count": null,
   "metadata": {},
   "outputs": [],
   "source": [
    "# urllib : url을 읽고 분석할 때 사용하는 모듈\n",
    "\n",
    "# 온라인은 https 로 불러 일으키면 된다.\n",
    "# 오프라인으로 호출하는 함수는?\n",
    "\n",
    "# urllib_test.py\n",
    "import urllib.request\n",
    "\n",
    "def get_wikidocs(page):\n",
    "    resource = 'https:..wikidocs.net/{}'. format(page)\n",
    "    with urllib.request.urlopen(resource) as s:\n",
    "        with open('wikidocs_%s.html' % page, 'wb') as f:\n",
    "            f.write(s.read())\n",
    "\n",
    "    # get_wikidocs(page) : 위키독스의 페이지 번호를 입력받아 해당 페이지의 리소스 내용을 파일로 저장하는 함수\n",
    "    # 객체를 생성하고, s.read()로 리소스 내용 전체를 읽어 저장\n",
    "    # get_wikidocs(12)라고 호출하면 12번째 페이지를 가져와서 파일로 저장"
   ]
  },
  {
   "attachments": {},
   "cell_type": "markdown",
   "metadata": {},
   "source": [
    "21. webbrowser"
   ]
  },
  {
   "cell_type": "code",
   "execution_count": null,
   "metadata": {},
   "outputs": [],
   "source": [
    "# webbrowser : 파이썬 프로그램에서 시스템 브라우저를 호출할 ㄸ ㅐ사용하는 모듈\n",
    "\n",
    "import webbrowser\n",
    "\n",
    "# 파이썬으로 웹 페이지를 새 창으로 열려면 webbrowser 모듈의 open_new()함수를 사용해야한다.\n",
    "webbrowser.open_new('http://python.org')\n",
    "\n",
    "# 이미 열린 브라우저로 원하는 사이트를 열고 싶다면 다음처럼 open()을 사용하면 된다.\n",
    "webbrowser.open('http://python.org')"
   ]
  }
 ],
 "metadata": {
  "kernelspec": {
   "display_name": "NewG",
   "language": "python",
   "name": "python3"
  },
  "language_info": {
   "codemirror_mode": {
    "name": "ipython",
    "version": 3
   },
   "file_extension": ".py",
   "mimetype": "text/x-python",
   "name": "python",
   "nbconvert_exporter": "python",
   "pygments_lexer": "ipython3",
   "version": "3.9.16"
  },
  "orig_nbformat": 4
 },
 "nbformat": 4,
 "nbformat_minor": 2
}
