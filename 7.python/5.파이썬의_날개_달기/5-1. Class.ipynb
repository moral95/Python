{
 "cells": [
  {
   "attachments": {},
   "cell_type": "markdown",
   "metadata": {},
   "source": [
    "클래스는 왜 필요한가?\n",
    "계산기 프로그램을 만들며 클래스 알아보기\n",
    "클래스와 객체\n",
    "사칙 연산 클래스 만들기\n",
    "클래스를 어떻게 만들지 먼저 구상하기\n",
    "클래스 구조 만들기\n",
    "객체에 연산할 숫자 지정하기\n",
    "더하기 기능 만들기\n",
    "곱하기, 빼기, 나누기 기능 만들기\n",
    "생성자\n",
    "클래스의 상속\n",
    "메서드 오버라이딩\n",
    "클래스변수"
   ]
  },
  {
   "attachments": {},
   "cell_type": "markdown",
   "metadata": {},
   "source": [
    "1. 클래스는 왜 필요한가?\n",
    "    1. 계산기 프로그램을 만들면서 클래스 알아보기"
   ]
  },
  {
   "cell_type": "code",
   "execution_count": 1,
   "metadata": {},
   "outputs": [
    {
     "name": "stdout",
     "output_type": "stream",
     "text": [
      "3\n",
      "7\n"
     ]
    }
   ],
   "source": [
    "# 프로그래밍을 위해 꼭 필요한 요소는 아니다.\n",
    "# 하지만 적재적소에 상요하면 프로그래머가 얻을 수 있는 이익은 많다.\n",
    "\n",
    "# 1. 계산기 프로그램을 만들면서 클래스 알아보기\n",
    "\n",
    "# 더하기 기능을 구현한 파이썬 코드는 다음과 같다.\n",
    "\n",
    "result = 0\n",
    "def add(num):\n",
    "    global result\n",
    "    result += num\n",
    "    return result\n",
    "\n",
    "print(add(3))\n",
    "print(add(4))\n",
    "    # 이전 계산한 결괏값을 유지하기 위해서 resutl 전역 변수 global을 사용했다.\n",
    "\n",
    "    # 2대의 계산기가 필요한 상황이면 어떻게 할까?\n",
    "    # add 1개로는 결괏값을 따로 유지할 수 없다.\n",
    "\n",
    "result1 = 0\n",
    "result2 = 0\n",
    "def add1(num):\n",
    "    global result1\n",
    "    result1 += num\n",
    "    return result1\n",
    "def add2(num):\n",
    "    global result2\n",
    "    result2 += num\n",
    "    return result2\n",
    "\n",
    "print(add1(3))\n",
    "print(add1(4))\n",
    "print(add2(3))\n",
    "print(add2(7))\n",
    "    # 그 이상으로 많아지면?? 매번 def 함수가 필요할 것이다.\n",
    "    # class를 사용하면 간단하게 정리할 수 있다.\n",
    "\n",
    "class Calculator:\n",
    "    def __init__(self):\n",
    "        self.result = 0\n",
    "\n",
    "    def add(self, num):\n",
    "        self.result += num\n",
    "        return self.result\n",
    "\n",
    "cal1 = Calculator()\n",
    "cal2 = Calculator()\n",
    "\n",
    "print(cal1.add(3))\n",
    "print(cal1.add(4))\n",
    "print(cal2.add(3))\n",
    "print(cal2.add(7))\n",
    "    # 클래스를 각 객체에 지정을 해주어서 실행하면 위와 같이 똑같다.\n",
    "    # 빼기 기능을 넣고 싶다면 class에 넣어주면 된다!\n",
    "\n",
    "class Calculator:\n",
    "    def __init__(self):\n",
    "        self.result = 0\n",
    "\n",
    "    def add(self, num):\n",
    "        self.result += num\n",
    "        return self.result\n",
    "    def sub(self, num):\n",
    "        self.result -= num\n",
    "        return self.result\n"
   ]
  },
  {
   "attachments": {},
   "cell_type": "markdown",
   "metadata": {},
   "source": [
    "2. 클래스와 객체"
   ]
  },
  {
   "cell_type": "code",
   "execution_count": null,
   "metadata": {},
   "outputs": [],
   "source": [
    "# 과자 틀 = 클래스\n",
    "# 과자 틀로 찍어 낸 과자 = 객체\n",
    "# 클래스로 만든 객체는 중요한 특징이 있다. 객체마다 고유한 성격을 가진다는 것.\n",
    "# 과자 틀로 만든 과자에 구멍을 뚫거나 조금 베어 먹더라도 다른 과자에 영향이 없는 것과 같다.\n",
    "class cookie:\n",
    "    pass\n",
    "a = cookie()\n",
    "b = cookie()\n",
    "    # cookie()의 결괏값을 리턴받는 a와 b가 바로 객체이다.\n",
    "    # 객체와 인스턴스의 차이\n",
    "    # 클래스로 만든 객체를 인스턴스라고 한다.\n",
    "    # a는 인스턴스 보다는 a는 객체\n",
    "    # a는 cookie의 객체 보다는 a는 cookie의 인스턴스 표현이 어울린다.\n",
    "\n",
    "    "
   ]
  },
  {
   "attachments": {},
   "cell_type": "markdown",
   "metadata": {},
   "source": [
    "3. 사칙 연산 클래스 만들기\n",
    "    1. 클래스를 어떻게 만들지 먼저 구상하기\n",
    "    2. 클래스 구조 만들기\n",
    "    3. 객체에 연산할 숫자 지정하기\n",
    "    4. 더하기 기능 만들기\n",
    "    5. 곱하기, 빼기, 나누기 기능 만들기"
   ]
  },
  {
   "cell_type": "code",
   "execution_count": 8,
   "metadata": {},
   "outputs": [
    {
     "name": "stdout",
     "output_type": "stream",
     "text": [
      "<class '__main__.FourCal'>\n",
      "4\n",
      "2\n",
      "4\n",
      "3\n"
     ]
    },
    {
     "data": {
      "text/plain": [
       "6"
      ]
     },
     "execution_count": 8,
     "metadata": {},
     "output_type": "execute_result"
    }
   ],
   "source": [
    "# 1. 클래스를 어떻게 만들지 구상\n",
    "\n",
    "    # add, sub, div, mul, setdata 메서드\n",
    "# a = FourCal()\n",
    "# a.setdata(4,2)\n",
    "# a.add()\n",
    "# a.mul()\n",
    "# a.sub()\n",
    "# a.div()\n",
    "\n",
    "# 이런 식으로 형태 구성\n",
    "\n",
    "# 2. 클래스 구조 만들기\n",
    "\n",
    "class FourCal:\n",
    "    pass\n",
    "a = FourCal()\n",
    "print(type(a))\n",
    "    # a 객체를 먼저 만든 후 type(a)로 a객체가 어떤 타입인지 알아보았다.\n",
    "    #객체 a가 클래스의 인스턴스란 것을 알 수 있따.\n",
    "\n",
    "# 3. 객체에 연산할 숫자 지정하기\n",
    "# a.setdata(4,2) 를 수행할 수 있도록 해보자.\n",
    "\n",
    "class FourCal:\n",
    "    def setdata(self, first, second):\n",
    "        self.first = first\n",
    "        self.second = second\n",
    "\n",
    "    # 클래스 안에 구현된 함수는 다른 말로는 메서드라고 부른다\n",
    "def setdata(self, first, second): # 메서드의 매개변수\n",
    "    self.first = first            # 메서드의 수행문\n",
    "    self.second = second          # 메서드의 수행문\n",
    "\n",
    "    # setdata 메서드의 매개변수\n",
    "    # 매개변수로 self, first, second 3ㅐ개의 입력값을 받는다.\n",
    "    # 일반 함수와 달리, 메서드의 첫번째 매개변수 self는 특별한 의미를 가진다.\n",
    "\n",
    "a = FourCal()\n",
    "a.setdata(4,2)\n",
    "    # 객체를 이용해 클래스 a.setdata 와 같이 도트 연산자를 사용한다.\n",
    "    # 근데 self, first,second 총3개의 매개변수가 필요한데, 실제로는 2개의 값만 전달했다.\n",
    "    # 그 이유로 첫번째 매개변수 self에는 메서드를 호출한 객체 a가 자동으로 전달하기 때문이다.\n",
    "    # 첫번째 매개변수 이름은 관례적으로 self 를 사용한다. 객체를 호출할때 호출한 객체 자신이 전달되기때문에 self 사용\n",
    "    # 다른 이름을 사용해도 상관없다.\n",
    "\n",
    "# 다른 방법\n",
    "a = FourCal()\n",
    "FourCal.setdata(a,4,2)\n",
    "    # 클래스명.메서드 형태로 호출할때 객체 a를 첫번째 매개변수 self에 꼭 전달해야한다.\n",
    "\n",
    "a.setdata(4,2)\n",
    "print(a.first)\n",
    "print(a.second)\n",
    "\n",
    "a = FourCal()\n",
    "b = FourCal()\n",
    "a.setdata(4,2)\n",
    "b.setdata(3,7)\n",
    "print(a.first)\n",
    "print(b.first)\n",
    "    # a와 b 객체가 아예 다르기때문에 first값이 당연히 다르게 나온다.\n",
    "\n",
    "# 4. 더하기 기능 만들기\n",
    "class FourCal:\n",
    "    def setdata(self, first, second):\n",
    "        self.first = first\n",
    "        self.second = second\n",
    "    def add(self):\n",
    "        result = self.first + self.second\n",
    "        return result\n",
    "    \n",
    "a = FourCal()\n",
    "a.setdata(4,2)\n",
    "a.add()\n",
    "    # 객체로 호출하기 때문에, self를 사용한다.\n",
    "\n",
    "        # result = self.first + self.second\n",
    "    # first, second 지정 받은것을 그대로 들고 오고, result로 반환한다.\n",
    "\n",
    "# 5. 곱하기 빼기 나누기 기능 만들기\n",
    "class FourCal:\n",
    "    def setdata(self, first, second):\n",
    "        self.first = first\n",
    "        self.second = second\n",
    "    def add(self):\n",
    "        result = self.first + self.second\n",
    "        return result\n",
    "    def mul(self):\n",
    "        result = self.first * self.second\n",
    "        return result\n",
    "    def sub(self):\n",
    "        result = self.first = self.second\n",
    "        return result\n",
    "    def div(self):\n",
    "        result = self.first / self.second\n",
    "        return result\n",
    "    \n",
    "a= FourCal()\n",
    "b= FourCal()\n",
    "a.setdata(4,2)\n",
    "b.setdata(3,8)\n",
    "\n",
    "a.add()\n",
    "# 위처럼 기능을 불러와서 사용하면 된다.\n"
   ]
  },
  {
   "attachments": {},
   "cell_type": "markdown",
   "metadata": {},
   "source": [
    "4. 생성자"
   ]
  },
  {
   "cell_type": "code",
   "execution_count": 9,
   "metadata": {},
   "outputs": [
    {
     "name": "stdout",
     "output_type": "stream",
     "text": [
      "4\n",
      "2\n",
      "6\n",
      "2.0\n"
     ]
    }
   ],
   "source": [
    "# a = FourCal()\n",
    "# a.add()\n",
    "\n",
    "# 위처럼 불러서 사용하면, setdata로 first, second를 지정하지 않았기 때문에 오류가 생긴다.\n",
    "# 이렇게 객체에 초깃값을 설정할 필요가 있을 때는 생성자를 구현하는 것이 안전한 방법이다.\n",
    "# 생정자란 객체가 생성될 때 자동으로 호출되는 메서드를 의미한다.\n",
    "# 파이썬 메서드명으로  __init__으로 사용하면 생성자가 된다.\n",
    "\n",
    "class FourCal:\n",
    "    def __init__(self, first, second):\n",
    "        self.first = first\n",
    "        self.second = second\n",
    "    def setdata(self, first, second):\n",
    "        self.first = first\n",
    "        self.second = second\n",
    "    def add(self):\n",
    "        result = self.first + self.second\n",
    "        return result\n",
    "    def mul(self):\n",
    "        result = self.first * self.second\n",
    "        return result\n",
    "    def sub(self):\n",
    "        result = self.first = self.second\n",
    "        return result\n",
    "    def div(self):\n",
    "        result = self.first / self.second\n",
    "        return result\n",
    "    \n",
    "        # def __init__(self, first, second):\n",
    "        # self.first = first\n",
    "        # self.second = second\n",
    "        # first, second에 해당하는 값을 전달하여 객체 생성해야한다.\n",
    "a = FourCal(4, 2)\n",
    "print(a.first)\n",
    "print(a.second)\n",
    "print(a.add())\n",
    "print(a.div())"
   ]
  },
  {
   "attachments": {},
   "cell_type": "markdown",
   "metadata": {},
   "source": [
    "5. 클래스의 상속"
   ]
  },
  {
   "cell_type": "code",
   "execution_count": 11,
   "metadata": {},
   "outputs": [
    {
     "name": "stdout",
     "output_type": "stream",
     "text": [
      "6\n",
      "8\n",
      "2\n",
      "1.0\n",
      "16\n",
      "6\n"
     ]
    }
   ],
   "source": [
    "class MoreFourCal(FourCal):\n",
    "    pass\n",
    "# 기존의 클래스를 상속 받는것이다.\n",
    "\n",
    "# class 클래스이름(상속할 클래스 이름)\n",
    "\n",
    "a = MoreFourCal(4,2)\n",
    "print(a.add())\n",
    "print(a.mul())\n",
    "print(a.sub())\n",
    "print(a.div())\n",
    "    # 상속 기능은 왜 쓰는 걸까?\n",
    "    # 보통 기존의 클래스를 변경하지 않고 기능을 추가하거나 변경하려고 할때 사용\n",
    "    # 기존의 클래스가 라이브러리 형태로 제공되거나 수정이 허용되지 않는 상황이라면 상속 사용해야함\n",
    "\n",
    "class MoreFourCal(FourCal):\n",
    "    def pow(self):\n",
    "        result = self.first ** self.second\n",
    "        return result\n",
    "    \n",
    "a = MoreFourCal(4,2)\n",
    "print(a.pow())\n",
    "print(a.add())\n",
    "    # 기존의 기능을 불러서 사용했기에, add를 사용할 수 있다."
   ]
  },
  {
   "attachments": {},
   "cell_type": "markdown",
   "metadata": {},
   "source": [
    "6. 메서드 오버라이딩"
   ]
  },
  {
   "cell_type": "code",
   "execution_count": 12,
   "metadata": {},
   "outputs": [
    {
     "name": "stdout",
     "output_type": "stream",
     "text": [
      "0\n"
     ]
    }
   ],
   "source": [
    "# a = FourCal(4,0)\n",
    "# print(a.div())\n",
    "\n",
    "    # zero로 나누려했기에 오류가 발생한다.\n",
    "    # 오류가 아닌 값 0을 리턴받고 싶다면 어떻게 해야할까?\n",
    "\n",
    "class SafeFourCal(FourCal):\n",
    "    def div(self):\n",
    "        if self.second == 0: # 나누는 값이 0인 경우 0 리턴하도록 수정\n",
    "            return 0\n",
    "        else:\n",
    "            return self.first / self.second\n",
    "        \n",
    "        # 상속 받을 클래스 FourCal 내에 div 메서드를 동일한 이름으로 작성했다.\n",
    "        # 부모 클래스에 있는 메서드를 동일한 이름으로 다시 만다는 것을 메서드 오버라이딩이라한다.\n",
    "        # 오버라이딩을 하면 부모 클래스 메서드 대신에 오버라이딩한 메서드가 호출한다.\n",
    "\n",
    "a = SafeFourCal(4,0)\n",
    "print(a.div())        \n"
   ]
  },
  {
   "attachments": {},
   "cell_type": "markdown",
   "metadata": {},
   "source": [
    "7. 클래스변수"
   ]
  },
  {
   "cell_type": "code",
   "execution_count": null,
   "metadata": {},
   "outputs": [],
   "source": [
    "class Family:\n",
    "    lastname = \"김\"\n",
    "\n",
    "    # 객체 변수는 다른 객체들의 영향을 받지 않고 독립적으로 그 값을 유지한다는 점을 이미 알아보았다.\n",
    "    # 객체변수와는 성격이 다른 클래스변수에 대해 알아보자.\n",
    "\n",
    "print(Family.lastname)\n",
    "    # z클래스 변수는 클래스이름.클래스변수 로 사용할 수 있다.\n",
    "\n",
    "a = Family()\n",
    "b = Family()\n",
    "print(a.lastname)\n",
    "print(b.lastname)\n",
    "Family.lastname = \"박\"\n",
    "print(a.lastname)\n",
    "print(b.lastname)\n",
    "    # 클래스 변수의 값을 변경했더니 클래스로 만든 객체의 lastname 값도 모두 변경된다.\n",
    "    # 클래스 변수는 객체변수와 달리\n",
    "    # 클래스로 만든 모든 객체에 공유된다는 특징\n",
    "\n",
    "#하지만\n",
    "Family.lastname = \"박\"\n",
    "a.lastname = \"최\"\n",
    "\n",
    "    # 객체 변수와 클래스 변수와는 다르다.\n",
    "    # 객체 변수는 나 혼자에만 영향.\n",
    "    # 클래스 변수는 클래스 전체의 전역적인 영향\n",
    "    \n"
   ]
  }
 ],
 "metadata": {
  "kernelspec": {
   "display_name": "NewG",
   "language": "python",
   "name": "python3"
  },
  "language_info": {
   "codemirror_mode": {
    "name": "ipython",
    "version": 3
   },
   "file_extension": ".py",
   "mimetype": "text/x-python",
   "name": "python",
   "nbconvert_exporter": "python",
   "pygments_lexer": "ipython3",
   "version": "3.9.16"
  },
  "orig_nbformat": 4
 },
 "nbformat": 4,
 "nbformat_minor": 2
}
