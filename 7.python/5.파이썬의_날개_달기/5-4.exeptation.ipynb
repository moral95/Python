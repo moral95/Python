{
 "cells": [
  {
   "cell_type": "code",
   "execution_count": null,
   "metadata": {},
   "outputs": [],
   "source": []
  },
  {
   "attachments": {},
   "cell_type": "markdown",
   "metadata": {},
   "source": [
    "5-4 예외처리"
   ]
  },
  {
   "attachments": {},
   "cell_type": "markdown",
   "metadata": {},
   "source": [
    "1. 오류는 언제 발생하는가?"
   ]
  },
  {
   "attachments": {},
   "cell_type": "markdown",
   "metadata": {},
   "source": [
    "오류를 처리하는 바업을 공부하기 전에 어떤 사오항에 오류가 발생하는가?\n",
    "\n",
    "오타를 입력했을 때 발생하는 구문 오류 같은 것이 아닌 실제 오류를 중심으로 보자"
   ]
  },
  {
   "cell_type": "code",
   "execution_count": null,
   "metadata": {},
   "outputs": [],
   "source": [
    "# 1. FileNotFoundError\n",
    "        #  f = open(\"나없는파일\", 'r')\n",
    "\n",
    "        # 위는 없는 파일을 사용할 때 발생하는 오류이다.\n",
    "# 2. ZeroDivisionError\n",
    "        # 4/0\n",
    "\n",
    "        # 0으로 다른 숫자를 나누는 경우를 생각해보자. 이 역시 자주 발생한느 오류이다.\n",
    "# 3. IndexError\n",
    "        # a = [1,2,3]\n",
    "        # a[3]\n",
    "\n",
    "        # a[3]은 요소값 4번째를 가리키는데, a 리스트는 3개 밖에 없으므로, 값을 ㅇ얻을 수 없다.\n"
   ]
  },
  {
   "attachments": {},
   "cell_type": "markdown",
   "metadata": {},
   "source": [
    "2. 오류 예외 처리 기법\n",
    "    1. try-except 문\n",
    "    2. try-finally 문\n",
    "    3. 여러개의 오류 처리하기\n",
    "    4. try-else 문\n",
    "    "
   ]
  },
  {
   "cell_type": "code",
   "execution_count": 1,
   "metadata": {},
   "outputs": [
    {
     "name": "stdout",
     "output_type": "stream",
     "text": [
      "division by zero\n"
     ]
    }
   ],
   "source": [
    "# 2-1. try-except 문\n",
    "\n",
    "'''\n",
    "try:\n",
    "excpet [ 발생오류 [as 오류변수]]:\n",
    "'''\n",
    "# -> except [ 발생오류 [ as 오류변수 ]]:\n",
    "# []을 사용하는데, 이 기호는 괄호 안의 내용을 생략할 수 있다는 관례적인 표기법이다. \n",
    "# except 구문은 다음 3가지 방법으로 사용할 수 있다.\n",
    "    \n",
    "    # 1. try-except만 쓰는 방법\n",
    "    \n",
    "'''\n",
    "try\"\n",
    "except:\n",
    "    \n",
    "'''\n",
    "    # 위 경우는 오류의 종류에 상관 없이 오류가 발생하면 except 블록을 수행한다.\n",
    "\n",
    "    # 2. 발생 오류만 포함한 except문\n",
    "\n",
    "'''\n",
    "try:\n",
    "except 발생오류:\n",
    "'''\n",
    "    # 위 경우는 오류가 발생했을 때, except문에 미리 정해 놓은 오류와 동일한 오류일 경우에만 except블록을 수행\n",
    "\n",
    "    # 3. 발생오류와 오류변수까지 포함한 except 문\n",
    "'''\n",
    "try:\n",
    "except 발생오류 as 오류변수:\n",
    "'''    \n",
    "    # 위 경우는 오류의 내용까지 알고 싶을 때 사용하는 방법\n",
    "\n",
    "try:\n",
    "    4/0\n",
    "except ZeroDivisionError as e:\n",
    "    print(e)\n",
    "    #division by zero\n",
    "    # 위처럼 출력"
   ]
  },
  {
   "cell_type": "code",
   "execution_count": 4,
   "metadata": {},
   "outputs": [],
   "source": [
    "# 2-2. try-finally 문\n",
    "\n",
    "# try문에는 finally 절을 사용할 수 있다.\n",
    "# finally 절은  try문 수행 도중 예외 발생 여부에 상관없이 항상 수행된다.\n",
    "# 보통 finally 절은 사용한 리소스를 close해야 할 때 많이 사용한다.\n",
    "try:\n",
    "    f = open('foo.txt', 'w')\n",
    "    # 무언가를 수행한다.\n",
    "    f.write('(... 생략 ...)')\n",
    "\n",
    "finally:\n",
    "    f.close()\n",
    "    # 중간에 오류가 발생하더라도 무조건 실핸한다.\n",
    "    # txt 파일을 쓰기 모드로 연 후에 예외 발생 여부에 상관없이 항상 파일을 닫아 주려면 try-finally 문을 사용하면 된다."
   ]
  },
  {
   "cell_type": "code",
   "execution_count": 7,
   "metadata": {},
   "outputs": [
    {
     "name": "stdout",
     "output_type": "stream",
     "text": [
      "인덱싱 할 수 없습니다.\n",
      "인덱싱 할 수 없습니다.\n",
      "list index out of range\n"
     ]
    }
   ],
   "source": [
    "# 2-3. 여러 개의 오류 처리하기\n",
    "#\n",
    "'''\n",
    "try:\n",
    "\n",
    "except 발생오류1:\n",
    "\n",
    "except 발생오류2:\n",
    "'''\n",
    "try:\n",
    "    a = [1,2]\n",
    "    print(a[3])\n",
    "    print(4/0)\n",
    "except ZeroDivisionError:\n",
    "    print(\"0으로 나눌 수 없습니다.\")\n",
    "except IndexError:\n",
    "    print(\"인덱싱 할 수 없습니다.\")\n",
    "\n",
    "    # 위는 인덱싱 오류가 먼저 발생했으므로, ZeroDivisionError 오류는 발생하지 않는다.\n",
    "\n",
    "try:\n",
    "    a = [1,2]\n",
    "    print(a[3])\n",
    "    print(4/0)\n",
    "except ZeroDivisionError as e:\n",
    "    print(\"0으로 나눌 수 없습니다.\")\n",
    "except IndexError as e:\n",
    "    print(\"인덱싱 할 수 없습니다.\")    \n",
    "\n",
    "try:\n",
    "    a = [1,2]\n",
    "    print(a[3])\n",
    "    4/0\n",
    "except (ZeroDivisionError, IndexError) as e:\n",
    "    print(e)    \n",
    "\n",
    "    # 위처럼 처리하면 2개 이상의 오류를 동일하게 처리하기 위해서는 위와 같이 괄호를 사용하여 함께 묶어 처리하면 된다."
   ]
  },
  {
   "cell_type": "code",
   "execution_count": null,
   "metadata": {},
   "outputs": [],
   "source": [
    "# 4. try-else 문\n",
    "\n",
    "# try 문에는 다음처럼 else 절을 사용할 수도 있다.\n",
    "\n",
    "'''\n",
    "try:\n",
    "    ...\n",
    "except [발생오류 [as 오류변수]]:\n",
    "    ...\n",
    "else:  # 오류가 없을 경우에만 수행\n",
    "    ...\n",
    "    \n",
    "'''\n",
    "    # try문 수행 중 오류가 발생하면 except 절, 오류가 발생하지 않능면 else 절이 수행된다.\n",
    "\n",
    "try:\n",
    "    age=int(input('나이를 입력하세요: '))\n",
    "except:\n",
    "    print('입력이 정확하지 않습니다.')\n",
    "else:\n",
    "    if age <= 18:\n",
    "        print('미성년자는 출입금지입니다.')\n",
    "    else:\n",
    "        print('환영합니다.')    \n",
    "        \n",
    "        # 숫자가 아닌 다른 값을 입력하면 오류가 발생하여 입력이 정확하지 않습니다 라는 문장 출력\n",
    "        # 오류 없을 경우에는 else 절이 수행\n",
    "        "
   ]
  },
  {
   "attachments": {},
   "cell_type": "markdown",
   "metadata": {},
   "source": [
    "3. 오류 회피하기"
   ]
  },
  {
   "cell_type": "code",
   "execution_count": null,
   "metadata": {},
   "outputs": [],
   "source": [
    "# 코드를 작성하다 보면 특정 오류가 발생할 경우 그냥 통과시켜야 할 때가 있다.\n",
    "\n",
    "try:\n",
    "    f = open(\"나없는파일\", 'r')\n",
    "except FileNotFoundError:\n",
    "    pass\n",
    "\n",
    "    # try 문 안에서 위의 에러가 발생할 경우, pass를 사용하여 그냥 회피하도록 작성한 예제이다."
   ]
  },
  {
   "attachments": {},
   "cell_type": "markdown",
   "metadata": {},
   "source": [
    "4. 오류 일부러 발생시키기"
   ]
  },
  {
   "cell_type": "code",
   "execution_count": 8,
   "metadata": {},
   "outputs": [
    {
     "ename": "NotImplementedError",
     "evalue": "",
     "output_type": "error",
     "traceback": [
      "\u001b[0;31m---------------------------------------------------------------------------\u001b[0m",
      "\u001b[0;31mNotImplementedError\u001b[0m                       Traceback (most recent call last)",
      "Cell \u001b[0;32mIn[8], line 15\u001b[0m\n\u001b[1;32m     12\u001b[0m     \u001b[39mpass\u001b[39;00m\n\u001b[1;32m     14\u001b[0m eagle \u001b[39m=\u001b[39m Eagle()\n\u001b[0;32m---> 15\u001b[0m eagle\u001b[39m.\u001b[39;49mfly()\n",
      "Cell \u001b[0;32mIn[8], line 7\u001b[0m, in \u001b[0;36mBird.fly\u001b[0;34m(self)\u001b[0m\n\u001b[1;32m      6\u001b[0m \u001b[39mdef\u001b[39;00m \u001b[39mfly\u001b[39m(\u001b[39mself\u001b[39m):\n\u001b[0;32m----> 7\u001b[0m     \u001b[39mraise\u001b[39;00m \u001b[39mNotImplementedError\u001b[39;00m\n",
      "\u001b[0;31mNotImplementedError\u001b[0m: "
     ]
    }
   ],
   "source": [
    "# 파이썬은 raise 명령어를 사용해 오류를 강제로 발생시킬 수 있다.\n",
    "\n",
    "# 예로, Bird 클래스를 상속받는 자식 클래스는 반드시 fly라는 함수를 구현하도록 만들고 싶은 경우(강제로 그렇게 하고 싶은 경우)\n",
    "\n",
    "class Bird:\n",
    "    def fly(self):\n",
    "        raise NotImplementedError\n",
    "    # class를 상속받는 자식 클래스는 반드리 fly함수를 구현해야 한다는 의지를 보여준다.\n",
    "    # 만약 자식 클래스가 fly함수를 구현하지 않는 상태로 fly 함수를 호출한다면 어떻게 될까?\n",
    "\n",
    "class Eagle(Bird):\n",
    "    pass\n",
    "\n",
    "eagle = Eagle()\n",
    "eagle.fly()\n",
    "\n",
    "    # 오버라이딩하여 구현하지 않았다.\n",
    "    # 부모 클래스의 지정처럼 오류를 발생시켰다."
   ]
  },
  {
   "cell_type": "code",
   "execution_count": null,
   "metadata": {},
   "outputs": [],
   "source": [
    "# 위처럼 발생하지 않게 하려면\n",
    "\n",
    "class Eagle(Bird):\n",
    "    def fly(self):\n",
    "        print(\"very fast\")\n",
    "\n",
    "eagle = Eagle()\n",
    "eagle.fly()\n",
    "\n",
    "    # 메서드 오버라이딩을 한다!"
   ]
  },
  {
   "attachments": {},
   "cell_type": "markdown",
   "metadata": {},
   "source": [
    "5. 예외 만들기"
   ]
  },
  {
   "cell_type": "code",
   "execution_count": 2,
   "metadata": {},
   "outputs": [
    {
     "name": "stdout",
     "output_type": "stream",
     "text": [
      "천사\n"
     ]
    },
    {
     "ename": "MyError",
     "evalue": "",
     "output_type": "error",
     "traceback": [
      "\u001b[0;31m---------------------------------------------------------------------------\u001b[0m",
      "\u001b[0;31mMyError\u001b[0m                                   Traceback (most recent call last)",
      "Cell \u001b[0;32mIn[2], line 15\u001b[0m\n\u001b[1;32m     12\u001b[0m     \u001b[39mprint\u001b[39m(nick)\n\u001b[1;32m     14\u001b[0m say_nick(\u001b[39m\"\u001b[39m\u001b[39m천사\u001b[39m\u001b[39m\"\u001b[39m)\n\u001b[0;32m---> 15\u001b[0m say_nick(\u001b[39m\"\u001b[39;49m\u001b[39mfool\u001b[39;49m\u001b[39m\"\u001b[39;49m)\n",
      "Cell \u001b[0;32mIn[2], line 11\u001b[0m, in \u001b[0;36msay_nick\u001b[0;34m(nick)\u001b[0m\n\u001b[1;32m      9\u001b[0m \u001b[39mdef\u001b[39;00m \u001b[39msay_nick\u001b[39m(nick):\n\u001b[1;32m     10\u001b[0m     \u001b[39mif\u001b[39;00m nick \u001b[39m==\u001b[39m \u001b[39m'\u001b[39m\u001b[39mfool\u001b[39m\u001b[39m'\u001b[39m:\n\u001b[0;32m---> 11\u001b[0m         \u001b[39mraise\u001b[39;00m MyError()\n\u001b[1;32m     12\u001b[0m     \u001b[39mprint\u001b[39m(nick)\n",
      "\u001b[0;31mMyError\u001b[0m: "
     ]
    }
   ],
   "source": [
    "# 툭수한 경우에만 예외처리를 하려고 종종 예외를 만들어서 사용한다.\n",
    "\n",
    "# 예외를 직접 만들자!\n",
    "# 예외는 다으모가 같이 파이썬 내장 클래스인 Exception 클래스를 상속하여 만든다.\n",
    "\n",
    "class MyError(Exception):\n",
    "    pass\n",
    "\n",
    "def say_nick(nick):\n",
    "    if nick == 'fool':\n",
    "        raise MyError()\n",
    "    print(nick)\n",
    "\n",
    "say_nick(\"천사\")\n",
    "say_nick(\"fool\")\n"
   ]
  },
  {
   "cell_type": "code",
   "execution_count": 7,
   "metadata": {},
   "outputs": [
    {
     "name": "stdout",
     "output_type": "stream",
     "text": [
      "천사\n",
      "허용되지 않는 별명입니다.\n",
      "천사\n",
      "허용되지 않는 별명입니다.\n",
      "천사\n",
      "허용되지 않는 별명입니다.\n"
     ]
    }
   ],
   "source": [
    "# 내가 하고 싶은대로 오류는 꺼내왔다.\n",
    "# 예외처리 기법을 사용하서 예외처리 해보자.\n",
    "\n",
    "try:\n",
    "    say_nick(\"천사\")\n",
    "    say_nick(\"fool\")\n",
    "except MyError:\n",
    "    print(\"허용되지 않는 별명입니다.\")\n",
    "\n",
    "# 만약 오류 메시지를 사용하고 싶다면?\n",
    "\n",
    "try:\n",
    "    say_nick(\"천사\")\n",
    "    say_nick(\"fool\")\n",
    "except MyError as e:\n",
    "    print(e)\n",
    "\n",
    "    # print(e) 로 오류 메시지가 출력되지 앟는 것을 확인할 수 있다.\n",
    "    # 오류 메시지를 보이게 하려면\n",
    "    # 오류 클래스에 다음과 같은 __str__ 매서드를 구현해야한다.\n",
    "    # __str__ 메서드는 print(e)처럼 오류 메시지를 print() 문으ㅗㄹ 출력할 경웽 호출되는 메서드이다.\n",
    "\n",
    "class MyError(Exception):\n",
    "    def __str__(self):\n",
    "        return \"허용되지 않는 별명입니다.\"\n",
    "    \n",
    "try:\n",
    "    say_nick(\"천사\")\n",
    "    say_nick(\"fool\")\n",
    "except MyError as e:\n",
    "    print(e)    \n",
    "\n",
    "    # 이제 출력된다!"
   ]
  },
  {
   "attachments": {},
   "cell_type": "markdown",
   "metadata": {},
   "source": []
  }
 ],
 "metadata": {
  "kernelspec": {
   "display_name": "mlcl",
   "language": "python",
   "name": "python3"
  },
  "language_info": {
   "codemirror_mode": {
    "name": "ipython",
    "version": 3
   },
   "file_extension": ".py",
   "mimetype": "text/x-python",
   "name": "python",
   "nbconvert_exporter": "python",
   "pygments_lexer": "ipython3",
   "version": "3.8.16"
  },
  "orig_nbformat": 4
 },
 "nbformat": 4,
 "nbformat_minor": 2
}
