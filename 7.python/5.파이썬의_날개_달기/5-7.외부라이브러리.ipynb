{
 "cells": [
  {
   "attachments": {},
   "cell_type": "markdown",
   "metadata": {},
   "source": [
    "5-7. 외부 라이브러리\n",
    "\n",
    "    - 파이썬 설치 시 기본으로 설치되는 라이브러리를 '파이썬 표준 라이브러리'라고 한다.\n",
    "    - 외부라이브러리는 파이썬 표준 라이브러리가 아니므로 사용하려면 먼저 pip 도구를 이용하여 설치해야한다.\n",
    "\n",
    "1. pip\n",
    "    1. pip install\n",
    "    2. pip uninstall\n",
    "    3. 특정 버전으로 설치하기\n",
    "    4. 최신 버전으로 업그레이드하기\n",
    "    5. 설치된 패키지 확인하기\n",
    "\n",
    "2. Faker\n",
    "    1. Faker 사용해보기\n",
    "    2. Faker 활용하기\n",
    "\n",
    "3. sympy\n",
    "    1. sympy 사용해보기\n",
    "    2. sympy 활용"
   ]
  },
  {
   "attachments": {},
   "cell_type": "markdown",
   "metadata": {},
   "source": [
    "1. pip\n",
    "\n",
    "pip은 파이썬 모듈이나 패키지를 쉽게 설치할 수 있도록 돠와주는 도구이다. pip으로 파이썬 프로그램을 설치하면 의존성이 있는 모듈이나 패키지를 함께 설치해준다.\n",
    "\n",
    "예를 들면 B라는 파이썬 패키지를 설치하려면 A라는 패키지가 먼저 설치되어야 하는 규칙이 있다고 가정할 때\n",
    "\n",
    "pip을 이용하면 B 패키지를 설치할 때 A 패키지도 자동으로 함께 설치된다.\n",
    "\n",
    "    1.1. pip install \n",
    "\n",
    "    - PyPI(python package index)는 파이썬 소프트웨어가 모인 저장공간이다.\n",
    "    - 현재 이곳에는 10만 건 이상의 파이썬 패키지가 등록되어 있으며\n",
    "    - 이곳에 등록된 파이썬 패키지는 누구나 내려 받아 사용할 수 있다.\n",
    "\n",
    "        pip install SomePackage"
   ]
  },
  {
   "attachments": {},
   "cell_type": "markdown",
   "metadata": {},
   "source": [
    "    1.2. pip uninstall\n",
    "\n",
    "        pip uninstall SomePackage\n",
    "\n",
    "    1.3. 특정 버전으로 설치하기\n",
    "    \n",
    "        pip install SomePackage==1.0.4\n",
    "\n",
    "        pip install SomePackage\n",
    "\n",
    "    -> 버전 생략하면 최신 버전으로 설치한다.\n",
    "\n",
    "    1.4. 최신버전으로 업그레이드하기\n",
    "\n",
    "        pip install --upgrade SomePackage\n",
    "\n",
    "    1.5. 설치된 패키지 확인하기\n",
    "\n",
    "        pip list\n",
    "\n",
    "    설치한 패키지 목록을 출력한다. "
   ]
  },
  {
   "attachments": {},
   "cell_type": "markdown",
   "metadata": {},
   "source": [
    "2. Faker\n",
    "\n",
    "pip를 사용하여 유용한 외부 라이브러리 중인 Faker 설치하고 사용합니다.\n",
    "\n",
    "Faker는 테스트용 가짜 데이터를 생성할 때 사용하는 라이브러리\n",
    "\n",
    "pip install Faker"
   ]
  },
  {
   "cell_type": "code",
   "execution_count": null,
   "metadata": {},
   "outputs": [],
   "source": [
    "!pip install Faker"
   ]
  },
  {
   "cell_type": "code",
   "execution_count": 4,
   "metadata": {},
   "outputs": [
    {
     "data": {
      "text/plain": [
       "'Margaret Mora'"
      ]
     },
     "execution_count": 4,
     "metadata": {},
     "output_type": "execute_result"
    }
   ],
   "source": [
    "# 2.1 Faker 사용해보기\n",
    "\n",
    "# [(1, a), (2, b)... (30, '30a')]\n",
    "\n",
    "from faker import Faker\n",
    "\n",
    "fake = Faker()\n",
    "fake.name()"
   ]
  },
  {
   "cell_type": "code",
   "execution_count": 7,
   "metadata": {},
   "outputs": [
    {
     "name": "stdout",
     "output_type": "stream",
     "text": [
      "손은정\n",
      "경상북도 성남시 역삼로\n",
      "[('강민수', '세종특별자치시 금천구 봉은사0거리 (성호김리)'), ('윤영수', '충청북도 시흥시 삼성로'), ('김성현', '세종특별자치시 동대문구 서초중앙로'), ('권서현', '인천광역시 송파구 언주길 (상호서정읍)'), ('김은영', '대전광역시 관악구 봉은사321거리'), ('박도현', '전라북도 부여군 반포대거리'), ('차영순', '광주광역시 마포구 강남대41로 (영길이리)'), ('김경숙', '제주특별자치도 보령시 양재천가'), ('김정숙', '인천광역시 동구 봉은사가'), ('류예준', '대전광역시 성동구 강남대거리 (미영김마을)'), ('심주원', '광주광역시 성북구 반포대472로 (정순김강면)'), ('노지우', '충청북도 여주시 개포567거리'), ('김지우', '경상남도 수원시 영통구 서초대길 (은정김김마을)'), ('강미경', '경기도 하남시 서초중앙로'), ('이진호', '전라남도 안산시 상록구 삼성6거리 (영희안마을)'), ('김예원', '울산광역시 성동구 개포6길'), ('이지은', '대구광역시 서초구 반포대584로'), ('이영환', '세종특별자치시 서구 가락로 (지현이동)'), ('박현우', '울산광역시 종로구 가락166길'), ('심영자', '충청남도 시흥시 학동1가'), ('백경수', '울산광역시 강동구 강남대23가'), ('이현지', '부산광역시 영등포구 반포대로'), ('이숙자', '충청남도 청양군 언주578로 (진호이리)'), ('김지영', '울산광역시 송파구 논현가 (명자배손읍)'), ('이현지', '전라남도 연천군 언주74거리 (민수김마을)'), ('이성수', '제주특별자치도 수원시 영통구 역삼310길 (상호김읍)'), ('윤광수', '경기도 화천군 역삼거리'), ('이민서', '제주특별자치도 증평군 도산대로'), ('최서현', '전라북도 철원군 삼성길'), ('이미경', '대전광역시 도봉구 백제고분0길')]\n"
     ]
    }
   ],
   "source": [
    "fake = Faker('ko-KR')\n",
    "print(fake.name())\n",
    "print(fake.address())\n",
    "\n",
    "test_data = [(fake.name(), fake.address()) for i in range(30)]\n",
    "\n",
    "print(test_data)"
   ]
  },
  {
   "cell_type": "code",
   "execution_count": 8,
   "metadata": {},
   "outputs": [],
   "source": [
    "# 2.2. Faker 활용하기\n",
    "\n",
    "# 다양한 함수 존재."
   ]
  },
  {
   "cell_type": "code",
   "execution_count": null,
   "metadata": {},
   "outputs": [],
   "source": [
    "# 3. sympy\n",
    "\n",
    "# pip install sympy\n",
    "\n",
    "# "
   ]
  }
 ],
 "metadata": {
  "kernelspec": {
   "display_name": "NewG",
   "language": "python",
   "name": "python3"
  },
  "language_info": {
   "codemirror_mode": {
    "name": "ipython",
    "version": 3
   },
   "file_extension": ".py",
   "mimetype": "text/x-python",
   "name": "python",
   "nbconvert_exporter": "python",
   "pygments_lexer": "ipython3",
   "version": "3.9.16"
  },
  "orig_nbformat": 4
 },
 "nbformat": 4,
 "nbformat_minor": 2
}
