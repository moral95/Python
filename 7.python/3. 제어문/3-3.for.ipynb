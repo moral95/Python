{
 "cells": [
  {
   "attachments": {},
   "cell_type": "markdown",
   "metadata": {},
   "source": [
    "1. for 문의 기본구조"
   ]
  },
  {
   "cell_type": "code",
   "execution_count": 1,
   "metadata": {},
   "outputs": [
    {
     "data": {
      "text/plain": [
       "'\\nfor 변수 in 리스트(또는 튜플, 문자열):\\n    수행할 문장 1\\n    수행할 문장 2\\n'"
      ]
     },
     "execution_count": 1,
     "metadata": {},
     "output_type": "execute_result"
    }
   ],
   "source": [
    "'''\n",
    "for 변수 in 리스트(또는 튜플, 문자열):\n",
    "    수행할 문장 1\n",
    "    수행할 문장 2\n",
    "''' "
   ]
  },
  {
   "attachments": {},
   "cell_type": "markdown",
   "metadata": {},
   "source": [
    "2. 예제를 통해 for 문을 이해하기\n",
    "    1. 전형적인 for 문\n",
    "    2. 다양한 for 문의 사용\n",
    "    3. for문의 응용"
   ]
  },
  {
   "cell_type": "code",
   "execution_count": 5,
   "metadata": {},
   "outputs": [
    {
     "name": "stdout",
     "output_type": "stream",
     "text": [
      "one\n",
      "two\n",
      "three\n",
      "1 2\n",
      "3 4\n",
      "5 6\n",
      "1번 학생은 합격입니다.\n",
      "2번 학생은 불합격입니다.\n",
      "3번 학생은 합격입니다.\n",
      "4번 학생은 불합격입니다.\n",
      "5번 학생은 합격입니다.\n"
     ]
    }
   ],
   "source": [
    "# 1. 전형적인 for 문\n",
    "\n",
    "test_list = ['one', 'two', 'three']\n",
    "for i in test_list:\n",
    "    print(i)\n",
    "\n",
    "    # 리스트에 담겨져 있는 요소들을 i의 임의 변수로 지정하여 꺼낸다.\n",
    "    # i는 아래의 코드에 따라 변형된다.\n",
    "    # print 라는 기능으로 i를 출력한다. \n",
    "    # i의 요소들이 전부 수행되면 중지한다.\n",
    "\n",
    "# 2. 다양한 for 문의 사용\n",
    "a = [(1,2), (3,4), (5,6)]\n",
    "# for (first, last) in a:\n",
    "# for [first, last] in a:\n",
    "for first, last in a:\n",
    "    print ( first, last )\n",
    "\n",
    "    # 직관적으로 보여주기 위해서 튜플형식의 담는 내용, 리스트 형식 담는 내용을 보여줬지만\n",
    "    # 굳이 하지 않고, first, last를  a, b 형태로 작성해도 출력이 가능하다.\n",
    "\n",
    "# 3. for 문의 응용\n",
    "\n",
    "# 총 5명의 학생이 시험을 보았는데, 시험 점수가 60점 이상이면 합격이고 그렇지 않으면 불합격이다.\n",
    "# 합격인지, 불합격인지 결과를 보여주세요.\n",
    "\n",
    "marks = [90 , 25, 67, 45, 80]\n",
    "\n",
    "number = 0\n",
    "for i in marks:\n",
    "    number +=  1\n",
    "    if i >=  60:\n",
    "        print(\"%d번 학생은 합격입니다.\" % number)\n",
    "    else:\n",
    "        print(\"{0}번 학생은 불합격입니다.\" .format(number))\n",
    "\n",
    "        # ~번째 학생의 합격 형태를 작성하기 위해서 number를 작성\n"
   ]
  },
  {
   "attachments": {},
   "cell_type": "markdown",
   "metadata": {},
   "source": [
    "3. for문과 continue 문"
   ]
  },
  {
   "cell_type": "code",
   "execution_count": 9,
   "metadata": {},
   "outputs": [
    {
     "name": "stdout",
     "output_type": "stream",
     "text": [
      " 1 학생. 60점이면 과락은 아니네요. 축하드립니다. \n",
      " 3 학생. 60점이면 과락은 아니네요. 축하드립니다. \n",
      " 5 학생. 60점이면 과락은 아니네요. 축하드립니다. \n"
     ]
    }
   ],
   "source": [
    "# while 문에서도 continue 문을 생각했다.\n",
    "\n",
    "# 60점 이상인 사람에게는 축하 메세지를 보내고, 나머지 사람에게는 아무런 메세지를 전하지 않음\n",
    "\n",
    "marks = [90, 25, 67, 45, 80] \n",
    "\n",
    "number = 0\n",
    "for mark in marks:\n",
    "    number += 1\n",
    "    if mark < 60: continue\n",
    "    print( f\" {number} 학생. 60점이면 과락은 아니네요. 축하드립니다. \" )"
   ]
  },
  {
   "attachments": {},
   "cell_type": "markdown",
   "metadata": {},
   "source": [
    "4. for 문과 함께 자주 사용하는 range 함수\n",
    "    1. range 함수의 예시 살펴보기\n",
    "    2. for 와 range 이용한 구구단"
   ]
  },
  {
   "cell_type": "code",
   "execution_count": 23,
   "metadata": {},
   "outputs": [
    {
     "name": "stdout",
     "output_type": "stream",
     "text": [
      "range(0, 10)\n",
      "range(1, 11)\n",
      "55\n",
      "1 번 축하\n",
      "3 번 축하\n",
      "5 번 축하\n",
      "2 x 1 = 2\n",
      "2 x 2 = 4\n",
      "2 x 3 = 6\n",
      "2 x 4 = 8\n",
      "2 x 5 = 10\n",
      "2 x 6 = 12\n",
      "2 x 7 = 14\n",
      "2 x 8 = 16\n",
      "2 x 9 = 18\n",
      "2 4 6 8 10 12 14 16 18 \n",
      "3 6 9 12 15 18 21 24 27 \n",
      "4 8 12 16 20 24 28 32 36 \n",
      "5 10 15 20 25 30 35 40 45 \n",
      "6 12 18 24 30 36 42 48 54 \n",
      "7 14 21 28 35 42 49 56 63 \n",
      "8 16 24 32 40 48 56 64 72 \n",
      "9 18 27 36 45 54 63 72 81 \n"
     ]
    }
   ],
   "source": [
    "a = range(10)\n",
    "print(a)\n",
    "a = range(1, 11)\n",
    "print(a)\n",
    "    # 숫자 범위를 주는 range\n",
    "    # 마지막 번호는 포함하지 않는다!\n",
    "\n",
    "# 1. range 함수의 예시를 살펴보자\n",
    "add = 0\n",
    "for i in range(1,11):\n",
    "    add += i\n",
    "\n",
    "print( add )\n",
    "    # i 숫자들 1~10 까지를 더해주는 것과 같다\n",
    "\n",
    "marks = [90, 25, 67, 45, 80] \n",
    "for i in range(len(marks)):\n",
    "    # len 5개이다. 기존과 다른 이유는 range 함수를 썻기 때문에 그렇다.\n",
    "    if marks[i] < 60:\n",
    "        continue\n",
    "    print(f\"{i +1} 번 축하\")\n",
    "    # marks[i]로 인덱싱\n",
    "\n",
    "# 2. for 과 range 이용한 구구단\n",
    "    # 안보고 구현하기\n",
    "# first = int(input())\n",
    "for first in range(2, 3):\n",
    "        for second in range(1, 10):\n",
    "         print(f'{first} x {second} = {first*second}' )\n",
    "\n",
    "    # 책에서 작성법\n",
    "for i in range(2,10):\n",
    "    for j in range(1,10):\n",
    "        print(i*j, end=\" \")\n",
    "    print('')\n",
    "    # print 기능에는 기본적으로 \\n 형태로 출력된다.\n",
    "    # 그렇기에 두번째 곱하기에는 end 형태를 다르게 해서 줄지어서 보일 수 있도록 수정\n",
    "    # 단이 바뀌면 줄도 넘어갈 수 있도록 print 기능을 넣었다.\n"
   ]
  },
  {
   "attachments": {},
   "cell_type": "markdown",
   "metadata": {},
   "source": [
    "5. 리스트 comprehension 사용"
   ]
  },
  {
   "cell_type": "code",
   "execution_count": 26,
   "metadata": {},
   "outputs": [
    {
     "name": "stdout",
     "output_type": "stream",
     "text": [
      "[3, 6, 9, 12]\n",
      "[4, 6, 8, 10, 12, 14, 16, 18, 6, 9, 12, 15, 18, 21, 24, 27, 8, 12, 16, 20, 24, 28, 32, 36, 10, 15, 20, 25, 30, 35, 40, 45, 12, 18, 24, 30, 36, 42, 48, 54, 14, 21, 28, 35, 42, 49, 56, 63, 16, 24, 32, 40, 48, 56, 64, 72, 18, 27, 36, 45, 54, 63, 72, 81]\n"
     ]
    }
   ],
   "source": [
    "# 리스트 안에 for 문을 포함하는 리스트 컴프리헨션을 사용하면 좀더 편리하고 직관적인 프로그램을 만들 수 있다.\n",
    "\n",
    "a = [1,2,3,4]\n",
    "result = []\n",
    "for num in a:\n",
    "    result.append(num*3)\n",
    "\n",
    "print(result)\n",
    "    # append 기능으로 a의 요소값에 3을 곲한 내용을 리스트에 담아놨다.\n",
    "\n",
    "result = [num *3 for num in a]\n",
    "\n",
    "    # 한줄로 축약할 수 있다.\n",
    "    # [표현식 for 항목 in 방복 가능 객체 if 조건문]\n",
    "result = [num*3 for num in a if num % 2 == 0 ]\n",
    "\n",
    "    # 컴프리헨션을 2개로 쓸 수도 있다.\n",
    "    # [표현식 for 항목 in 반복 가능 객체 if 조건문1\n",
    "    #        for 항목 in 반복 가능 객체 if 조건문2]\n",
    "    #        for 항목 in 반복 가능 객체 if 조건문n]\n",
    "result = [ x*y for x in range(2,10)\n",
    "          for y in range(2,10)]\n",
    "print(result)\n",
    "    # 하나에 축약해서 담아서... 줄 바꾸기가 안되네요.\n",
    "    \n"
   ]
  },
  {
   "cell_type": "code",
   "execution_count": null,
   "metadata": {},
   "outputs": [],
   "source": []
  }
 ],
 "metadata": {
  "kernelspec": {
   "display_name": "NewG",
   "language": "python",
   "name": "python3"
  },
  "language_info": {
   "codemirror_mode": {
    "name": "ipython",
    "version": 3
   },
   "file_extension": ".py",
   "mimetype": "text/x-python",
   "name": "python",
   "nbconvert_exporter": "python",
   "pygments_lexer": "ipython3",
   "version": "3.9.16"
  },
  "orig_nbformat": 4
 },
 "nbformat": 4,
 "nbformat_minor": 2
}
