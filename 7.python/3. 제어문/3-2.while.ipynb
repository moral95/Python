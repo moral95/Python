{
 "cells": [
  {
   "attachments": {},
   "cell_type": "markdown",
   "metadata": {},
   "source": [
    "1. while 문의 기본 구조"
   ]
  },
  {
   "cell_type": "code",
   "execution_count": null,
   "metadata": {},
   "outputs": [],
   "source": [
    "# while 조건문:\n",
    "#     수행할_문장1\n",
    "#     수행할_문장2\n",
    "#     수행할_문장3\n",
    "\n",
    "treeHit = 0\n",
    "while treeHit < 10:\n",
    "    treeHit = treeHit +1\n",
    "    # treeHit += 1\n",
    "    # 위의 코드는 동일하다. \n",
    "    print(\"나무를 %d번 찍었습니다.\" % treeHit)\n",
    "    if treeHit == 10:\n",
    "        print(\"나무 넘어갑니다.\")\n",
    "\n",
    "    # while과 for문은 동일한 것이 아니다.\n",
    "    # 굳이 따지면, while은 if + for문 과 같다.\n",
    "    # 조건이 있어야 돌아간다.\n",
    "    # 위로 보면, 조건이 있어야 돌아가고, treeHit이 10이 되면 조건에 부합하지 않아 나간다.\n"
   ]
  },
  {
   "attachments": {},
   "cell_type": "markdown",
   "metadata": {},
   "source": [
    "2. while 문 만들기"
   ]
  },
  {
   "cell_type": "code",
   "execution_count": 1,
   "metadata": {},
   "outputs": [
    {
     "name": "stdout",
     "output_type": "stream",
     "text": [
      "\n",
      "1. Add\n",
      "2. Del\n",
      "3. List\n",
      "4. Quit\n",
      "\n",
      "Enter number:\n",
      "\n"
     ]
    }
   ],
   "source": [
    "prompt = '''\n",
    "1. Add\n",
    "2. Del\n",
    "3. List\n",
    "4. Quit\n",
    "\n",
    "Enter number:\n",
    "'''\n",
    "\n",
    "number = 0\n",
    "while number != 4:\n",
    "    print(prompt)\n",
    "    number = int(input())\n",
    "\n",
    "# 내용도는 이해되나, input에 숫자 1~4가 앞에 prompt 숫자 인식이 이해안된다.\n"
   ]
  },
  {
   "attachments": {},
   "cell_type": "markdown",
   "metadata": {},
   "source": [
    "3. while 문 강제로 빠져나가기"
   ]
  },
  {
   "cell_type": "code",
   "execution_count": 1,
   "metadata": {},
   "outputs": [
    {
     "name": "stdout",
     "output_type": "stream",
     "text": [
      "손님 안녕하세요?\n",
      " 아 카드는 부과세 별도입니다. \n",
      "하 아직도 9개나 남았네...\n",
      " 아 카드는 부과세 별도입니다. \n",
      "하 아직도 8개나 남았네...\n",
      " 아 카드는 부과세 별도입니다. \n",
      "하 아직도 7개나 남았네...\n",
      " 아 카드는 부과세 별도입니다. \n",
      "하 아직도 6개나 남았네...\n",
      " 아 카드는 부과세 별도입니다. \n",
      "하 아직도 5개나 남았네...\n",
      " 아 카드는 부과세 별도입니다. \n",
      "하 아직도 4개나 남았네...\n",
      " 아 카드는 부과세 별도입니다. \n",
      "하 아직도 3개나 남았네...\n",
      " 아 카드는 부과세 별도입니다. \n",
      "하 아직도 2개나 남았네...\n",
      " 아 카드는 부과세 별도입니다. \n",
      "하 아직도 1개나 남았네...\n",
      " 아 카드는 부과세 별도입니다. \n",
      "하 아직도 0개나 남았네...\n",
      " 벌써 0?!! 퇴근이다!. 아니 사장님 저 일 그만둘게요... \n"
     ]
    }
   ],
   "source": [
    "coffee = 10\n",
    "money = 300\n",
    "print(\"손님 안녕하세요?\")\n",
    "\n",
    "while money:\n",
    "    print(\" 아 카드는 부과세 별도입니다. \")\n",
    "    coffee -= 1\n",
    "    print(\"하 아직도 {0}개나 남았네...\" .format(coffee))\n",
    "    if coffee == 0:\n",
    "        print(f\" 벌써 {coffee}?!! 퇴근이다!. 아니 사장님 저 일 그만둘게요... \")\n",
    "        break\n"
   ]
  },
  {
   "cell_type": "code",
   "execution_count": 2,
   "metadata": {},
   "outputs": [
    {
     "name": "stdout",
     "output_type": "stream",
     "text": [
      "거스름돈 2800를 주고 커피를 대충 준다.\n",
      "거스름돈 2500를 주고 커피를 대충 준다.\n",
      "거스름돈 2200를 주고 커피를 대충 준다.\n",
      "거스름돈 1600를 주고 커피를 대충 준다.\n",
      "거스름돈 1300를 주고 커피를 대충 준다.\n",
      "거스름돈 1000를 주고 커피를 대충 준다.\n",
      "거스름돈 700를 주고 커피를 대충 준다.\n",
      "거스름돈 400를 주고 커피를 대충 준다.\n",
      "거스름돈 100를 주고 커피를 대충 준다.\n",
      "거스름돈 100를 주고 커피를 대충 준다.\n",
      "하루 중 제일 행복한 시간 (오늘 매출 보기) : 3000\n"
     ]
    }
   ],
   "source": [
    "# 자판기 처럼 구동\n",
    "\n",
    "coffee = 10\n",
    "while True:\n",
    "    money = int(input(\"돈을 넣어주세요 : \"))\n",
    "    if money == 300:\n",
    "        print(\"커피를 줍니다\")\n",
    "        coffee -= 1\n",
    "    elif money > 300:\n",
    "        print(f'거스름돈 {money-300}를 주고 커피를 대충 준다.')\n",
    "        coffee -= 1\n",
    "    else:\n",
    "        print(\"돈은 다시 뱉음. 커피도 없음\")\n",
    "        print(\"커피도 못 팔고, 힘만 뺌;; \")\n",
    "    if coffee == 0:\n",
    "        print(\"하루 중 제일 행복한 시간 (오늘 매출 보기) : {0}\" .format( 10 * 300) )\n",
    "        break\n",
    "\n",
    "# True 자리에 money 조건문이 들어갔다면 자동 반복문이었을텐데,\n",
    "# True를 사용하니 한번씩만 반복되어지네?\n",
    "# input 내 단어를 사용하려면 print로 별도로 작성하여서 넣기"
   ]
  },
  {
   "attachments": {},
   "cell_type": "markdown",
   "metadata": {},
   "source": [
    "4. While 문의 맨 처음으로 돌아가기"
   ]
  },
  {
   "cell_type": "code",
   "execution_count": 5,
   "metadata": {},
   "outputs": [
    {
     "name": "stdout",
     "output_type": "stream",
     "text": [
      "1\n",
      "3\n",
      "5\n",
      "7\n",
      "9\n"
     ]
    }
   ],
   "source": [
    "a = 0\n",
    "while a < 10:\n",
    "    a += 1\n",
    "    if a % 2 == 0: continue\n",
    "    # if a % 2 == 0:\n",
    "    print(a)\n",
    "\n",
    "    # if문에 True이면 처음으로 돌아가는 기능이 continue이다.\\\n",
    "    # False이면 print(a)로 실행한다."
   ]
  },
  {
   "attachments": {},
   "cell_type": "markdown",
   "metadata": {},
   "source": [
    "5. 이자나미"
   ]
  },
  {
   "cell_type": "code",
   "execution_count": null,
   "metadata": {},
   "outputs": [],
   "source": [
    "# 무한루프인 이자나미를 보자.\n",
    "\n",
    "while True:\n",
    "    print(\"Ctrl+C를 눌러야 while문을 빠져나갈 수 있습니다.\")\n",
    "\n",
    "# 출력은 되는데, 키는 안 먹힘..."
   ]
  }
 ],
 "metadata": {
  "kernelspec": {
   "display_name": "NewG",
   "language": "python",
   "name": "python3"
  },
  "language_info": {
   "codemirror_mode": {
    "name": "ipython",
    "version": 3
   },
   "file_extension": ".py",
   "mimetype": "text/x-python",
   "name": "python",
   "nbconvert_exporter": "python",
   "pygments_lexer": "ipython3",
   "version": "3.8.16"
  },
  "orig_nbformat": 4
 },
 "nbformat": 4,
 "nbformat_minor": 2
}
