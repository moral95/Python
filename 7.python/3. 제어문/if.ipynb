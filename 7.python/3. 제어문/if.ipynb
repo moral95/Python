{
 "cells": [
  {
   "attachments": {},
   "cell_type": "markdown",
   "metadata": {},
   "source": [
    "1. if 문은 왜 필요할까?\n",
    "2. if 문의 기본 구조\n",
    "3. 들여쓰기 방법 알아보기\n",
    "4. 조건문이란 무엇인가?\n",
    "    1. 비교 연산자\n",
    "    2. and, or, not\n",
    "    3. in, not in\n",
    "5. 다양한 조건을 판단하는 elif\n",
    "6. 조건부 표현식"
   ]
  },
  {
   "attachments": {},
   "cell_type": "markdown",
   "metadata": {},
   "source": [
    "1. if 문은 왜 필요할까?"
   ]
  },
  {
   "cell_type": "code",
   "execution_count": null,
   "metadata": {},
   "outputs": [],
   "source": [
    "money = True\n",
    "if money:\n",
    "    print(\"택시를 타고 가라\")\n",
    "else:\n",
    "    print(\"걸어가라\")\n",
    "\n",
    "\n"
   ]
  },
  {
   "attachments": {},
   "cell_type": "markdown",
   "metadata": {},
   "source": [
    "2. if문의 기본 구조"
   ]
  },
  {
   "cell_type": "code",
   "execution_count": null,
   "metadata": {},
   "outputs": [],
   "source": [
    "# if 조건문:\n",
    "#     수행할_문장1\n",
    "#     수행할_문장2\n",
    "#     수행할_문장3"
   ]
  },
  {
   "attachments": {},
   "cell_type": "markdown",
   "metadata": {},
   "source": [
    "3. 들여쓰기 방법 알아보기"
   ]
  },
  {
   "cell_type": "code",
   "execution_count": null,
   "metadata": {},
   "outputs": [],
   "source": [
    "money = True\n",
    "if money:\n",
    "    print(\"택시를\")\n",
    "print(\"타고\")\n",
    "    print(\"가라\")\n",
    "\n",
    "money = True\n",
    "if money:\n",
    "    print(\"택시를\")\n",
    "    print(\"타고\")\n",
    "        print(\"가라\")\n",
    "\n",
    "    # 당연하게도 위의 구조는 잘못된 형태이다.\n",
    "    # 조건문 다음에는 콜론(:)을 잊지말자."
   ]
  },
  {
   "attachments": {},
   "cell_type": "markdown",
   "metadata": {},
   "source": [
    "4. 조건문이란 무엇인가?\n",
    "    1. 비교 연산자\n",
    "    2. and, or, not\n",
    "    3. in, not in\n",
    "    "
   ]
  },
  {
   "cell_type": "code",
   "execution_count": null,
   "metadata": {},
   "outputs": [],
   "source": [
    "# 1. 비교연산자\n",
    "x = 3\n",
    "y = 2\n",
    "print(x > y)\n",
    "print(x < y)\n",
    "print(x == y)\n",
    "print(x != y)\n",
    "\n",
    "    # 1번째, 4번째만 True, 2,3 번째만 False 이다.\n",
    "\n",
    "money = 2000\n",
    "if money >= 3000:\n",
    "    print(\"택시를 타고 가라\")\n",
    "else:\n",
    "    print(\"걸어가라\")    \n",
    "    # money가 3000보다 작기에 False\n",
    "\n",
    "# 2. and, or, not\n",
    "\n",
    "#   x or y 둘중 하나 참.\n",
    "#   x and y 둘 다 참\n",
    "#   not x - x가 거짓이면 참\n",
    "\n",
    "money = 2000\n",
    "card = True\n",
    "if money >= 3000 or card:\n",
    "    print(\"택시를 타고 가라\")\n",
    "else:\n",
    "    print(\"걸어가라\")\n",
    "    # 2000원이서 false이지만, card 이기 때문에, True\n",
    "\n",
    "# 3. in, not in\n",
    "\n",
    "#   x in list / x in tuple / x in string\n",
    "\n",
    "print(1 in [1,2,3])\n",
    "print(1 in [123])\n",
    "print(1 not in [1,2,3])\n",
    "print('a' in 'abc')\n",
    "print('j' not in 'python')\n",
    "print('o' in 'python')\n",
    "\n",
    "#   앞선 예제로 보자\n",
    "\n",
    "pocket = ['paper', 'cellphone', 'money']\n",
    "if 'money' in pocket:\n",
    "    print(\"택시를 타고 가라\")\n",
    "else:\n",
    "    print(\"걸어가라\")\n",
    "    # in pocket에 money가 있기에, True\n",
    "    \n",
    "pocket = ['paper', 'cellphone', 'money']\n",
    "if 'money' in pocket:\n",
    "    print(\"택시를 타고 가라\")\n",
    "else:\n",
    "    print(\"걸어가라\")\n",
    "    "
   ]
  },
  {
   "attachments": {},
   "cell_type": "markdown",
   "metadata": {},
   "source": [
    "5. 다양한 조건을 판단하는 elif"
   ]
  },
  {
   "cell_type": "code",
   "execution_count": 6,
   "metadata": {},
   "outputs": [
    {
     "name": "stdout",
     "output_type": "stream",
     "text": [
      "\n",
      "택시 타고 가라\n",
      "하... 취업해야하나...\n"
     ]
    }
   ],
   "source": [
    "# 주머니에 돈이 있으면 택시를 타고 가고, \n",
    "# 주머니에 돈은 없지만 카드가 있으면 택시를 타고 가고, 돈도 없고 카드도 없으면 걸어가라.\n",
    "\n",
    "pocket = ['paper', 'handphone']\n",
    "card = True\n",
    "if 'money' in pocket:\n",
    "    print(\"택시를 타고가라\")\n",
    "else:\n",
    "    if card:\n",
    "        print(\"\")\n",
    "    else:\n",
    "        print(\"걸어가라\")\n",
    "\n",
    "# elif 사용\n",
    "pocket = ['paper', 'handphone']\n",
    "card = True\n",
    "if 'money' in pocket:\n",
    "    print(\"걍 택시타고 가라\")\n",
    "elif card:\n",
    "    print(\"택시 타고 가라\")\n",
    "else:\n",
    "    print(\"걸어가라~\")\n",
    "\n",
    "# 한줄 쓰기!\n",
    "pocket = ['paper', 'handphone']\n",
    "card = False\n",
    "if \"money\" in pocket : print(\"야호\")\n",
    "elif card: print(\"어차피 신용카드...\")\n",
    "else: print(\"하... 취업해야하나...\")\n",
    "\n"
   ]
  },
  {
   "attachments": {},
   "cell_type": "markdown",
   "metadata": {},
   "source": [
    "6. 조건부 표현식"
   ]
  },
  {
   "cell_type": "code",
   "execution_count": null,
   "metadata": {},
   "outputs": [],
   "source": [
    "score = 10\n",
    "if score >= 60:\n",
    "    message = \"success\"\n",
    "else:\n",
    "    message = \"failure\"\n",
    "\n",
    "# 한줄로 뽑자!\n",
    "# 조건부 표현식\n",
    "message = \"success\" if score >= 60 else \"failure\"\n",
    "\n",
    "    # 위와 같은 순서는 알겠으나, 신기하다.\n",
    "\n",
    "# 변수 = 조건문이 참인 경우의 값 if 조건문 else 조건문이 거짓인 경우의 값\n"
   ]
  }
 ],
 "metadata": {
  "kernelspec": {
   "display_name": "NewG",
   "language": "python",
   "name": "python3"
  },
  "language_info": {
   "codemirror_mode": {
    "name": "ipython",
    "version": 3
   },
   "file_extension": ".py",
   "mimetype": "text/x-python",
   "name": "python",
   "nbconvert_exporter": "python",
   "pygments_lexer": "ipython3",
   "version": "3.9.16"
  },
  "orig_nbformat": 4
 },
 "nbformat": 4,
 "nbformat_minor": 2
}
