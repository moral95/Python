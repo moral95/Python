{
 "cells": [
  {
   "attachments": {},
   "cell_type": "markdown",
   "metadata": {},
   "source": [
    "1. 함수란 무엇인가?\n",
    "\n",
    " input : 과일들 \n",
    " def : 믹서기\n",
    " output : 주스"
   ]
  },
  {
   "attachments": {},
   "cell_type": "markdown",
   "metadata": {},
   "source": [
    "2. 함수를 사용하는 이유는 무엇일까?\n",
    "\n",
    "반복적으로 사용하는 가치 있는 부분을 한 뭉치로 묶어.\n",
    "\n",
    "어떤 입력값을 주었을 때 어떤 결괏값을 리턴해준다.는 식이 함수.\n",
    "\n",
    "기능단위의 함수로 분리해 놓으면 프로그램 흐름을 일목요연하게 볼 수 있다."
   ]
  },
  {
   "attachments": {},
   "cell_type": "markdown",
   "metadata": {},
   "source": [
    "3. 파이썬 함수의 구조"
   ]
  },
  {
   "cell_type": "code",
   "execution_count": 4,
   "metadata": {},
   "outputs": [
    {
     "name": "stdout",
     "output_type": "stream",
     "text": [
      "7\n"
     ]
    }
   ],
   "source": [
    "# def 함수의 이름(매개변수):\n",
    "#     수행할 문장1\n",
    "#     수행할 문장2\n",
    "\n",
    "    # def는 함수를 만들 때 사용하는 예약어.\n",
    "\n",
    "# 예시:\n",
    "\n",
    "def add(a, b):\n",
    "    return a + b\n",
    "\n",
    "\n",
    "a, b = 3, 4\n",
    "# b = 4\n",
    "c= add(a, b)\n",
    "print(c)"
   ]
  },
  {
   "attachments": {},
   "cell_type": "markdown",
   "metadata": {},
   "source": [
    "4. 매개변수와 인수"
   ]
  },
  {
   "cell_type": "code",
   "execution_count": 5,
   "metadata": {},
   "outputs": [
    {
     "name": "stdout",
     "output_type": "stream",
     "text": [
      "7\n"
     ]
    }
   ],
   "source": [
    "# 매개 변수와 인수는 혼용해서 사용하는 용어이다.\n",
    "# 매개변수는 함수에 입력으로 전달된 값을 받는 변수\n",
    "# 인수는 함수를 호출할 때 전달하는 입력값.\n",
    "\n",
    "def add(a, b): # a, b는 매개변수\n",
    "    return a + b\n",
    "\n",
    "print(add(3, 4)) # 3, 4는 인수"
   ]
  },
  {
   "attachments": {},
   "cell_type": "markdown",
   "metadata": {},
   "source": [
    "5. 입력갑과 리턴값에 따른 함수의 형태 \n",
    "    1. 일반적인 함수\n",
    "    2. 입력값이 없는 함수\n",
    "    3. 리턴값이 없는 함수\n",
    "    4. 입력값도, 리턴값도 없는 함수"
   ]
  },
  {
   "cell_type": "code",
   "execution_count": 16,
   "metadata": {},
   "outputs": [
    {
     "name": "stdout",
     "output_type": "stream",
     "text": [
      "Hi\n",
      "Hi\n"
     ]
    }
   ],
   "source": [
    "# 함수의 형태는 입력값, 리턴값의 유무에 따라 4가지 유형으로 가지게된다.\n",
    "\n",
    "# 1. 일반적인 함수\n",
    "##\n",
    "def add(a, b):\n",
    "    result = a + b\n",
    "    return result\n",
    "\n",
    "    # 매개변수와 리턴을 가지는 일반적인 함수\n",
    "\n",
    "# 2. 입력값이 없는 함수\n",
    "##\n",
    "def say():\n",
    "    return 'Hi'\n",
    "\n",
    "    # 매개변수가 없는 함수.\n",
    "a = say()\n",
    "print(a)\n",
    "    # 괄호 안에 아무 값도 넣지 않아야한다. 이 함수는 입력값은 없지만, 리턴값으로 문자열을 리턴하낟.\n",
    "    # 리턴값을 받을 변수 = 함수 이름()\n",
    "\n",
    "# 3. 리턴값이 없는 함수\n",
    "##\n",
    "def add(a,b):\n",
    "    print(f'{a}, {b}의 합은 {a+b}이다.')\n",
    "\n",
    "# add(3,4)\n",
    "    # 함수 이름(입력 인수1, 입력 인수2)\n",
    "    # 리턴값은 return을 통해서만 얻을 수 있는데\n",
    "    # 리턴받을 값을 a변수에 대입하고 a 값을 출력해보면 리턴값이 잇는지, 없는지 알 수 있다.\n",
    "a = add(3, 4)\n",
    "print(a)\n",
    "    # add 함수처럼 리턴값이 없을 때, 위처럼 쓰면 함수 add는 리턴값으로, a 변수에는 None으로 리턴한다.\n",
    "    # a는 단순히 변수로 지정하는건데 왜 return이 되는가??\n",
    "\n",
    "# 4. 입력값도, 리턴값도 없는 함수\n",
    "##\n",
    "    # 입력값도 리턴값도 없는 함수가 존재하는데 아래를 보자.\n",
    "def say():\n",
    "    print('Hi')\n",
    "\n",
    "say()\n",
    "    # 함수이름() = 입력값도 리턴값도 없는 함수이다.\n",
    "\n"
   ]
  },
  {
   "attachments": {},
   "cell_type": "markdown",
   "metadata": {},
   "source": [
    "6. 매개변수를 지정하여 호출하기"
   ]
  },
  {
   "cell_type": "code",
   "execution_count": 17,
   "metadata": {},
   "outputs": [
    {
     "name": "stdout",
     "output_type": "stream",
     "text": [
      "4\n",
      "-2\n"
     ]
    }
   ],
   "source": [
    "def sub(a,b):\n",
    "    return  a - b\n",
    "\n",
    "result = sub(a=7, b=3)\n",
    "print(result)\n",
    "\n",
    "result = sub(b=5, a=3)\n",
    "print(result)\n",
    "    # 매개변수를 직접 지정할 수 잇다."
   ]
  },
  {
   "attachments": {},
   "cell_type": "markdown",
   "metadata": {},
   "source": [
    "7. 입력값이 몇개가 될지 모를 때는 어떻게 해야할까?\n",
    "    1. 여러 개의 입력값을 받는 함수 만들기\n",
    "    2. 키워드 매개변수, kwargs"
   ]
  },
  {
   "cell_type": "code",
   "execution_count": 19,
   "metadata": {},
   "outputs": [
    {
     "name": "stdout",
     "output_type": "stream",
     "text": [
      "6\n",
      "45\n",
      "15\n",
      "120\n"
     ]
    }
   ],
   "source": [
    "# 입력값이 몇개가 될지 모를때?!!\n",
    "# def 함수 이름(*매개변수):\n",
    "#       수행할 문장\n",
    "\n",
    "    # 매개변수 부분이 *매개변수로 바뀌었다.\n",
    "def add_many(*args):\n",
    "    result = 0\n",
    "    for i in args:\n",
    "        result = result + i\n",
    "    return result\n",
    "\n",
    "# *args처럼 매개변수 이름 앞에 별을 붙이면 입력값을 전부 모아 튜플로 모아준다.\n",
    "# 그렇게 되면 add_many(1,2,3)을 쓰면 args는 (1,2,3) 이 되고\n",
    "# add_many(1,2,3,4,5,6,7,8,9)을 쓰면 args는 (1,2,3,4,5,6,7,8,9) gudtrldl ehlsek.\n",
    "# args는 인수를 뜻하는 여엉 단어 argument이다.\n",
    "\n",
    "result = add_many(1,2,3)\n",
    "print(result)\n",
    "result = add_many(1,2,3,4,5,6,7,8,9)\n",
    "print(result)\n",
    "\n",
    "# 위처럼 함수의 매개변수로 *args 하나만 사용할 수 있는 것은 아니다.\n",
    "\n",
    "def add_mul(choice, *args):\n",
    "    if choice == \"add\":\n",
    "        result = 0\n",
    "        for i in args:\n",
    "            result += i\n",
    "    elif choice == \"mul\":\n",
    "        result = 1\n",
    "        for i in args:\n",
    "            result *= i\n",
    "    return result\n",
    "\n",
    "result = add_mul('add', 1,2,3,4,5)\n",
    "print(result)\n",
    "\n",
    "result = add_mul('mul', 1,2,3,4,5)\n",
    "print(result)"
   ]
  },
  {
   "cell_type": "code",
   "execution_count": null,
   "metadata": {},
   "outputs": [],
   "source": [
    "# 2. 키워드 매개변수, kwargs\n",
    "    # 키워드 매개변수를 사용할 때는 매개변수 앞에 별 2개를 붙인다.\n",
    "def print_kwargs(**kwargs):\n",
    "    print(kwargs)\n",
    "\n",
    "print_kwargs(a=1)\n",
    "\n",
    "print_kwargs(name='foo', age=3)\n",
    "\n",
    "    # 딕셔너리 형태로 바뀌어진다.\n",
    "    # 모든 key-Value 형태으 입력값이 그 딕셔너리에 저장된다.\n",
    "    # kwargs는 keyword arguments의 약자이다."
   ]
  },
  {
   "attachments": {},
   "cell_type": "markdown",
   "metadata": {},
   "source": [
    "8. 함수의 리턴값은 언제나 하나이다."
   ]
  },
  {
   "cell_type": "code",
   "execution_count": 5,
   "metadata": {},
   "outputs": [
    {
     "name": "stdout",
     "output_type": "stream",
     "text": [
      "(7, 12)\n",
      "7 12\n",
      "7\n"
     ]
    }
   ],
   "source": [
    "def add_and_mul(a,b):\n",
    "    return a+b, a*b\n",
    "\n",
    "result = add_and_mul(3,4)\n",
    "print(result)\n",
    "\n",
    "    # 오류가 발생하지 않는 이유는 리턴값은 언제나 1개라는 이유에 있다.\n",
    "    # add_and_mul 함수 리턴값은 a+b, a*b가 아니라 (a+b, a*b)의 튜플 값으로 리턴된다.\n",
    "\n",
    "# 만약 분리하고 싶다?!!\n",
    "result1, result2 = add_and_mul(3,4)\n",
    "print(result1, result2)\n",
    "\n",
    "#하지만\n",
    "\n",
    "def add_and_mul(a,b):\n",
    "    return a+b\n",
    "    return a*b\n",
    "result = add_and_mul(3,4)\n",
    "print(result)\n",
    "    # 키가 먹히는 return a+b 밖에 안된다\n",
    "    # 즉 함수는 return문을 만나는 순간 결괏값을 돌려준 다음 함수를 빠져나가게 된다.\n",
    "\n",
    "def say_nick(nick):\n",
    "    if nick == \"fool\":\n",
    "        return\n",
    "    print(\"나의 별명은 {0} 입니다\" .format(nick))\n",
    "\n",
    "    # say_nick이 fool이 아니면 출력되지 않을것이다.\n",
    "    # 위는 리턴ㄱ밧이 없다. 이때,문자열을 출력한다는 것과 리턴ㄱ밧이 있다는 것은 전혀 다른 말이다.\n",
    "    # return값은 오로지 return 문으로만 생성\n"
   ]
  },
  {
   "attachments": {},
   "cell_type": "markdown",
   "metadata": {},
   "source": [
    "9. 매개변수에 초깃값 미리 설정하기"
   ]
  },
  {
   "cell_type": "code",
   "execution_count": 6,
   "metadata": {},
   "outputs": [
    {
     "name": "stdout",
     "output_type": "stream",
     "text": [
      "나의 이름은 팜응옥헌이다\n",
      "나의 나이는 20\n",
      "남자이다.\n",
      "나의 이름은 팜응옥헌이다\n",
      "나의 나이는 20\n",
      "여자이다.\n"
     ]
    }
   ],
   "source": [
    "def say_myself(name, old, man=True):\n",
    "    print(f\"나의 이름은 {name}이다\")\n",
    "    print(f\"나의 나이는 {old}\")\n",
    "    if man:\n",
    "        print(\"남자이다.\")\n",
    "    else:\n",
    "        print(\"여자이다.\")\n",
    "\n",
    "        # man=True처럼 매개변수에 미리 값을 넣어준다.\n",
    "        # 이것이 바로 함수의 매개변수에 초깃값을 설정하는 방법\n",
    "\n",
    "        # 2가지 방법으로 사용할 수 있을 것이다.\n",
    "say_myself(\"팜응옥헌\", 20)\n",
    "say_myself(\"팜응옥헌\", 20, False)\n",
    "\n",
    "# 매개변수를 위치를 다르게 두면 어떻게 될까??\n",
    "def say_myself(name, man=True, old=None):\n",
    "    print(f\"나의 이름은 {name}이다\")\n",
    "    print(f\"나의 나이는 {old}\")\n",
    "    if man:\n",
    "        print(\"남자이다.\")\n",
    "    else:\n",
    "        print(\"여자이다.\")\n",
    "        # name위치는 찾아가나, 나이는 old인지, man의 매개변수인지 파이썬 인터프리터가 판단하기 어려워한다.\n",
    "        # 그러므로 오류가 발생한다.\n",
    "        # 초기화하고 싶은 매개변수는 항상 뒤쪽에 둬야한다는 것을 잊지말자."
   ]
  },
  {
   "attachments": {},
   "cell_type": "markdown",
   "metadata": {},
   "source": [
    "10. 함수 안에서 선언한 변수의 효력범위"
   ]
  },
  {
   "cell_type": "code",
   "execution_count": 1,
   "metadata": {},
   "outputs": [
    {
     "name": "stdout",
     "output_type": "stream",
     "text": [
      "2\n",
      "None\n",
      "1\n"
     ]
    }
   ],
   "source": [
    "# 함수 안에서 사용할 변수 이름을 함수 밖에서도 동일하게 사용한다면 어떻게 될까??\n",
    "# => 안된다. 함수 안에 지정한 변수와 바깥의 변수는 이름만 같을 뿐이지. 전혀 다른것이다.\n",
    "\n",
    "a = 1\n",
    "def vartest(a):\n",
    "    a = a + 1\n",
    "    print(a)\n",
    "\n",
    "print(vartest(a))\n",
    "print(a)\n",
    "    # 당연히 none이 나온다. 매개변수인 a에 인수를 넣어주지 않았기에 변수는 지정되지 않는 것이다.\n",
    "    # 매개변수는 임의의 변수일 뿐이다.\n",
    "    "
   ]
  },
  {
   "attachments": {},
   "cell_type": "markdown",
   "metadata": {},
   "source": [
    "11. 함수 안에서 함수 밖의 변수를 변경하는 방법\n",
    "    1. return 사용하기\n",
    "    2. global 명령어 사용하기"
   ]
  },
  {
   "cell_type": "code",
   "execution_count": 17,
   "metadata": {},
   "outputs": [
    {
     "name": "stdout",
     "output_type": "stream",
     "text": [
      "2\n",
      "3\n",
      "4\n",
      "2\n"
     ]
    }
   ],
   "source": [
    "# 1. return a 사용하기\n",
    "\n",
    "a = 1\n",
    "def vartest(a):\n",
    "    a = a + 1\n",
    "    return a\n",
    "\n",
    "a = vartest(a)\n",
    "print(a)\n",
    "    # return에 a + 1이 들어와서 a에 대입된다. 이를 출력했으니 당연히 2\n",
    "c = vartest(a)\n",
    "print(c)\n",
    "b = vartest(c)\n",
    "print(b)\n",
    "    # 위로 보면 보다 직관적으로 알 수 있다.\n",
    "\n",
    "# 2. global 명령어 사용하기\n",
    "a = 1\n",
    "def vartest():\n",
    "    global a\n",
    "    a = a+1\n",
    "\n",
    "vartest()\n",
    "print(a)\n",
    "    # 위처럼 global a 문장은 함수 안에서 함수 밖의 a 변수를 직접 사용하겠다는 뜻이다.\n",
    "    # 하지만 사용하지 않는 것이 좋다.\n",
    "    # 함수는 독립적으로 존재하는 것이 좋기 때문이다.\n",
    "    # 외부 변수에 종속적인 함수는 그다지 좋은 함수가 아니다.\n",
    "    ## 그렇게 보긴 했음. \n"
   ]
  },
  {
   "attachments": {},
   "cell_type": "markdown",
   "metadata": {},
   "source": [
    "12. lambda 예약어"
   ]
  },
  {
   "cell_type": "code",
   "execution_count": null,
   "metadata": {},
   "outputs": [],
   "source": [
    "# 함수 생성 사용하는 예약어로, def 와 동일한 역할\n",
    "# 함수를 한줄로 간결하게 만들때 사용한다\n",
    "\n",
    "# def를 사용해야할정도로 복잡하지 않거나 def를 사용할 수 없는 곳에 주로 사용한다.\n",
    "\n",
    "# 함수 이름 = lambda 매개변수1, 매개변수2, ... : 매개변수를 이용한 표현식\n",
    "\n",
    "add = lambda a, b : a+b\n",
    "result = add(3,4)\n",
    "print(result)\n",
    "\n",
    "    # lambda로 만든 함수는 return 명령어가 없어도 표현식의 결괏값을 리턴한다.\n",
    "\n",
    "def add(a,b):\n",
    "    return a+b\n",
    "\n",
    "result = add(3,4)\n",
    "print(result)\n",
    "\n",
    " # :뒤가 return이다."
   ]
  },
  {
   "attachments": {},
   "cell_type": "markdown",
   "metadata": {},
   "source": []
  }
 ],
 "metadata": {
  "kernelspec": {
   "display_name": "NewG",
   "language": "python",
   "name": "python3"
  },
  "language_info": {
   "codemirror_mode": {
    "name": "ipython",
    "version": 3
   },
   "file_extension": ".py",
   "mimetype": "text/x-python",
   "name": "python",
   "nbconvert_exporter": "python",
   "pygments_lexer": "ipython3",
   "version": "3.8.16"
  },
  "orig_nbformat": 4
 },
 "nbformat": 4,
 "nbformat_minor": 2
}
