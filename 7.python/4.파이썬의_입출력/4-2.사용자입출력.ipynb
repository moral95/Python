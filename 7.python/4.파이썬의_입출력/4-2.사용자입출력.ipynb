{
 "cells": [
  {
   "cell_type": "code",
   "execution_count": null,
   "metadata": {},
   "outputs": [],
   "source": []
  },
  {
   "attachments": {},
   "cell_type": "markdown",
   "metadata": {},
   "source": [
    "1. 사용자 입력 활용하기\n",
    "    1. input 사용하기\n",
    "    2. 프롬프트를 띄워 사용자 입력받기"
   ]
  },
  {
   "cell_type": "code",
   "execution_count": 1,
   "metadata": {},
   "outputs": [
    {
     "name": "stdout",
     "output_type": "stream",
     "text": [
      "3\n"
     ]
    },
    {
     "data": {
      "text/plain": [
       "str"
      ]
     },
     "execution_count": 1,
     "metadata": {},
     "output_type": "execute_result"
    }
   ],
   "source": [
    "# 1. input 사용하기\n",
    "\n",
    "# a = input()\n",
    "# a\n",
    "\n",
    "# 2. 프롬프트를 띄워 사용자 입력받기\n",
    "\n",
    "input(\"안내_문구\")\n",
    "number = input(\"숫자를 입력하세요: \")\n",
    "print(number)\n",
    "\n",
    "type(number)\n",
    "    # input은 입력되는 모든 것을 문자열로 취급한다!"
   ]
  },
  {
   "attachments": {},
   "cell_type": "markdown",
   "metadata": {},
   "source": [
    "2. print 자세히 알기\n",
    "    1. 큰 따옴표로 둘러싸인 문자열은 +연산과 동일하다.\n",
    "    2. 문자열 띄어쓰기는 쉼표로 한다.\n",
    "    3. 한 줄에 결괏값 출력하기"
   ]
  },
  {
   "cell_type": "code",
   "execution_count": 3,
   "metadata": {},
   "outputs": [
    {
     "name": "stdout",
     "output_type": "stream",
     "text": [
      "Life istoo short\n",
      "Life istoo short\n",
      "Life is too short\n",
      "0123456789"
     ]
    }
   ],
   "source": [
    "# 지금까지 print문은 용도는 데이터를 출력하는 것이다. \n",
    "# 더욱 자세히 알아보자.\n",
    "\n",
    "# 1. 큰 따옴표로 둘러쌍니 문자열은 +연산과 동일하다.\n",
    "\n",
    "print(\"Life\" \" is\" \"too short\" )\n",
    "print(\"Life\" + \" is\" + \"too short\" )\n",
    "\n",
    "# 2. 문자열 띄어쓰기는 쉼표로 한다.\n",
    "print(\"Life\",\"is\",\"too short\")\n",
    "    # 쉼표를 넣으면 띄어쓰기가 가능해진다.\n",
    "\n",
    "# 3. 한줄에 결괏값 출력하기\n",
    "for i in range(10):\n",
    "    print(i, end= '')\n",
    "    # 앞서 말했듯이, end를 사용하여 기본 형태인 \\n를 바꿀 수 있다.\n",
    "    "
   ]
  },
  {
   "cell_type": "code",
   "execution_count": null,
   "metadata": {},
   "outputs": [],
   "source": []
  }
 ],
 "metadata": {
  "kernelspec": {
   "display_name": "NewG",
   "language": "python",
   "name": "python3"
  },
  "language_info": {
   "codemirror_mode": {
    "name": "ipython",
    "version": 3
   },
   "file_extension": ".py",
   "mimetype": "text/x-python",
   "name": "python",
   "nbconvert_exporter": "python",
   "pygments_lexer": "ipython3",
   "version": "3.9.16"
  },
  "orig_nbformat": 4
 },
 "nbformat": 4,
 "nbformat_minor": 2
}
