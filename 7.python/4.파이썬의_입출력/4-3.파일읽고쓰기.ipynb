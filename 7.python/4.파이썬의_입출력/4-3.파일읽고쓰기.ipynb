{
 "cells": [
  {
   "attachments": {},
   "cell_type": "markdown",
   "metadata": {},
   "source": [
    "1. 파일 생성하기"
   ]
  },
  {
   "cell_type": "code",
   "execution_count": 4,
   "metadata": {},
   "outputs": [],
   "source": [
    "f = open(\"/NasData/home/lsh/7.python/4.파이썬의_입출력/새파일.txt\", 'w')\n",
    "f.close()\n",
    "\n",
    "    # open 함수는 다음과 같이 파일 이름과 파일 여기 모드를 입력값으로 받고\n",
    "    # 결괏값으로 파일 객체를 리턴한다.\n",
    "# 파일 객체 = open(파일이름, 파일열기모드)\n",
    "# r = 읽기모드 : 파일을 읽기만 할때 사용\n",
    "# w = 쓰기모드 : 파일에 내용을 쓸때만 사용\n",
    "# a = 추가모드 : 파일의 마지막에 새로운 내용을 추가할 때 사용\n",
    "\n",
    "    # 파일을 쓰기모드로 열면 해당파일이 이미 존재할 경우, 기존의 내용은 모두 사라지고\n",
    "    # 해당파일이 존재하지 않으면 새로운 파일 생성\n",
    "\n",
    "f = open(\"/NasData/home/lsh/7.python/4.파이썬의_입출력/새파일.txt\", 'w')\n",
    "f.close()\n",
    "    # close는 열려 있는 파일 객체를 닫아주는 역할.\n",
    "    # 사실 생략해도 된다. 프로그램을 종료할 때 파이썬 프로그램이 열려 있는 파일의 객체를 자동으로 닫기때문에\n",
    "    # 닫지 않고 다시 사용하려면 오류가 발생하기에, 직접 닫아주는 것이 좋다.\n",
    "    # 파일 경로에서 '/'은 기본이지만 , 만약 \\를 사용한다면, \\\\처럼 역슬래시 2개를 사용하거나,\n",
    "    # r\"C:\\doit\\새파일.txt 형태로 둬야한다. "
   ]
  },
  {
   "attachments": {},
   "cell_type": "markdown",
   "metadata": {},
   "source": [
    "2. 파일을 쓰기 모드로 열어 내용 쓰기"
   ]
  },
  {
   "cell_type": "code",
   "execution_count": 9,
   "metadata": {},
   "outputs": [],
   "source": [
    "f = open(\"/NasData/home/lsh/7.python/4.파이썬의_입출력/새파일.txt\", 'w')\n",
    "for i in range(1, 11):\n",
    "    data = \"{0}번째 줄입니다. \\n\" .format(i)\n",
    "    f.write(data)\n",
    "f.close()"
   ]
  },
  {
   "attachments": {},
   "cell_type": "markdown",
   "metadata": {},
   "source": [
    "3. 파일을 읽는 여러 가지 방법\n",
    "    1. readline 함수 이용하기\n",
    "    2. readlines 함수 사용하기\n",
    "    3. read 함수 사용하기\n",
    "    4. 파일 객체를 for문과 함께 사용하기"
   ]
  },
  {
   "cell_type": "code",
   "execution_count": 17,
   "metadata": {},
   "outputs": [
    {
     "name": "stdout",
     "output_type": "stream",
     "text": [
      "1번째 줄입니다. \n",
      "\n",
      "1번째 줄입니다. \n",
      "\n",
      "2번째 줄입니다. \n",
      "\n",
      "3번째 줄입니다. \n",
      "\n",
      "4번째 줄입니다. \n",
      "\n",
      "5번째 줄입니다. \n",
      "\n",
      "6번째 줄입니다. \n",
      "\n",
      "7번째 줄입니다. \n",
      "\n",
      "8번째 줄입니다. \n",
      "\n",
      "9번째 줄입니다. \n",
      "\n",
      "10번째 줄입니다. \n",
      "\n",
      "1\n",
      "번\n",
      "째\n",
      " \n",
      "줄\n",
      "입\n",
      "니\n",
      "다\n",
      ".\n",
      " \n",
      "\n",
      "\n",
      "1번째 줄입니다. \n",
      "\n",
      "2번째 줄입니다. \n",
      "\n",
      "3번째 줄입니다. \n",
      "\n",
      "4번째 줄입니다. \n",
      "\n",
      "5번째 줄입니다. \n",
      "\n",
      "6번째 줄입니다. \n",
      "\n",
      "7번째 줄입니다. \n",
      "\n",
      "8번째 줄입니다. \n",
      "\n",
      "9번째 줄입니다. \n",
      "\n",
      "10번째 줄입니다. \n",
      "\n",
      "1번째 줄입니다.\n",
      "2번째 줄입니다.\n",
      "3번째 줄입니다.\n",
      "4번째 줄입니다.\n",
      "5번째 줄입니다.\n",
      "6번째 줄입니다.\n",
      "7번째 줄입니다.\n",
      "8번째 줄입니다.\n",
      "9번째 줄입니다.\n",
      "10번째 줄입니다.\n"
     ]
    }
   ],
   "source": [
    "# 1. readline 함수 이용하기\n",
    "\n",
    "f = open(\"/NasData/home/lsh/7.python/4.파이썬의_입출력/새파일.txt\", 'r')\n",
    "line = f.readline()\n",
    "print(line)\n",
    "f.close()\n",
    "\n",
    "    # 모든줄을 출력한다면??\n",
    "f = open(\"/NasData/home/lsh/7.python/4.파이썬의_입출력/새파일.txt\", 'r')\n",
    "while True:\n",
    "    line = f.readline()\n",
    "    if not line: break\n",
    "    print(line)\n",
    "f.close()\n",
    "\n",
    "    # 무한 루프안에서 f.readline을 통해서 반복해서 한줄씩 ㅇ릭어 들인다.\n",
    "    # 더이상 읽을 줄이 없으면 break를 수행한다.\n",
    "    # 더이상 읽을 줄이 없을 경우, 빈 문자열을 리턴한다.\n",
    "\n",
    "# 2. readlines 함수 사용하기\n",
    "f = open(\"/NasData/home/lsh/7.python/4.파이썬의_입출력/새파일.txt\", 'r')\n",
    "lines = f.readline()\n",
    "for line in lines:\n",
    "    print(line)\n",
    "f.close()\n",
    "\n",
    "f = open(\"/NasData/home/lsh/7.python/4.파이썬의_입출력/새파일.txt\", 'r')\n",
    "lines = f.readlines()\n",
    "for line in lines:\n",
    "    print(line)\n",
    "f.close()\n",
    "\n",
    "    # 줄 바꿈 문자 제거하기\n",
    "f = open(\"/NasData/home/lsh/7.python/4.파이썬의_입출력/새파일.txt\", 'r')\n",
    "lines = f.readlines()\n",
    "for line in lines:\n",
    "    line = line.strip() # 줄 끝의 줄 바꿈 문자를 제거한다\n",
    "    print(line)\n",
    "f.close()\n",
    "\n"
   ]
  },
  {
   "cell_type": "code",
   "execution_count": 16,
   "metadata": {},
   "outputs": [
    {
     "name": "stdout",
     "output_type": "stream",
     "text": [
      "1번째 줄입니다. \n",
      "2번째 줄입니다. \n",
      "3번째 줄입니다. \n",
      "4번째 줄입니다. \n",
      "5번째 줄입니다. \n",
      "6번째 줄입니다. \n",
      "7번째 줄입니다. \n",
      "8번째 줄입니다. \n",
      "9번째 줄입니다. \n",
      "10번째 줄입니다. \n",
      "\n",
      "1번째 줄입니다. \n",
      "\n",
      "2번째 줄입니다. \n",
      "\n",
      "3번째 줄입니다. \n",
      "\n",
      "4번째 줄입니다. \n",
      "\n",
      "5번째 줄입니다. \n",
      "\n",
      "6번째 줄입니다. \n",
      "\n",
      "7번째 줄입니다. \n",
      "\n",
      "8번째 줄입니다. \n",
      "\n",
      "9번째 줄입니다. \n",
      "\n",
      "10번째 줄입니다. \n",
      "\n"
     ]
    }
   ],
   "source": [
    "\n",
    "# 3. read 함수 사용하기\n",
    "\n",
    "f = open(\"/NasData/home/lsh/7.python/4.파이썬의_입출력/새파일.txt\", 'r')\n",
    "data = f.read()\n",
    "print(data)\n",
    "f.close()\n",
    "    # f.read() 는 파일의 내용 전체를 문자열로 리턴한다.\n",
    "    # 따라서 위 예의 data는 파일의 전체 내용이다.\n",
    "\n",
    "# 4. 파일 객체를 for 문과 함께 사용하기\\\n",
    "f = open(\"/NasData/home/lsh/7.python/4.파이썬의_입출력/새파일.txt\", 'r')\n",
    "for line in f:\n",
    "    print(line)\n",
    "f.close()\n",
    "    # 파일 객체(f)는 기본적으로 위와 같이 for문과 함께 사용하여 파일을 줄단위로 읽을 수 있다."
   ]
  },
  {
   "attachments": {},
   "cell_type": "markdown",
   "metadata": {},
   "source": [
    "4. 파일에 새로운 내용 추가하기"
   ]
  },
  {
   "cell_type": "code",
   "execution_count": 19,
   "metadata": {},
   "outputs": [
    {
     "name": "stdout",
     "output_type": "stream",
     "text": [
      "1번째 줄입니다. \n",
      "2번째 줄입니다. \n",
      "3번째 줄입니다. \n",
      "4번째 줄입니다. \n",
      "5번째 줄입니다. \n",
      "6번째 줄입니다. \n",
      "7번째 줄입니다. \n",
      "8번째 줄입니다. \n",
      "9번째 줄입니다. \n",
      "10번째 줄입니다. \n",
      "11번째 줄입니다. \n",
      "12번째 줄입니다. \n",
      "13번째 줄입니다. \n",
      "14번째 줄입니다. \n",
      "15번째 줄입니다. \n",
      "16번째 줄입니다. \n",
      "17번째 줄입니다. \n",
      "18번째 줄입니다. \n",
      "19번째 줄입니다. \n",
      "11번째 줄입니다. \n",
      "12번째 줄입니다. \n",
      "13번째 줄입니다. \n",
      "14번째 줄입니다. \n",
      "15번째 줄입니다. \n",
      "16번째 줄입니다. \n",
      "17번째 줄입니다. \n",
      "18번째 줄입니다. \n",
      "19번째 줄입니다. \n",
      "\n"
     ]
    }
   ],
   "source": [
    "f = open(\"/NasData/home/lsh/7.python/4.파이썬의_입출력/새파일.txt\", 'a')\n",
    "for i in range(11, 20):\n",
    "    data = \"{0}번째 줄입니다. \\n\" .format(i)\n",
    "    f.write(data)\n",
    "f.close()\n",
    "    # w로 사용하면 파일의 내용이 모두 사라지게된다.\n",
    "    #하지만 a의 추가모드로 작성하게 되면 밑에 붙여서 작성하게 된다.\n",
    "\n",
    "f = open(\"/NasData/home/lsh/7.python/4.파이썬의_입출력/새파일.txt\", 'r')\n",
    "data = f.read()\n",
    "print(data)\n",
    "f.close()"
   ]
  },
  {
   "attachments": {},
   "cell_type": "markdown",
   "metadata": {},
   "source": [
    "5. with 문과 함께 사용하기"
   ]
  },
  {
   "cell_type": "code",
   "execution_count": 21,
   "metadata": {},
   "outputs": [
    {
     "name": "stdout",
     "output_type": "stream",
     "text": [
      "Life is too short, you need python\n"
     ]
    }
   ],
   "source": [
    "f = open(\"foo.txt\",'w')\n",
    "f.write(\"Life is too short, you need python\")\n",
    "f.close\n",
    "    # 파일을 열면 매번 닫아주야 한다. with문을 사용함녀 자동으로 닫을 수 있다!\n",
    "\n",
    "with open(\"foo.txt\", \"w\") as f:\n",
    "    f.write(\"Life is too short, you need python\")\n",
    "\n",
    "f = open(\"/NasData/home/lsh/7.python/4.파이썬의_입출력/foo.txt\", 'r')\n",
    "data = f.read()\n",
    "print(data)\n",
    "f.close()"
   ]
  },
  {
   "cell_type": "code",
   "execution_count": null,
   "metadata": {},
   "outputs": [],
   "source": []
  }
 ],
 "metadata": {
  "kernelspec": {
   "display_name": "NewG",
   "language": "python",
   "name": "python3"
  },
  "language_info": {
   "codemirror_mode": {
    "name": "ipython",
    "version": 3
   },
   "file_extension": ".py",
   "mimetype": "text/x-python",
   "name": "python",
   "nbconvert_exporter": "python",
   "pygments_lexer": "ipython3",
   "version": "3.9.16"
  },
  "orig_nbformat": 4
 },
 "nbformat": 4,
 "nbformat_minor": 2
}
