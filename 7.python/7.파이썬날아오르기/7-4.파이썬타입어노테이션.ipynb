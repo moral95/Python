{
 "cells": [
  {
   "attachments": {},
   "cell_type": "markdown",
   "metadata": {},
   "source": [
    "### 7-4. 파이썬 타입 어노테이션\n",
    "\n",
    "1. 동적 언어와 정적 언어\n",
    "    1. 동적 언어의 장단점\n",
    "2. 파이썬 타입 어노테이션\n",
    "3. mypy"
   ]
  },
  {
   "attachments": {},
   "cell_type": "markdown",
   "metadata": {},
   "source": [
    "### 1. 동적언어와 정적 언어"
   ]
  },
  {
   "cell_type": "code",
   "execution_count": 1,
   "metadata": {},
   "outputs": [
    {
     "name": "stdout",
     "output_type": "stream",
     "text": [
      "<class 'int'>\n",
      "<class 'str'>\n"
     ]
    }
   ],
   "source": [
    "a = 1\n",
    "print(type(a))\n",
    "a = '1'\n",
    "print(type(a))\n",
    "\n",
    "    # int와 str\n",
    "    # a의 변수 타입을 동적으로 바꿀 수 있으므로\n",
    "    # 파이썬을 동적 프로그래밍 언어라고 한다.\n",
    "\n",
    "    # 파이썬과 달리 자바는 int 변수에 a에 숫자 1을 대입하고,\n",
    "    # 다시 문자열 '1'을 대입하려 할때 컴파일 오류가 발생한다.\n",
    "# int a = 1\n",
    "# a = '1'\n",
    "\n",
    "    # 자바는 한번 변수에 타입을 지정하면\n",
    "    # 지정된 타입 외 다른 타입은 사용할 수 없으므로\n",
    "    # 정적 프로그래밍 언어라고 한다."
   ]
  },
  {
   "attachments": {},
   "cell_type": "markdown",
   "metadata": {},
   "source": [
    "### 1.1 동적 언어의 장단점\n",
    "\n",
    "- 파이썬과 같은 동적 언어는 타입에 자유로워 유연한 코딩이 가능하므로 쉽고 빠르게 프로그램을 만들 수 있다.\n",
    "- 타입 체크를 위한 코드가 없으므로 비교적 깔끔한 소스 코드를 생성할 수 있다.\n",
    "- 하지만 프로젝트의 규모가 커질수록 타입을 잘못 사용해 버그가 생길 확률도 높아진다\n",
    "\n",
    "    - 안전성을 선호하는 금융권 프로젝트에서는 이러한 이유로\n",
    "    - 동적 언어보다는 정적 언어를 주요 언어로 선택하는 경향이 많다."
   ]
  },
  {
   "attachments": {},
   "cell_type": "markdown",
   "metadata": {},
   "source": [
    "### 2. 파이썬 타입 어노테이션\n",
    "\n",
    "- 파이썬은 이러한 동적 언어의 단점을 극복하기 위해서 3.5버전부터 타입 어노테이션 기능을 지원하기 시작했다.\n",
    "- 정적 언어에서와 같은 적극적인 타입 체크가 아니라 타입 어노테이션\n",
    "- 타입에 대한 힌트를 알려주는 정도의 기능만 지원한다.\n",
    "- 동적 언어의 장점을 잃지 않고 기존에 작성된 코드와의 호환성을 생각하면 당연한 선택"
   ]
  },
  {
   "cell_type": "code",
   "execution_count": 2,
   "metadata": {},
   "outputs": [],
   "source": [
    "# 타입 어노테이션 사용\n",
    "\n",
    "num: int = 1\n",
    "    # 변수 이름 바로 뒤에 : int와 같이 사용해 num 변수가 int형이라는 것을 명시\n",
    "\n",
    "def add(a: int, b: int) -> int:\n",
    "    return a + b\n",
    "    # 함수의 매개변수에도 같은 규칙을 적용하여 매개변수의 타입을 명시할 ㅜㅅ 있다.\n",
    "    # -> int 처럼 사용해 함수의 리턴값도 타입을 명시할 수 있다.\n",
    "    # 어노테이션 타입으로\n",
    "    # 정수 -> int, 문자열 -> str, 리스트 -> list, 튜플 -> tuple, 딕셔너리 -> dict\n",
    "    # 집합 -> set, 불 -> bool"
   ]
  },
  {
   "attachments": {},
   "cell_type": "markdown",
   "metadata": {},
   "source": [
    "### 3. mypy\n",
    "\n",
    "- 파이썬은 타입 어노테이션으로 매개변수의 타입을 명시하더라도 다음과 같이 다른 타입의 인수 입력 가능"
   ]
  },
  {
   "cell_type": "code",
   "execution_count": null,
   "metadata": {},
   "outputs": [],
   "source": [
    "def add(a: int, b: int) -> int:\n",
    "    return a+b\n",
    "\n",
    "result = add(3, 3.4)\n",
    "print(result) # 6.4 출력\n",
    "\n",
    "# add 함수의 b 매개변수는 int형이지만, 3.4와 같은 float형 데이터를 사용해도 코드는 문제없이 돌아간다.\n",
    "# 파이썬 타입 어노테이션은 체크가 아닌 힌트이기 때문이다."
   ]
  }
 ],
 "metadata": {
  "kernelspec": {
   "display_name": "mlcl",
   "language": "python",
   "name": "python3"
  },
  "language_info": {
   "codemirror_mode": {
    "name": "ipython",
    "version": 3
   },
   "file_extension": ".py",
   "mimetype": "text/x-python",
   "name": "python",
   "nbconvert_exporter": "python",
   "pygments_lexer": "ipython3",
   "version": "3.8.16"
  },
  "orig_nbformat": 4
 },
 "nbformat": 4,
 "nbformat_minor": 2
}
