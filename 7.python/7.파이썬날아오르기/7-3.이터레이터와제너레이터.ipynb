{
 "cells": [
  {
   "attachments": {},
   "cell_type": "markdown",
   "metadata": {},
   "source": [
    "7-3. 이터레이터와 제너레이터\n",
    "\n",
    "- 반복 구문에 적용할 수 있는 리스트와 같은 객체를 '반복가능(iterable) 객체' 라고 한다."
   ]
  },
  {
   "attachments": {},
   "cell_type": "markdown",
   "metadata": {},
   "source": [
    "1. 이터레이터란?\n",
    "2. 이터레이터 만들기\n",
    "3. 제너레이터란?\n",
    "4. 제너레이터 표현식\n",
    "5. 제너레이터와 이터레이터\n",
    "6. 제너레이터 활용하기"
   ]
  },
  {
   "attachments": {},
   "cell_type": "markdown",
   "metadata": {},
   "source": [
    "### 1. 이터레이터란?\n",
    "\n",
    "- 이터레이터는 next 함수 호출 시 계속 그 다음 값을 리턴하는 객체\n"
   ]
  },
  {
   "cell_type": "code",
   "execution_count": 5,
   "metadata": {},
   "outputs": [
    {
     "data": {
      "text/plain": [
       "list_iterator"
      ]
     },
     "execution_count": 5,
     "metadata": {},
     "output_type": "execute_result"
    }
   ],
   "source": [
    "# 리스트는 iterable하다는 것을 알았는데... 리스트는 이터레이터일까?\n",
    "\n",
    "a = [1, 2, 3]\n",
    "# next(a)\n",
    "\n",
    "    # 리스트는 iterator가 아니라는 오류가 나왔다.\n",
    "    # 반복이 가능하다고 해서 이터레이터가 아니라는 말\n",
    "    # 반복 가능하다면 iter 함수를 이용해 이터레이터로 만들 수 있다.\n",
    "\n",
    "ia = iter(a)    \n",
    "type(ia)"
   ]
  },
  {
   "cell_type": "code",
   "execution_count": 6,
   "metadata": {},
   "outputs": [
    {
     "data": {
      "text/plain": [
       "1"
      ]
     },
     "execution_count": 6,
     "metadata": {},
     "output_type": "execute_result"
    }
   ],
   "source": [
    "next(ia)"
   ]
  },
  {
   "cell_type": "code",
   "execution_count": 7,
   "metadata": {},
   "outputs": [
    {
     "data": {
      "text/plain": [
       "2"
      ]
     },
     "execution_count": 7,
     "metadata": {},
     "output_type": "execute_result"
    }
   ],
   "source": [
    "next(ia)"
   ]
  },
  {
   "cell_type": "code",
   "execution_count": 9,
   "metadata": {},
   "outputs": [
    {
     "ename": "StopIteration",
     "evalue": "",
     "output_type": "error",
     "traceback": [
      "\u001b[0;31m---------------------------------------------------------------------------\u001b[0m",
      "\u001b[0;31mStopIteration\u001b[0m                             Traceback (most recent call last)",
      "Cell \u001b[0;32mIn[9], line 1\u001b[0m\n\u001b[0;32m----> 1\u001b[0m \u001b[39mnext\u001b[39;49m(ia)\n",
      "\u001b[0;31mStopIteration\u001b[0m: "
     ]
    }
   ],
   "source": [
    "next(ia)\n",
    "\n",
    "    # 더이상 리턴할 값이 없다면 StopIteration 예외가 발생"
   ]
  },
  {
   "cell_type": "code",
   "execution_count": 10,
   "metadata": {},
   "outputs": [
    {
     "name": "stdout",
     "output_type": "stream",
     "text": [
      "1\n",
      "2\n",
      "3\n"
     ]
    }
   ],
   "source": [
    "# 이터레이터 값을 가져오는 방법은 for문을 이용하는 것이다.\n",
    "a = [1,2,3]\n",
    "ia = iter(a)\n",
    "for i in ia:\n",
    "    print(i)    "
   ]
  },
  {
   "cell_type": "code",
   "execution_count": 11,
   "metadata": {},
   "outputs": [],
   "source": [
    "for i in ia:\n",
    "    print(i)\n",
    "\n",
    "    # for 문을 반복하고 나면 다시 반복하면 그 값을 가져오지 못한다.\n",
    "    # 즉 for문이나 next로 그 값을 한번 읽으면 그 값을 다시 읽을 수 없다는 특징이 있따."
   ]
  },
  {
   "attachments": {},
   "cell_type": "markdown",
   "metadata": {},
   "source": [
    "### 2. 이터레이터 만들기\n",
    "\n",
    "- iter를 이용하면 리스트를 이터레이터로 만들 수 있었다.\n",
    "- 이터레이터는 클래스에 __iter__, __next__라는 2개의 메서드를 구현하여 만들 수 있다."
   ]
  },
  {
   "cell_type": "code",
   "execution_count": 15,
   "metadata": {},
   "outputs": [
    {
     "name": "stdout",
     "output_type": "stream",
     "text": [
      "1\n",
      "2\n",
      "3\n"
     ]
    }
   ],
   "source": [
    "class MyIterator:\n",
    "    def __init__(self, data):\n",
    "        self.data = data\n",
    "        self.position = 0\n",
    "\n",
    "    def __iter__(self):\n",
    "        return self\n",
    "\n",
    "    def __next__(self):\n",
    "        if self.position >= len(self.data):\n",
    "            raise StopIteration\n",
    "        result = self.data[self.position]\n",
    "        self.position += 1\n",
    "        return result\n",
    "    \n",
    "if __name__ == \"__main__\":\n",
    "    i = MyIterator([1,2,3])\n",
    "    for item in i:\n",
    "        print(item)"
   ]
  },
  {
   "attachments": {},
   "cell_type": "markdown",
   "metadata": {},
   "source": [
    "- 이터레이터 객체를 생성하기 위해서 iter 메서드와 next 메서드를 구현했다.\n",
    "- iter, next는 생성자 init와 마찬가지로 클래스에서 특별한 의미를 갖는 메서드이다.\n",
    "\n",
    "\n",
    "- 클래스에 iter 메서드를 구현하면 해당 클래스로 생성한 객체는 반복가능한 객체가 된다.\n",
    "- iter 메서드는 반복가능한 객체를 리턴해야 하며 보통 클래스의 객체를 의미하는 self를 리턴\n",
    "- 클래스에 iter 메서드를 구현할 경우 반듯 ㅣnext 함수를 구현해야한다.\n",
    "\n",
    "    \n",
    "- next 메서드는 반복 가능한 객체의 값을 차례대로 반환하는 역할\n",
    "- next 메서드는 for문을 수행하거나 next 함수 호출시 수행되므로\n",
    "- MyIterator 객체를 생성할 때 전달한 data를 하나씩 리턴하고 더 없다면 예외 처리"
   ]
  },
  {
   "cell_type": "code",
   "execution_count": 16,
   "metadata": {},
   "outputs": [
    {
     "name": "stdout",
     "output_type": "stream",
     "text": [
      "3\n",
      "2\n",
      "1\n"
     ]
    }
   ],
   "source": [
    "class ReverseIterator:\n",
    "    def __init__(self, data):\n",
    "        self.data = data\n",
    "        self.position = len(self.data) -1\n",
    "\n",
    "    def __iter__(self):\n",
    "        return self\n",
    "\n",
    "    def __next__(self):\n",
    "        if self.position < 0:\n",
    "            raise StopIteration\n",
    "        result = self.data[self.position]\n",
    "        self.position -= 1\n",
    "        return result\n",
    "    \n",
    "if __name__ == \"__main__\":\n",
    "    i = ReverseIterator([1,2,3])\n",
    "    for item in i:\n",
    "        print(item)\n",
    "\n",
    "        # ???. 바로 작동하는 이유?"
   ]
  },
  {
   "attachments": {},
   "cell_type": "markdown",
   "metadata": {},
   "source": [
    "### 2. 제너레이터란?\n",
    "\n",
    "- 제너레이터는 이터레이터를 생성해준느 함수\n",
    "- 제너레이터로 생성한 객체는 이터레이터와 마찬가지로 next 함수 호출 시 차례대로 얻을 수 잇다.\n",
    "- 단, return이 아니라 yield 키워드를 사용한다. "
   ]
  },
  {
   "cell_type": "code",
   "execution_count": 17,
   "metadata": {},
   "outputs": [
    {
     "data": {
      "text/plain": [
       "generator"
      ]
     },
     "execution_count": 17,
     "metadata": {},
     "output_type": "execute_result"
    }
   ],
   "source": [
    "def mygen():\n",
    "    yield 'a'\n",
    "    yield 'b'\n",
    "    yield 'c'\n",
    "g = mygen()\n",
    "type(g)\n",
    "\n",
    "    # yield 구문을 포함하므로 제너레이터이다.\n",
    "    # type 명령어로 보면 제너레이터 타입의 객체 확인 가능"
   ]
  },
  {
   "cell_type": "code",
   "execution_count": 18,
   "metadata": {},
   "outputs": [
    {
     "data": {
      "text/plain": [
       "'a'"
      ]
     },
     "execution_count": 18,
     "metadata": {},
     "output_type": "execute_result"
    }
   ],
   "source": [
    "next(g)\n",
    "    # 제너레이터 객체 g로 next 함수를 실행하면  yield문에 따라 a 값을 리턴\n",
    "    # ???. yield 문장을 만나면 그 값을 리턴하되 현재 상태를 그대로 기억한다\n",
    "    \n",
    "    # 3개의 yield 문이 있으므로 네번째 next를 호출할 때는 더는 리턴할 값이 없으므로\n",
    "    # StopItaration 예외가 발생한다."
   ]
  },
  {
   "attachments": {},
   "cell_type": "markdown",
   "metadata": {},
   "source": [
    "### 3. 제너레이터 표현식"
   ]
  },
  {
   "cell_type": "code",
   "execution_count": null,
   "metadata": {},
   "outputs": [],
   "source": [
    "def mygen():\n",
    "    for i in range(1, 1000):\n",
    "        result = i * i\n",
    "        yield result\n",
    "\n",
    "gen = mygen()\n",
    "\n",
    "print(next(gen))\n",
    "print(next(gen))\n",
    "print(next(gen))\n",
    "    # 제곱한 값을 순서대로 리턴하는 제너레이터\n",
    "\n",
    "gen = (i * i for i in range(1, 1000))\n",
    "    # mygen 함수로 만든 제너레이터와 완전히 똑같이 기능\n",
    "    # 리스트 컴프리헨션 구문과 비슷하다.\n",
    "    # 다만 리스트 대신 튜플을 이용한것이 다르다\n",
    "    # 위를 제너레이터 표현식이라고 부른다."
   ]
  },
  {
   "attachments": {},
   "cell_type": "markdown",
   "metadata": {},
   "source": [
    "### 4. 제너레이터와 이터레이터\n",
    "\n",
    "- 제너레이터와 이터레이터와 서로 상당히 비슷하다.\n",
    "- 이터레이터\n",
    "    - 클래스를 이용해서 이터레이터를 작성하면 좀 더 복잡한 행동 구현\n",
    "- 제너레이터\n",
    "    - 간단하게 작성 가능\n",
    "( 이터레이터의 성격에 따라 클래스로 만들것인지, 제너레이터로 만들 것인지 )\n",
    "\n",
    "- 간단한 경우 제너레이터 함수나 제너레이터 표현식을 사용하는 것이 가독성이나 유지 보수 측면에서 유리"
   ]
  },
  {
   "cell_type": "code",
   "execution_count": null,
   "metadata": {},
   "outputs": [],
   "source": [
    "# (i * i for i in range(1, 1000))\n",
    "# 제너레이터를 이터레이터 클래스로 구현\n",
    "\n",
    "class MyIterator:\n",
    "    def __init__(self):\n",
    "        self.data = 1\n",
    "    \n",
    "    def __iter__(self):\n",
    "        return self\n",
    "    \n",
    "    def __next__(self):\n",
    "        result = self.data * self.data\n",
    "        self.data += 1\n",
    "        if self.data >= 1000:\n",
    "            raise StopIteration\n",
    "        return result\n",
    "    \n",
    "    # 위 처럼 간단한 경우라면 제너레이터 표현식을 사용하는 것이 훨씬 간편하고 이해하기 쉽다"
   ]
  },
  {
   "attachments": {},
   "cell_type": "markdown",
   "metadata": {},
   "source": [
    "### 5. 제너레이터 활용하기"
   ]
  },
  {
   "cell_type": "code",
   "execution_count": 22,
   "metadata": {},
   "outputs": [
    {
     "name": "stdout",
     "output_type": "stream",
     "text": [
      "job start\n",
      "job start\n",
      "job start\n",
      "job start\n",
      "job start\n",
      "done\n"
     ]
    }
   ],
   "source": [
    "# 제너레이터는 어떤 경우에 사용하면 좋을까?\n",
    "\n",
    "import time\n",
    "\n",
    "def longtime_job():\n",
    "    print(\"job start\")\n",
    "    time.sleep(1)   # 1초 지연\n",
    "    return \"done\"\n",
    "\n",
    "list_job = [longtime_job() for i in range(5)]\n",
    "print(list_job[4])\n",
    "\n",
    "    # ???. list job 의 인덱싱이 0~4이어도 왜 계속 똑같은가?\n",
    "    # ???. 리스트에 담고 0번이면 1번째를 가르켜야하는거 아닌가?"
   ]
  },
  {
   "cell_type": "code",
   "execution_count": 23,
   "metadata": {},
   "outputs": [
    {
     "name": "stdout",
     "output_type": "stream",
     "text": [
      "job start\n",
      "done\n"
     ]
    }
   ],
   "source": [
    "import time\n",
    "\n",
    "def longtime_job():\n",
    "    print(\"job start\")\n",
    "    time.sleep(1)   # 1초 지연\n",
    "    return \"done\"\n",
    "\n",
    "list_job = (longtime_job() for i in range(5))\n",
    "print(next(list_job))\n",
    "\n",
    "    # 제너레이터 표현식으로 5회가 아닌 1회만 호출이 된다\n",
    "    # 이러한 방식을 lazy evaluation(느긋한 계산법) 이라 한다.\n",
    "    # 시간이 오래 걸리는 작업을 한꺼번에 처리하기보다는 필요한 경우에만 호출하여 사용할때\n",
    "    # 제너레이터는 매우 유용"
   ]
  },
  {
   "attachments": {},
   "cell_type": "markdown",
   "metadata": {},
   "source": []
  }
 ],
 "metadata": {
  "kernelspec": {
   "display_name": "mlcl",
   "language": "python",
   "name": "python3"
  },
  "language_info": {
   "codemirror_mode": {
    "name": "ipython",
    "version": 3
   },
   "file_extension": ".py",
   "mimetype": "text/x-python",
   "name": "python",
   "nbconvert_exporter": "python",
   "pygments_lexer": "ipython3",
   "version": "3.8.16"
  },
  "orig_nbformat": 4
 },
 "nbformat": 4,
 "nbformat_minor": 2
}
